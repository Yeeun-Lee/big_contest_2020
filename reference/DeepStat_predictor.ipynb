{
 "cells": [
  {
   "cell_type": "markdown",
   "metadata": {},
   "source": [
    "## 딥러닝과 통계모델을 이용한 T-커머스 매출 예측\n",
    "\n",
    "### Process\n",
    "1. Sales record(실적 데이터)\n",
    "2. weighted avverage of hourly product sales\n",
    "3. sparsity control by Gaussian smoothing along time\n",
    "4. Sparsity control by SVD\n",
    "5. Decay by last sales day\n"
   ]
  },
  {
   "cell_type": "code",
   "execution_count": 1,
   "metadata": {},
   "outputs": [],
   "source": [
    "import numpy as np\n",
    "import pandas as pd\n",
    "import os"
   ]
  },
  {
   "cell_type": "code",
   "execution_count": 2,
   "metadata": {},
   "outputs": [],
   "source": [
    "def drop_unnamed(data):\n",
    "    names = data.columns\n",
    "    for name in names:\n",
    "        if \"Unnamed\" in name:\n",
    "            data.pop(name)\n",
    "    return data"
   ]
  },
  {
   "cell_type": "markdown",
   "metadata": {},
   "source": [
    "### Load Performance data\n",
    "\n",
    "Dtypes check"
   ]
  },
  {
   "cell_type": "code",
   "execution_count": 66,
   "metadata": {},
   "outputs": [
    {
     "data": {
      "text/html": [
       "<div>\n",
       "<style scoped>\n",
       "    .dataframe tbody tr th:only-of-type {\n",
       "        vertical-align: middle;\n",
       "    }\n",
       "\n",
       "    .dataframe tbody tr th {\n",
       "        vertical-align: top;\n",
       "    }\n",
       "\n",
       "    .dataframe thead th {\n",
       "        text-align: right;\n",
       "    }\n",
       "</style>\n",
       "<table border=\"1\" class=\"dataframe\">\n",
       "  <thead>\n",
       "    <tr style=\"text-align: right;\">\n",
       "      <th></th>\n",
       "      <th>방송일시</th>\n",
       "      <th>노출(분)</th>\n",
       "      <th>마더코드</th>\n",
       "      <th>상품코드</th>\n",
       "      <th>상품명</th>\n",
       "      <th>상품군</th>\n",
       "      <th>판매단가</th>\n",
       "      <th>취급액</th>\n",
       "      <th>date</th>\n",
       "      <th>week</th>\n",
       "      <th>time</th>\n",
       "      <th>hour</th>\n",
       "      <th>prime</th>\n",
       "      <th>real_date</th>\n",
       "      <th>설명</th>\n",
       "      <th>IsHoliday</th>\n",
       "      <th>지속휴일수</th>\n",
       "      <th>TEMP</th>\n",
       "      <th>HUM</th>\n",
       "      <th>weekofyear</th>\n",
       "    </tr>\n",
       "  </thead>\n",
       "  <tbody>\n",
       "    <tr>\n",
       "      <th>0</th>\n",
       "      <td>2019-01-01 06:00:00</td>\n",
       "      <td>20.0</td>\n",
       "      <td>100346</td>\n",
       "      <td>201072</td>\n",
       "      <td>테이트 남성 셀린니트3종</td>\n",
       "      <td>의류</td>\n",
       "      <td>39900</td>\n",
       "      <td>2099000.0</td>\n",
       "      <td>2019-01-01 00:00:00</td>\n",
       "      <td>1</td>\n",
       "      <td>06:00:00</td>\n",
       "      <td>6</td>\n",
       "      <td>0</td>\n",
       "      <td>2019-01-01 00:00:00</td>\n",
       "      <td>새해</td>\n",
       "      <td>1.0</td>\n",
       "      <td>1.0</td>\n",
       "      <td>-6.576974</td>\n",
       "      <td>63.524958</td>\n",
       "      <td>1</td>\n",
       "    </tr>\n",
       "    <tr>\n",
       "      <th>1</th>\n",
       "      <td>2019-01-01 06:00:00</td>\n",
       "      <td>20.0</td>\n",
       "      <td>100346</td>\n",
       "      <td>201079</td>\n",
       "      <td>테이트 여성 셀린니트3종</td>\n",
       "      <td>의류</td>\n",
       "      <td>39900</td>\n",
       "      <td>4371000.0</td>\n",
       "      <td>2019-01-01 00:00:00</td>\n",
       "      <td>1</td>\n",
       "      <td>06:00:00</td>\n",
       "      <td>6</td>\n",
       "      <td>0</td>\n",
       "      <td>2019-01-01 00:00:00</td>\n",
       "      <td>새해</td>\n",
       "      <td>1.0</td>\n",
       "      <td>1.0</td>\n",
       "      <td>-6.576974</td>\n",
       "      <td>63.524958</td>\n",
       "      <td>1</td>\n",
       "    </tr>\n",
       "  </tbody>\n",
       "</table>\n",
       "</div>"
      ],
      "text/plain": [
       "                  방송일시  노출(분)    마더코드    상품코드            상품명 상품군   판매단가  \\\n",
       "0  2019-01-01 06:00:00   20.0  100346  201072  테이트 남성 셀린니트3종  의류  39900   \n",
       "1  2019-01-01 06:00:00   20.0  100346  201079  테이트 여성 셀린니트3종  의류  39900   \n",
       "\n",
       "         취급액                 date  week      time  hour  prime  \\\n",
       "0  2099000.0  2019-01-01 00:00:00     1  06:00:00     6      0   \n",
       "1  4371000.0  2019-01-01 00:00:00     1  06:00:00     6      0   \n",
       "\n",
       "             real_date  설명  IsHoliday  지속휴일수      TEMP        HUM  weekofyear  \n",
       "0  2019-01-01 00:00:00  새해        1.0    1.0 -6.576974  63.524958           1  \n",
       "1  2019-01-01 00:00:00  새해        1.0    1.0 -6.576974  63.524958           1  "
      ]
     },
     "execution_count": 66,
     "metadata": {},
     "output_type": "execute_result"
    }
   ],
   "source": [
    "pf = pd.read_csv(\"/home/yeeunlee/bigcon2020_parrot/prep/data/final_performance_v2.csv\")\n",
    "pf = drop_unnamed(pf)\n",
    "pf.head(2)"
   ]
  },
  {
   "cell_type": "code",
   "execution_count": 4,
   "metadata": {},
   "outputs": [
    {
     "name": "stdout",
     "output_type": "stream",
     "text": [
      "<class 'pandas.core.frame.DataFrame'>\n",
      "RangeIndex: 35379 entries, 0 to 35378\n",
      "Data columns (total 20 columns):\n",
      " #   Column      Non-Null Count  Dtype  \n",
      "---  ------      --------------  -----  \n",
      " 0   방송일시        35379 non-null  object \n",
      " 1   노출(분)       35379 non-null  float64\n",
      " 2   마더코드        35379 non-null  int64  \n",
      " 3   상품코드        35379 non-null  int64  \n",
      " 4   상품명         35379 non-null  object \n",
      " 5   상품군         35379 non-null  object \n",
      " 6   판매단가        35379 non-null  int64  \n",
      " 7   취급액         35379 non-null  float64\n",
      " 8   date        35379 non-null  object \n",
      " 9   week        35379 non-null  int64  \n",
      " 10  time        35379 non-null  object \n",
      " 11  hour        35379 non-null  int64  \n",
      " 12  prime       35379 non-null  int64  \n",
      " 13  real_date   35379 non-null  object \n",
      " 14  설명          1672 non-null   object \n",
      " 15  IsHoliday   35379 non-null  float64\n",
      " 16  지속휴일수       35379 non-null  float64\n",
      " 17  TEMP        35379 non-null  float64\n",
      " 18  HUM         35379 non-null  float64\n",
      " 19  weekofyear  35379 non-null  int64  \n",
      "dtypes: float64(6), int64(7), object(7)\n",
      "memory usage: 5.4+ MB\n"
     ]
    }
   ],
   "source": [
    "pf.info()"
   ]
  },
  {
   "cell_type": "code",
   "execution_count": 5,
   "metadata": {},
   "outputs": [
    {
     "data": {
      "text/html": [
       "<div>\n",
       "<style scoped>\n",
       "    .dataframe tbody tr th:only-of-type {\n",
       "        vertical-align: middle;\n",
       "    }\n",
       "\n",
       "    .dataframe tbody tr th {\n",
       "        vertical-align: top;\n",
       "    }\n",
       "\n",
       "    .dataframe thead th {\n",
       "        text-align: right;\n",
       "    }\n",
       "</style>\n",
       "<table border=\"1\" class=\"dataframe\">\n",
       "  <thead>\n",
       "    <tr style=\"text-align: right;\">\n",
       "      <th></th>\n",
       "      <th>방송일시</th>\n",
       "      <th>date</th>\n",
       "      <th>상품코드</th>\n",
       "      <th>노출(분)</th>\n",
       "      <th>stage</th>\n",
       "    </tr>\n",
       "  </thead>\n",
       "  <tbody>\n",
       "    <tr>\n",
       "      <th>0</th>\n",
       "      <td>2019-01-01 06:00:00</td>\n",
       "      <td>2019-01-01 00:00:00</td>\n",
       "      <td>201072</td>\n",
       "      <td>20.0</td>\n",
       "      <td>early</td>\n",
       "    </tr>\n",
       "    <tr>\n",
       "      <th>1</th>\n",
       "      <td>2019-01-01 06:20:00</td>\n",
       "      <td>2019-01-01 00:00:00</td>\n",
       "      <td>201072</td>\n",
       "      <td>20.0</td>\n",
       "      <td>mid</td>\n",
       "    </tr>\n",
       "    <tr>\n",
       "      <th>2</th>\n",
       "      <td>2019-01-01 06:40:00</td>\n",
       "      <td>2019-01-01 00:00:00</td>\n",
       "      <td>201072</td>\n",
       "      <td>20.0</td>\n",
       "      <td>late</td>\n",
       "    </tr>\n",
       "    <tr>\n",
       "      <th>3</th>\n",
       "      <td>2019-01-01 06:00:00</td>\n",
       "      <td>2019-01-01 00:00:00</td>\n",
       "      <td>201079</td>\n",
       "      <td>20.0</td>\n",
       "      <td>early</td>\n",
       "    </tr>\n",
       "    <tr>\n",
       "      <th>4</th>\n",
       "      <td>2019-01-01 06:20:00</td>\n",
       "      <td>2019-01-01 00:00:00</td>\n",
       "      <td>201079</td>\n",
       "      <td>20.0</td>\n",
       "      <td>mid</td>\n",
       "    </tr>\n",
       "  </tbody>\n",
       "</table>\n",
       "</div>"
      ],
      "text/plain": [
       "                  방송일시                 date    상품코드  노출(분)  stage\n",
       "0  2019-01-01 06:00:00  2019-01-01 00:00:00  201072   20.0  early\n",
       "1  2019-01-01 06:20:00  2019-01-01 00:00:00  201072   20.0    mid\n",
       "2  2019-01-01 06:40:00  2019-01-01 00:00:00  201072   20.0   late\n",
       "3  2019-01-01 06:00:00  2019-01-01 00:00:00  201079   20.0  early\n",
       "4  2019-01-01 06:20:00  2019-01-01 00:00:00  201079   20.0    mid"
      ]
     },
     "execution_count": 5,
     "metadata": {},
     "output_type": "execute_result"
    }
   ],
   "source": [
    "stage = pd.read_csv(\"/home/yeeunlee/bigcon2020_parrot/prep/stage_1.csv\")\n",
    "stage.head()"
   ]
  },
  {
   "cell_type": "code",
   "execution_count": 6,
   "metadata": {},
   "outputs": [
    {
     "data": {
      "text/html": [
       "<div>\n",
       "<style scoped>\n",
       "    .dataframe tbody tr th:only-of-type {\n",
       "        vertical-align: middle;\n",
       "    }\n",
       "\n",
       "    .dataframe tbody tr th {\n",
       "        vertical-align: top;\n",
       "    }\n",
       "\n",
       "    .dataframe thead th {\n",
       "        text-align: right;\n",
       "    }\n",
       "</style>\n",
       "<table border=\"1\" class=\"dataframe\">\n",
       "  <thead>\n",
       "    <tr style=\"text-align: right;\">\n",
       "      <th></th>\n",
       "      <th>방송일시</th>\n",
       "      <th>노출(분)</th>\n",
       "      <th>마더코드</th>\n",
       "      <th>상품코드</th>\n",
       "      <th>상품명</th>\n",
       "      <th>상품군</th>\n",
       "      <th>판매단가</th>\n",
       "      <th>취급액</th>\n",
       "      <th>date</th>\n",
       "      <th>week</th>\n",
       "      <th>...</th>\n",
       "      <th>hour</th>\n",
       "      <th>prime</th>\n",
       "      <th>real_date</th>\n",
       "      <th>설명</th>\n",
       "      <th>IsHoliday</th>\n",
       "      <th>지속휴일수</th>\n",
       "      <th>TEMP</th>\n",
       "      <th>HUM</th>\n",
       "      <th>weekofyear</th>\n",
       "      <th>stage</th>\n",
       "    </tr>\n",
       "  </thead>\n",
       "  <tbody>\n",
       "    <tr>\n",
       "      <th>0</th>\n",
       "      <td>2019-01-01 06:00:00</td>\n",
       "      <td>20.0</td>\n",
       "      <td>100346</td>\n",
       "      <td>201072</td>\n",
       "      <td>테이트 남성 셀린니트3종</td>\n",
       "      <td>의류</td>\n",
       "      <td>39900</td>\n",
       "      <td>2099000.0</td>\n",
       "      <td>2019-01-01 00:00:00</td>\n",
       "      <td>1</td>\n",
       "      <td>...</td>\n",
       "      <td>6</td>\n",
       "      <td>0</td>\n",
       "      <td>2019-01-01 00:00:00</td>\n",
       "      <td>새해</td>\n",
       "      <td>1.0</td>\n",
       "      <td>1.0</td>\n",
       "      <td>-6.576974</td>\n",
       "      <td>63.524958</td>\n",
       "      <td>1</td>\n",
       "      <td>early</td>\n",
       "    </tr>\n",
       "    <tr>\n",
       "      <th>1</th>\n",
       "      <td>2019-01-01 06:00:00</td>\n",
       "      <td>20.0</td>\n",
       "      <td>100346</td>\n",
       "      <td>201079</td>\n",
       "      <td>테이트 여성 셀린니트3종</td>\n",
       "      <td>의류</td>\n",
       "      <td>39900</td>\n",
       "      <td>4371000.0</td>\n",
       "      <td>2019-01-01 00:00:00</td>\n",
       "      <td>1</td>\n",
       "      <td>...</td>\n",
       "      <td>6</td>\n",
       "      <td>0</td>\n",
       "      <td>2019-01-01 00:00:00</td>\n",
       "      <td>새해</td>\n",
       "      <td>1.0</td>\n",
       "      <td>1.0</td>\n",
       "      <td>-6.576974</td>\n",
       "      <td>63.524958</td>\n",
       "      <td>1</td>\n",
       "      <td>early</td>\n",
       "    </tr>\n",
       "  </tbody>\n",
       "</table>\n",
       "<p>2 rows × 21 columns</p>\n",
       "</div>"
      ],
      "text/plain": [
       "                  방송일시  노출(분)    마더코드    상품코드            상품명 상품군   판매단가  \\\n",
       "0  2019-01-01 06:00:00   20.0  100346  201072  테이트 남성 셀린니트3종  의류  39900   \n",
       "1  2019-01-01 06:00:00   20.0  100346  201079  테이트 여성 셀린니트3종  의류  39900   \n",
       "\n",
       "         취급액                 date  week  ... hour  prime            real_date  \\\n",
       "0  2099000.0  2019-01-01 00:00:00     1  ...    6      0  2019-01-01 00:00:00   \n",
       "1  4371000.0  2019-01-01 00:00:00     1  ...    6      0  2019-01-01 00:00:00   \n",
       "\n",
       "   설명 IsHoliday  지속휴일수      TEMP        HUM  weekofyear  stage  \n",
       "0  새해       1.0    1.0 -6.576974  63.524958           1  early  \n",
       "1  새해       1.0    1.0 -6.576974  63.524958           1  early  \n",
       "\n",
       "[2 rows x 21 columns]"
      ]
     },
     "execution_count": 6,
     "metadata": {},
     "output_type": "execute_result"
    }
   ],
   "source": [
    "pf = pf.merge(stage[['방송일시', '상품코드', 'stage']], on = ['방송일시', '상품코드'])\n",
    "pf.head(2)"
   ]
  },
  {
   "cell_type": "code",
   "execution_count": 7,
   "metadata": {},
   "outputs": [],
   "source": [
    "import sklearn\n",
    "from sklearn.preprocessing import LabelEncoder, MinMaxScaler\n",
    "from sklearn.model_selection import train_test_split\n",
    "from tqdm.auto import tqdm\n",
    "import gc"
   ]
  },
  {
   "cell_type": "code",
   "execution_count": 20,
   "metadata": {},
   "outputs": [
    {
     "name": "stdout",
     "output_type": "stream",
     "text": [
      "(31841, 21)\n",
      "(3538, 21)\n"
     ]
    }
   ],
   "source": [
    "pf_train, pf_valid = train_test_split(pf, test_size = 0.1, random_state = 123457)\n",
    "print(pf_train.shape)\n",
    "print(pf_valid.shape)"
   ]
  },
  {
   "cell_type": "markdown",
   "metadata": {},
   "source": [
    "### Encoding\n",
    "\n",
    "timestamp는 object type으로 뜨지만 encoding으로 변환하면 안되므로, encoders를 구성할 때 object type columns를 미리 지정해준다.(obj)"
   ]
  },
  {
   "cell_type": "code",
   "execution_count": 21,
   "metadata": {},
   "outputs": [
    {
     "name": "stderr",
     "output_type": "stream",
     "text": [
      "/usr/local/lib/python3.6/dist-packages/ipykernel_launcher.py:5: SettingWithCopyWarning: \n",
      "A value is trying to be set on a copy of a slice from a DataFrame.\n",
      "Try using .loc[row_indexer,col_indexer] = value instead\n",
      "\n",
      "See the caveats in the documentation: https://pandas.pydata.org/pandas-docs/stable/user_guide/indexing.html#returning-a-view-versus-a-copy\n",
      "  \"\"\"\n"
     ]
    }
   ],
   "source": [
    "# data type set\n",
    "obj = ['마더코드', '상품코드', '상품군', 'week', 'hour', 'weekofyear']\n",
    "\n",
    "for col in obj:\n",
    "    pf_train[col] = pf_train[col].astype('U')\n",
    "\n",
    "del pf_train['설명']"
   ]
  },
  {
   "cell_type": "code",
   "execution_count": 22,
   "metadata": {},
   "outputs": [
    {
     "name": "stdout",
     "output_type": "stream",
     "text": [
      "<class 'pandas.core.frame.DataFrame'>\n",
      "Int64Index: 31841 entries, 15609 to 29649\n",
      "Data columns (total 20 columns):\n",
      " #   Column      Non-Null Count  Dtype  \n",
      "---  ------      --------------  -----  \n",
      " 0   방송일시        31841 non-null  object \n",
      " 1   노출(분)       31841 non-null  float64\n",
      " 2   마더코드        31841 non-null  object \n",
      " 3   상품코드        31841 non-null  object \n",
      " 4   상품명         31841 non-null  object \n",
      " 5   상품군         31841 non-null  object \n",
      " 6   판매단가        31841 non-null  int64  \n",
      " 7   취급액         31841 non-null  float64\n",
      " 8   date        31841 non-null  object \n",
      " 9   week        31841 non-null  object \n",
      " 10  time        31841 non-null  object \n",
      " 11  hour        31841 non-null  object \n",
      " 12  prime       31841 non-null  int64  \n",
      " 13  real_date   31841 non-null  object \n",
      " 14  IsHoliday   31841 non-null  float64\n",
      " 15  지속휴일수       31841 non-null  float64\n",
      " 16  TEMP        31841 non-null  float64\n",
      " 17  HUM         31841 non-null  float64\n",
      " 18  weekofyear  31841 non-null  object \n",
      " 19  stage       31841 non-null  object \n",
      "dtypes: float64(6), int64(2), object(12)\n",
      "memory usage: 5.1+ MB\n"
     ]
    }
   ],
   "source": [
    "pf_train.info()"
   ]
  },
  {
   "cell_type": "code",
   "execution_count": 23,
   "metadata": {},
   "outputs": [],
   "source": [
    "# Encoding into DECIMAL values\n",
    "dtypes = pf_train.dtypes\n",
    "encoders = {}\n",
    "\n",
    "# 미리 지정한 obj 컬럼들에 대해서만 인코딩 진행\n",
    "for column in obj:\n",
    "    if str(dtypes[column]) == 'object':\n",
    "        encoder = LabelEncoder()\n",
    "        encoder.fit(pf_train[column])\n",
    "        encoders[column] = encoder\n",
    "\n",
    "_data = pf_train.copy()\n",
    "for column in encoders.keys():\n",
    "    encoder = encoders[column]\n",
    "    np.save(column+'_train_classes.npy', encoder.classes_)\n",
    "    _data[column] = encoder.transform(pf_train[column])"
   ]
  },
  {
   "cell_type": "code",
   "execution_count": null,
   "metadata": {},
   "outputs": [],
   "source": [
    "encoders['마더코드'].classes_"
   ]
  },
  {
   "cell_type": "code",
   "execution_count": 24,
   "metadata": {
    "scrolled": true
   },
   "outputs": [
    {
     "data": {
      "text/html": [
       "<div>\n",
       "<style scoped>\n",
       "    .dataframe tbody tr th:only-of-type {\n",
       "        vertical-align: middle;\n",
       "    }\n",
       "\n",
       "    .dataframe tbody tr th {\n",
       "        vertical-align: top;\n",
       "    }\n",
       "\n",
       "    .dataframe thead th {\n",
       "        text-align: right;\n",
       "    }\n",
       "</style>\n",
       "<table border=\"1\" class=\"dataframe\">\n",
       "  <thead>\n",
       "    <tr style=\"text-align: right;\">\n",
       "      <th></th>\n",
       "      <th>방송일시</th>\n",
       "      <th>노출(분)</th>\n",
       "      <th>마더코드</th>\n",
       "      <th>상품코드</th>\n",
       "      <th>상품명</th>\n",
       "      <th>상품군</th>\n",
       "      <th>판매단가</th>\n",
       "      <th>취급액</th>\n",
       "      <th>date</th>\n",
       "      <th>week</th>\n",
       "      <th>time</th>\n",
       "      <th>hour</th>\n",
       "      <th>prime</th>\n",
       "      <th>real_date</th>\n",
       "      <th>IsHoliday</th>\n",
       "      <th>지속휴일수</th>\n",
       "      <th>TEMP</th>\n",
       "      <th>HUM</th>\n",
       "      <th>weekofyear</th>\n",
       "      <th>stage</th>\n",
       "    </tr>\n",
       "  </thead>\n",
       "  <tbody>\n",
       "    <tr>\n",
       "      <th>15609</th>\n",
       "      <td>2019-06-07 21:40:00</td>\n",
       "      <td>20.0</td>\n",
       "      <td>166</td>\n",
       "      <td>553</td>\n",
       "      <td>(무)[보루네오] 피올레 천연소가죽 소파 3인용</td>\n",
       "      <td>0</td>\n",
       "      <td>749000</td>\n",
       "      <td>5840000.0</td>\n",
       "      <td>2019-06-07 00:00:00</td>\n",
       "      <td>4</td>\n",
       "      <td>21:40:00</td>\n",
       "      <td>14</td>\n",
       "      <td>1</td>\n",
       "      <td>2019-06-07 00:00:00</td>\n",
       "      <td>0.0</td>\n",
       "      <td>0.0</td>\n",
       "      <td>19.221877</td>\n",
       "      <td>77.108243</td>\n",
       "      <td>15</td>\n",
       "      <td>late</td>\n",
       "    </tr>\n",
       "    <tr>\n",
       "      <th>25855</th>\n",
       "      <td>2019-09-21 13:40:00</td>\n",
       "      <td>10.0</td>\n",
       "      <td>12</td>\n",
       "      <td>16</td>\n",
       "      <td>AAD 소가죽 올데이슬립온</td>\n",
       "      <td>8</td>\n",
       "      <td>39000</td>\n",
       "      <td>18599000.0</td>\n",
       "      <td>2019-09-21 00:00:00</td>\n",
       "      <td>5</td>\n",
       "      <td>13:40:00</td>\n",
       "      <td>5</td>\n",
       "      <td>1</td>\n",
       "      <td>2019-09-21 00:00:00</td>\n",
       "      <td>1.0</td>\n",
       "      <td>2.0</td>\n",
       "      <td>19.665054</td>\n",
       "      <td>75.075588</td>\n",
       "      <td>31</td>\n",
       "      <td>late</td>\n",
       "    </tr>\n",
       "  </tbody>\n",
       "</table>\n",
       "</div>"
      ],
      "text/plain": [
       "                      방송일시  노출(분)  마더코드  상품코드                         상품명  \\\n",
       "15609  2019-06-07 21:40:00   20.0   166   553  (무)[보루네오] 피올레 천연소가죽 소파 3인용   \n",
       "25855  2019-09-21 13:40:00   10.0    12    16              AAD 소가죽 올데이슬립온   \n",
       "\n",
       "       상품군    판매단가         취급액                 date  week      time  hour  \\\n",
       "15609    0  749000   5840000.0  2019-06-07 00:00:00     4  21:40:00    14   \n",
       "25855    8   39000  18599000.0  2019-09-21 00:00:00     5  13:40:00     5   \n",
       "\n",
       "       prime            real_date  IsHoliday  지속휴일수       TEMP        HUM  \\\n",
       "15609      1  2019-06-07 00:00:00        0.0    0.0  19.221877  77.108243   \n",
       "25855      1  2019-09-21 00:00:00        1.0    2.0  19.665054  75.075588   \n",
       "\n",
       "       weekofyear stage  \n",
       "15609          15  late  \n",
       "25855          31  late  "
      ]
     },
     "execution_count": 24,
     "metadata": {},
     "output_type": "execute_result"
    }
   ],
   "source": [
    "_data.head(2)"
   ]
  },
  {
   "cell_type": "code",
   "execution_count": null,
   "metadata": {},
   "outputs": [],
   "source": [
    "encoders"
   ]
  },
  {
   "cell_type": "code",
   "execution_count": null,
   "metadata": {},
   "outputs": [],
   "source": [
    "_data['상품코드'].max()"
   ]
  },
  {
   "cell_type": "code",
   "execution_count": null,
   "metadata": {},
   "outputs": [],
   "source": [
    "len(_data)"
   ]
  },
  {
   "cell_type": "code",
   "execution_count": 25,
   "metadata": {},
   "outputs": [
    {
     "data": {
      "text/html": [
       "<div>\n",
       "<style scoped>\n",
       "    .dataframe tbody tr th:only-of-type {\n",
       "        vertical-align: middle;\n",
       "    }\n",
       "\n",
       "    .dataframe tbody tr th {\n",
       "        vertical-align: top;\n",
       "    }\n",
       "\n",
       "    .dataframe thead th {\n",
       "        text-align: right;\n",
       "    }\n",
       "</style>\n",
       "<table border=\"1\" class=\"dataframe\">\n",
       "  <thead>\n",
       "    <tr style=\"text-align: right;\">\n",
       "      <th></th>\n",
       "      <th>노출(분)</th>\n",
       "      <th>마더코드</th>\n",
       "      <th>상품코드</th>\n",
       "      <th>상품군</th>\n",
       "      <th>판매단가</th>\n",
       "      <th>취급액</th>\n",
       "      <th>week</th>\n",
       "      <th>hour</th>\n",
       "      <th>prime</th>\n",
       "      <th>IsHoliday</th>\n",
       "      <th>지속휴일수</th>\n",
       "      <th>TEMP</th>\n",
       "      <th>HUM</th>\n",
       "      <th>weekofyear</th>\n",
       "    </tr>\n",
       "  </thead>\n",
       "  <tbody>\n",
       "    <tr>\n",
       "      <th>count</th>\n",
       "      <td>31841.000000</td>\n",
       "      <td>31841.000000</td>\n",
       "      <td>31841.000000</td>\n",
       "      <td>31841.000000</td>\n",
       "      <td>3.184100e+04</td>\n",
       "      <td>3.184100e+04</td>\n",
       "      <td>31841.000000</td>\n",
       "      <td>31841.000000</td>\n",
       "      <td>31841.000000</td>\n",
       "      <td>31841.000000</td>\n",
       "      <td>31841.000000</td>\n",
       "      <td>31841.000000</td>\n",
       "      <td>31841.000000</td>\n",
       "      <td>31841.000000</td>\n",
       "    </tr>\n",
       "    <tr>\n",
       "      <th>mean</th>\n",
       "      <td>20.340387</td>\n",
       "      <td>323.000471</td>\n",
       "      <td>987.485883</td>\n",
       "      <td>5.075940</td>\n",
       "      <td>3.885730e+05</td>\n",
       "      <td>2.313602e+07</td>\n",
       "      <td>3.004083</td>\n",
       "      <td>10.278038</td>\n",
       "      <td>0.351905</td>\n",
       "      <td>0.321410</td>\n",
       "      <td>0.706322</td>\n",
       "      <td>13.936443</td>\n",
       "      <td>62.501395</td>\n",
       "      <td>24.995289</td>\n",
       "    </tr>\n",
       "    <tr>\n",
       "      <th>std</th>\n",
       "      <td>3.086391</td>\n",
       "      <td>204.507911</td>\n",
       "      <td>598.064627</td>\n",
       "      <td>3.051538</td>\n",
       "      <td>6.282720e+05</td>\n",
       "      <td>2.003681e+07</td>\n",
       "      <td>2.008880</td>\n",
       "      <td>6.037835</td>\n",
       "      <td>0.477572</td>\n",
       "      <td>0.467025</td>\n",
       "      <td>1.114529</td>\n",
       "      <td>9.633709</td>\n",
       "      <td>18.177993</td>\n",
       "      <td>15.026389</td>\n",
       "    </tr>\n",
       "    <tr>\n",
       "      <th>min</th>\n",
       "      <td>2.466667</td>\n",
       "      <td>0.000000</td>\n",
       "      <td>0.000000</td>\n",
       "      <td>0.000000</td>\n",
       "      <td>1.280000e+04</td>\n",
       "      <td>1.030000e+05</td>\n",
       "      <td>0.000000</td>\n",
       "      <td>0.000000</td>\n",
       "      <td>0.000000</td>\n",
       "      <td>0.000000</td>\n",
       "      <td>0.000000</td>\n",
       "      <td>-8.577640</td>\n",
       "      <td>16.928262</td>\n",
       "      <td>0.000000</td>\n",
       "    </tr>\n",
       "    <tr>\n",
       "      <th>25%</th>\n",
       "      <td>20.000000</td>\n",
       "      <td>122.000000</td>\n",
       "      <td>445.000000</td>\n",
       "      <td>3.000000</td>\n",
       "      <td>5.900000e+04</td>\n",
       "      <td>8.016000e+06</td>\n",
       "      <td>1.000000</td>\n",
       "      <td>5.000000</td>\n",
       "      <td>0.000000</td>\n",
       "      <td>0.000000</td>\n",
       "      <td>0.000000</td>\n",
       "      <td>5.623889</td>\n",
       "      <td>49.195754</td>\n",
       "      <td>12.000000</td>\n",
       "    </tr>\n",
       "    <tr>\n",
       "      <th>50%</th>\n",
       "      <td>20.000000</td>\n",
       "      <td>302.000000</td>\n",
       "      <td>949.000000</td>\n",
       "      <td>5.000000</td>\n",
       "      <td>9.900000e+04</td>\n",
       "      <td>1.738200e+07</td>\n",
       "      <td>3.000000</td>\n",
       "      <td>11.000000</td>\n",
       "      <td>0.000000</td>\n",
       "      <td>0.000000</td>\n",
       "      <td>0.000000</td>\n",
       "      <td>14.784775</td>\n",
       "      <td>63.524958</td>\n",
       "      <td>25.000000</td>\n",
       "    </tr>\n",
       "    <tr>\n",
       "      <th>75%</th>\n",
       "      <td>20.000000</td>\n",
       "      <td>492.000000</td>\n",
       "      <td>1504.000000</td>\n",
       "      <td>8.000000</td>\n",
       "      <td>3.990000e+05</td>\n",
       "      <td>3.279300e+07</td>\n",
       "      <td>5.000000</td>\n",
       "      <td>15.000000</td>\n",
       "      <td>1.000000</td>\n",
       "      <td>1.000000</td>\n",
       "      <td>2.000000</td>\n",
       "      <td>22.286536</td>\n",
       "      <td>77.467490</td>\n",
       "      <td>38.000000</td>\n",
       "    </tr>\n",
       "    <tr>\n",
       "      <th>max</th>\n",
       "      <td>40.000000</td>\n",
       "      <td>686.000000</td>\n",
       "      <td>2023.000000</td>\n",
       "      <td>10.000000</td>\n",
       "      <td>7.930000e+06</td>\n",
       "      <td>3.220090e+08</td>\n",
       "      <td>6.000000</td>\n",
       "      <td>20.000000</td>\n",
       "      <td>1.000000</td>\n",
       "      <td>1.000000</td>\n",
       "      <td>5.000000</td>\n",
       "      <td>33.703554</td>\n",
       "      <td>96.144207</td>\n",
       "      <td>51.000000</td>\n",
       "    </tr>\n",
       "  </tbody>\n",
       "</table>\n",
       "</div>"
      ],
      "text/plain": [
       "              노출(분)          마더코드          상품코드           상품군          판매단가  \\\n",
       "count  31841.000000  31841.000000  31841.000000  31841.000000  3.184100e+04   \n",
       "mean      20.340387    323.000471    987.485883      5.075940  3.885730e+05   \n",
       "std        3.086391    204.507911    598.064627      3.051538  6.282720e+05   \n",
       "min        2.466667      0.000000      0.000000      0.000000  1.280000e+04   \n",
       "25%       20.000000    122.000000    445.000000      3.000000  5.900000e+04   \n",
       "50%       20.000000    302.000000    949.000000      5.000000  9.900000e+04   \n",
       "75%       20.000000    492.000000   1504.000000      8.000000  3.990000e+05   \n",
       "max       40.000000    686.000000   2023.000000     10.000000  7.930000e+06   \n",
       "\n",
       "                취급액          week          hour         prime     IsHoliday  \\\n",
       "count  3.184100e+04  31841.000000  31841.000000  31841.000000  31841.000000   \n",
       "mean   2.313602e+07      3.004083     10.278038      0.351905      0.321410   \n",
       "std    2.003681e+07      2.008880      6.037835      0.477572      0.467025   \n",
       "min    1.030000e+05      0.000000      0.000000      0.000000      0.000000   \n",
       "25%    8.016000e+06      1.000000      5.000000      0.000000      0.000000   \n",
       "50%    1.738200e+07      3.000000     11.000000      0.000000      0.000000   \n",
       "75%    3.279300e+07      5.000000     15.000000      1.000000      1.000000   \n",
       "max    3.220090e+08      6.000000     20.000000      1.000000      1.000000   \n",
       "\n",
       "              지속휴일수          TEMP           HUM    weekofyear  \n",
       "count  31841.000000  31841.000000  31841.000000  31841.000000  \n",
       "mean       0.706322     13.936443     62.501395     24.995289  \n",
       "std        1.114529      9.633709     18.177993     15.026389  \n",
       "min        0.000000     -8.577640     16.928262      0.000000  \n",
       "25%        0.000000      5.623889     49.195754     12.000000  \n",
       "50%        0.000000     14.784775     63.524958     25.000000  \n",
       "75%        2.000000     22.286536     77.467490     38.000000  \n",
       "max        5.000000     33.703554     96.144207     51.000000  "
      ]
     },
     "execution_count": 25,
     "metadata": {},
     "output_type": "execute_result"
    }
   ],
   "source": [
    "_data.describe()"
   ]
  },
  {
   "cell_type": "markdown",
   "metadata": {},
   "source": [
    "binary encoding을 진행하기 전에 최대값을 이진수로 바꾸었을 때 제일 긴 값의 길이가 몇인지 확인한다."
   ]
  },
  {
   "cell_type": "code",
   "execution_count": 26,
   "metadata": {},
   "outputs": [
    {
     "data": {
      "text/plain": [
       "마더코드          10\n",
       "상품코드          11\n",
       "상품군            4\n",
       "week           3\n",
       "hour           5\n",
       "weekofyear     6\n",
       "Name: max, dtype: int64"
      ]
     },
     "execution_count": 26,
     "metadata": {},
     "output_type": "execute_result"
    }
   ],
   "source": [
    "_data.describe()[obj].loc['max'].apply(lambda x: len(bin(int(x)).replace(\"0b\", \"\")))"
   ]
  },
  {
   "cell_type": "code",
   "execution_count": 27,
   "metadata": {},
   "outputs": [],
   "source": [
    "# categorical variables to binary encoding\n",
    "# bin(max(_data['상품명'])).replace(\"0b\", '')\n",
    "\n",
    "def binary_encoding(name, x):\n",
    "    # x : column\n",
    "    if name == '마더코드':\n",
    "        value = bin(x).replace(\"0b\", \"\")\n",
    "        return list(map(int, '0'*(10-len(value))+value))\n",
    "    if name == '상품코드':\n",
    "        value = bin(x).replace(\"0b\", \"\")\n",
    "        return list(map(int, '0'*(11-len(value))+value))\n",
    "    if name == 'week':\n",
    "        value = bin(x).replace(\"0b\", \"\")\n",
    "        return list(map(int, '0'*(3-len(value))+value))\n",
    "    if name == 'hour':\n",
    "        value = bin(x).replace(\"0b\", \"\")\n",
    "        return list(map(int, '0'*(5-len(value))+value))\n",
    "    if name == 'weekofyear':\n",
    "        value = bin(x).replace(\"0b\", \"\")\n",
    "        return list(map(int, '0'*(6-len(value))+value))\n",
    "    else: # 상품군\n",
    "        value = bin(x).replace(\"0b\", \"\")\n",
    "        return list(map(int, '0'*(4-len(value))+value))\n",
    "    "
   ]
  },
  {
   "cell_type": "code",
   "execution_count": 28,
   "metadata": {},
   "outputs": [],
   "source": [
    "# 마더코드\n",
    "final = _data.copy()\n",
    "final[['m_'+str(i) for i in range(10)]] = _data['마더코드'].apply(lambda x: binary_encoding('마더코드', x)).to_list()\n",
    "# final.head(2)"
   ]
  },
  {
   "cell_type": "code",
   "execution_count": 29,
   "metadata": {},
   "outputs": [],
   "source": [
    "# 상품코드\n",
    "final[['p_'+str(i) for i in range(11)]] = _data['상품코드'].apply(lambda x: binary_encoding('상품코드', x)).to_list()\n",
    "# final.head(2)"
   ]
  },
  {
   "cell_type": "code",
   "execution_count": 30,
   "metadata": {
    "scrolled": false
   },
   "outputs": [],
   "source": [
    "# 상품군\n",
    "final[['g_'+str(i) for i in range(4)]] = _data['상품군'].apply(lambda x: binary_encoding('상품군', x)).to_list()\n",
    "# final.head(2)"
   ]
  },
  {
   "cell_type": "code",
   "execution_count": 31,
   "metadata": {},
   "outputs": [],
   "source": [
    "# week\n",
    "final[['wd_'+str(i) for i in range(3)]] = _data['week'].apply(lambda x: binary_encoding('week', x)).to_list()\n"
   ]
  },
  {
   "cell_type": "code",
   "execution_count": 32,
   "metadata": {},
   "outputs": [
    {
     "data": {
      "text/html": [
       "<div>\n",
       "<style scoped>\n",
       "    .dataframe tbody tr th:only-of-type {\n",
       "        vertical-align: middle;\n",
       "    }\n",
       "\n",
       "    .dataframe tbody tr th {\n",
       "        vertical-align: top;\n",
       "    }\n",
       "\n",
       "    .dataframe thead th {\n",
       "        text-align: right;\n",
       "    }\n",
       "</style>\n",
       "<table border=\"1\" class=\"dataframe\">\n",
       "  <thead>\n",
       "    <tr style=\"text-align: right;\">\n",
       "      <th></th>\n",
       "      <th>방송일시</th>\n",
       "      <th>노출(분)</th>\n",
       "      <th>마더코드</th>\n",
       "      <th>상품코드</th>\n",
       "      <th>상품명</th>\n",
       "      <th>상품군</th>\n",
       "      <th>판매단가</th>\n",
       "      <th>취급액</th>\n",
       "      <th>date</th>\n",
       "      <th>week</th>\n",
       "      <th>...</th>\n",
       "      <th>g_3</th>\n",
       "      <th>wd_0</th>\n",
       "      <th>wd_1</th>\n",
       "      <th>wd_2</th>\n",
       "      <th>wy_0</th>\n",
       "      <th>wy_1</th>\n",
       "      <th>wy_2</th>\n",
       "      <th>wy_3</th>\n",
       "      <th>wy_4</th>\n",
       "      <th>wy_5</th>\n",
       "    </tr>\n",
       "  </thead>\n",
       "  <tbody>\n",
       "    <tr>\n",
       "      <th>15609</th>\n",
       "      <td>2019-06-07 21:40:00</td>\n",
       "      <td>20.0</td>\n",
       "      <td>166</td>\n",
       "      <td>553</td>\n",
       "      <td>(무)[보루네오] 피올레 천연소가죽 소파 3인용</td>\n",
       "      <td>0</td>\n",
       "      <td>749000</td>\n",
       "      <td>5840000.0</td>\n",
       "      <td>2019-06-07 00:00:00</td>\n",
       "      <td>4</td>\n",
       "      <td>...</td>\n",
       "      <td>0</td>\n",
       "      <td>1</td>\n",
       "      <td>0</td>\n",
       "      <td>0</td>\n",
       "      <td>0</td>\n",
       "      <td>0</td>\n",
       "      <td>1</td>\n",
       "      <td>1</td>\n",
       "      <td>1</td>\n",
       "      <td>1</td>\n",
       "    </tr>\n",
       "    <tr>\n",
       "      <th>25855</th>\n",
       "      <td>2019-09-21 13:40:00</td>\n",
       "      <td>10.0</td>\n",
       "      <td>12</td>\n",
       "      <td>16</td>\n",
       "      <td>AAD 소가죽 올데이슬립온</td>\n",
       "      <td>8</td>\n",
       "      <td>39000</td>\n",
       "      <td>18599000.0</td>\n",
       "      <td>2019-09-21 00:00:00</td>\n",
       "      <td>5</td>\n",
       "      <td>...</td>\n",
       "      <td>0</td>\n",
       "      <td>1</td>\n",
       "      <td>0</td>\n",
       "      <td>1</td>\n",
       "      <td>0</td>\n",
       "      <td>1</td>\n",
       "      <td>1</td>\n",
       "      <td>1</td>\n",
       "      <td>1</td>\n",
       "      <td>1</td>\n",
       "    </tr>\n",
       "  </tbody>\n",
       "</table>\n",
       "<p>2 rows × 54 columns</p>\n",
       "</div>"
      ],
      "text/plain": [
       "                      방송일시  노출(분)  마더코드  상품코드                         상품명  \\\n",
       "15609  2019-06-07 21:40:00   20.0   166   553  (무)[보루네오] 피올레 천연소가죽 소파 3인용   \n",
       "25855  2019-09-21 13:40:00   10.0    12    16              AAD 소가죽 올데이슬립온   \n",
       "\n",
       "       상품군    판매단가         취급액                 date  week  ... g_3  wd_0  \\\n",
       "15609    0  749000   5840000.0  2019-06-07 00:00:00     4  ...   0     1   \n",
       "25855    8   39000  18599000.0  2019-09-21 00:00:00     5  ...   0     1   \n",
       "\n",
       "       wd_1 wd_2  wy_0  wy_1  wy_2  wy_3  wy_4 wy_5  \n",
       "15609     0    0     0     0     1     1     1    1  \n",
       "25855     0    1     0     1     1     1     1    1  \n",
       "\n",
       "[2 rows x 54 columns]"
      ]
     },
     "execution_count": 32,
     "metadata": {},
     "output_type": "execute_result"
    }
   ],
   "source": [
    "# weekofyear\n",
    "final[['wy_'+str(i) for i in range(6)]] = _data['weekofyear'].apply(lambda x: binary_encoding('weekofyear', x)).to_list()\n",
    "final.head(2)"
   ]
  },
  {
   "cell_type": "code",
   "execution_count": 33,
   "metadata": {},
   "outputs": [],
   "source": [
    "# hour\n",
    "final[['h_'+str(i) for i in range(5)]] = _data['hour'].apply(lambda x: binary_encoding('hour', x)).to_list()\n"
   ]
  },
  {
   "cell_type": "code",
   "execution_count": 43,
   "metadata": {},
   "outputs": [],
   "source": [
    "def encode_stage(x):\n",
    "    if x == 'early':\n",
    "        return 0\n",
    "    if x == 'mid':\n",
    "        return 1\n",
    "    else:\n",
    "        return 2"
   ]
  },
  {
   "cell_type": "code",
   "execution_count": 44,
   "metadata": {},
   "outputs": [],
   "source": [
    "final['stage'] = final['stage'].apply(lambda x: encode_stage(x))"
   ]
  },
  {
   "cell_type": "code",
   "execution_count": 45,
   "metadata": {},
   "outputs": [
    {
     "data": {
      "text/html": [
       "<div>\n",
       "<style scoped>\n",
       "    .dataframe tbody tr th:only-of-type {\n",
       "        vertical-align: middle;\n",
       "    }\n",
       "\n",
       "    .dataframe tbody tr th {\n",
       "        vertical-align: top;\n",
       "    }\n",
       "\n",
       "    .dataframe thead th {\n",
       "        text-align: right;\n",
       "    }\n",
       "</style>\n",
       "<table border=\"1\" class=\"dataframe\">\n",
       "  <thead>\n",
       "    <tr style=\"text-align: right;\">\n",
       "      <th></th>\n",
       "      <th>방송일시</th>\n",
       "      <th>노출(분)</th>\n",
       "      <th>마더코드</th>\n",
       "      <th>상품코드</th>\n",
       "      <th>상품명</th>\n",
       "      <th>상품군</th>\n",
       "      <th>판매단가</th>\n",
       "      <th>취급액</th>\n",
       "      <th>date</th>\n",
       "      <th>week</th>\n",
       "      <th>...</th>\n",
       "      <th>wy_1</th>\n",
       "      <th>wy_2</th>\n",
       "      <th>wy_3</th>\n",
       "      <th>wy_4</th>\n",
       "      <th>wy_5</th>\n",
       "      <th>h_0</th>\n",
       "      <th>h_1</th>\n",
       "      <th>h_2</th>\n",
       "      <th>h_3</th>\n",
       "      <th>h_4</th>\n",
       "    </tr>\n",
       "  </thead>\n",
       "  <tbody>\n",
       "    <tr>\n",
       "      <th>15609</th>\n",
       "      <td>2019-06-07 21:40:00</td>\n",
       "      <td>20.0</td>\n",
       "      <td>166</td>\n",
       "      <td>553</td>\n",
       "      <td>(무)[보루네오] 피올레 천연소가죽 소파 3인용</td>\n",
       "      <td>0</td>\n",
       "      <td>749000</td>\n",
       "      <td>5840000.0</td>\n",
       "      <td>2019-06-07 00:00:00</td>\n",
       "      <td>4</td>\n",
       "      <td>...</td>\n",
       "      <td>0</td>\n",
       "      <td>1</td>\n",
       "      <td>1</td>\n",
       "      <td>1</td>\n",
       "      <td>1</td>\n",
       "      <td>0</td>\n",
       "      <td>1</td>\n",
       "      <td>1</td>\n",
       "      <td>1</td>\n",
       "      <td>0</td>\n",
       "    </tr>\n",
       "    <tr>\n",
       "      <th>25855</th>\n",
       "      <td>2019-09-21 13:40:00</td>\n",
       "      <td>10.0</td>\n",
       "      <td>12</td>\n",
       "      <td>16</td>\n",
       "      <td>AAD 소가죽 올데이슬립온</td>\n",
       "      <td>8</td>\n",
       "      <td>39000</td>\n",
       "      <td>18599000.0</td>\n",
       "      <td>2019-09-21 00:00:00</td>\n",
       "      <td>5</td>\n",
       "      <td>...</td>\n",
       "      <td>1</td>\n",
       "      <td>1</td>\n",
       "      <td>1</td>\n",
       "      <td>1</td>\n",
       "      <td>1</td>\n",
       "      <td>0</td>\n",
       "      <td>0</td>\n",
       "      <td>1</td>\n",
       "      <td>0</td>\n",
       "      <td>1</td>\n",
       "    </tr>\n",
       "  </tbody>\n",
       "</table>\n",
       "<p>2 rows × 59 columns</p>\n",
       "</div>"
      ],
      "text/plain": [
       "                      방송일시  노출(분)  마더코드  상품코드                         상품명  \\\n",
       "15609  2019-06-07 21:40:00   20.0   166   553  (무)[보루네오] 피올레 천연소가죽 소파 3인용   \n",
       "25855  2019-09-21 13:40:00   10.0    12    16              AAD 소가죽 올데이슬립온   \n",
       "\n",
       "       상품군    판매단가         취급액                 date  week  ... wy_1  wy_2  \\\n",
       "15609    0  749000   5840000.0  2019-06-07 00:00:00     4  ...    0     1   \n",
       "25855    8   39000  18599000.0  2019-09-21 00:00:00     5  ...    1     1   \n",
       "\n",
       "       wy_3 wy_4  wy_5  h_0  h_1  h_2  h_3  h_4  \n",
       "15609     1    1     1    0    1    1    1    0  \n",
       "25855     1    1     1    0    0    1    0    1  \n",
       "\n",
       "[2 rows x 59 columns]"
      ]
     },
     "execution_count": 45,
     "metadata": {},
     "output_type": "execute_result"
    }
   ],
   "source": [
    "final.head(2)"
   ]
  },
  {
   "cell_type": "code",
   "execution_count": 46,
   "metadata": {},
   "outputs": [
    {
     "data": {
      "text/plain": [
       "15609    2\n",
       "25855    2\n",
       "31979    2\n",
       "12440    1\n",
       "9664     1\n",
       "        ..\n",
       "9077     2\n",
       "9503     2\n",
       "18667    2\n",
       "23556    0\n",
       "29649    0\n",
       "Name: stage, Length: 31841, dtype: int64"
      ]
     },
     "execution_count": 46,
     "metadata": {},
     "output_type": "execute_result"
    }
   ],
   "source": [
    "final['stage']"
   ]
  },
  {
   "cell_type": "code",
   "execution_count": 48,
   "metadata": {},
   "outputs": [],
   "source": [
    "final.to_csv(\"encoded_data_ver2.csv\", index = False)"
   ]
  },
  {
   "cell_type": "code",
   "execution_count": 56,
   "metadata": {},
   "outputs": [],
   "source": [
    "train = final.drop(['마더코드', '상품코드', '상품명', '상품군'], axis = 1)\n",
    "# display(train.head(2))\n",
    "# train.describe() "
   ]
  },
  {
   "cell_type": "code",
   "execution_count": 57,
   "metadata": {},
   "outputs": [
    {
     "data": {
      "text/html": [
       "<div>\n",
       "<style scoped>\n",
       "    .dataframe tbody tr th:only-of-type {\n",
       "        vertical-align: middle;\n",
       "    }\n",
       "\n",
       "    .dataframe tbody tr th {\n",
       "        vertical-align: top;\n",
       "    }\n",
       "\n",
       "    .dataframe thead th {\n",
       "        text-align: right;\n",
       "    }\n",
       "</style>\n",
       "<table border=\"1\" class=\"dataframe\">\n",
       "  <thead>\n",
       "    <tr style=\"text-align: right;\">\n",
       "      <th></th>\n",
       "      <th>노출(분)</th>\n",
       "      <th>판매단가</th>\n",
       "      <th>취급액</th>\n",
       "      <th>week</th>\n",
       "      <th>hour</th>\n",
       "      <th>prime</th>\n",
       "      <th>IsHoliday</th>\n",
       "      <th>지속휴일수</th>\n",
       "      <th>TEMP</th>\n",
       "      <th>HUM</th>\n",
       "      <th>...</th>\n",
       "      <th>wy_1</th>\n",
       "      <th>wy_2</th>\n",
       "      <th>wy_3</th>\n",
       "      <th>wy_4</th>\n",
       "      <th>wy_5</th>\n",
       "      <th>h_0</th>\n",
       "      <th>h_1</th>\n",
       "      <th>h_2</th>\n",
       "      <th>h_3</th>\n",
       "      <th>h_4</th>\n",
       "    </tr>\n",
       "  </thead>\n",
       "  <tbody>\n",
       "    <tr>\n",
       "      <th>15609</th>\n",
       "      <td>20.0</td>\n",
       "      <td>749000</td>\n",
       "      <td>5840000.0</td>\n",
       "      <td>4</td>\n",
       "      <td>14</td>\n",
       "      <td>1</td>\n",
       "      <td>0.0</td>\n",
       "      <td>0.0</td>\n",
       "      <td>19.221877</td>\n",
       "      <td>77.108243</td>\n",
       "      <td>...</td>\n",
       "      <td>0</td>\n",
       "      <td>1</td>\n",
       "      <td>1</td>\n",
       "      <td>1</td>\n",
       "      <td>1</td>\n",
       "      <td>0</td>\n",
       "      <td>1</td>\n",
       "      <td>1</td>\n",
       "      <td>1</td>\n",
       "      <td>0</td>\n",
       "    </tr>\n",
       "    <tr>\n",
       "      <th>25855</th>\n",
       "      <td>10.0</td>\n",
       "      <td>39000</td>\n",
       "      <td>18599000.0</td>\n",
       "      <td>5</td>\n",
       "      <td>5</td>\n",
       "      <td>1</td>\n",
       "      <td>1.0</td>\n",
       "      <td>2.0</td>\n",
       "      <td>19.665054</td>\n",
       "      <td>75.075588</td>\n",
       "      <td>...</td>\n",
       "      <td>1</td>\n",
       "      <td>1</td>\n",
       "      <td>1</td>\n",
       "      <td>1</td>\n",
       "      <td>1</td>\n",
       "      <td>0</td>\n",
       "      <td>0</td>\n",
       "      <td>1</td>\n",
       "      <td>0</td>\n",
       "      <td>1</td>\n",
       "    </tr>\n",
       "  </tbody>\n",
       "</table>\n",
       "<p>2 rows × 51 columns</p>\n",
       "</div>"
      ],
      "text/plain": [
       "       노출(분)    판매단가         취급액  week  hour  prime  IsHoliday  지속휴일수  \\\n",
       "15609   20.0  749000   5840000.0     4    14      1        0.0    0.0   \n",
       "25855   10.0   39000  18599000.0     5     5      1        1.0    2.0   \n",
       "\n",
       "            TEMP        HUM  ...  wy_1  wy_2  wy_3  wy_4  wy_5  h_0  h_1  h_2  \\\n",
       "15609  19.221877  77.108243  ...     0     1     1     1     1    0    1    1   \n",
       "25855  19.665054  75.075588  ...     1     1     1     1     1    0    0    1   \n",
       "\n",
       "       h_3  h_4  \n",
       "15609    1    0  \n",
       "25855    0    1  \n",
       "\n",
       "[2 rows x 51 columns]"
      ]
     },
     "execution_count": 57,
     "metadata": {},
     "output_type": "execute_result"
    }
   ],
   "source": [
    "train = train.drop(['방송일시', 'date', 'time', 'real_date'], axis = 1)\n",
    "train.head(2)"
   ]
  },
  {
   "cell_type": "markdown",
   "metadata": {},
   "source": [
    "### Scale (Min-Max Scaler)"
   ]
  },
  {
   "cell_type": "code",
   "execution_count": 51,
   "metadata": {},
   "outputs": [],
   "source": [
    "# scale dataset\n",
    "scaler = MinMaxScaler()\n",
    "cols = ['TEMP', 'HUM']\n",
    "train[cols] = scaler.fit_transform(train[cols])"
   ]
  },
  {
   "cell_type": "code",
   "execution_count": 52,
   "metadata": {},
   "outputs": [
    {
     "data": {
      "text/plain": [
       "(31841, 51)"
      ]
     },
     "execution_count": 52,
     "metadata": {},
     "output_type": "execute_result"
    }
   ],
   "source": [
    "train.shape"
   ]
  },
  {
   "cell_type": "markdown",
   "metadata": {},
   "source": [
    "## Modeling"
   ]
  },
  {
   "cell_type": "code",
   "execution_count": null,
   "metadata": {},
   "outputs": [],
   "source": [
    "import tensorflow as tf\n",
    "from tensorflow.keras.layers import Dense, Dropout, Flatten, Input\n",
    "from tensorflow.keras.layers import Embedding, LSTM, concatenate\n",
    "from tensorflow.keras.layers import Conv1D, MaxPool1D\n",
    "from tensorflow.keras.models import Sequential, Model\n",
    "from tensorflow.keras.optimizers import RMSprop\n",
    "import tensorflow.keras.backend as K\n",
    "print(tf.__version__)"
   ]
  },
  {
   "cell_type": "markdown",
   "metadata": {},
   "source": [
    "## Dataset"
   ]
  },
  {
   "cell_type": "code",
   "execution_count": 53,
   "metadata": {},
   "outputs": [
    {
     "name": "stdout",
     "output_type": "stream",
     "text": [
      "data shape :  (31841, 50)\n",
      "label shape :  (31841, 1)\n"
     ]
    }
   ],
   "source": [
    "X = train.drop(['취급액'], axis = 1)\n",
    "Y = train[['취급액']]\n",
    "print(\"data shape : \", X.shape)\n",
    "print(\"label shape : \" , Y.shape)"
   ]
  },
  {
   "cell_type": "markdown",
   "metadata": {},
   "source": [
    "## XGBoost"
   ]
  },
  {
   "cell_type": "code",
   "execution_count": null,
   "metadata": {},
   "outputs": [],
   "source": [
    "import xgboost as xgb\n",
    "import seaborn as sns"
   ]
  },
  {
   "cell_type": "code",
   "execution_count": null,
   "metadata": {},
   "outputs": [],
   "source": [
    "xgb.__version__"
   ]
  },
  {
   "cell_type": "code",
   "execution_count": null,
   "metadata": {},
   "outputs": [],
   "source": [
    "model1 = xgb.XGBRegressor(learning_rate = 0.1,\n",
    "                          max_depth = 20,\n",
    "                          n_estimators = 100)"
   ]
  },
  {
   "cell_type": "code",
   "execution_count": null,
   "metadata": {},
   "outputs": [],
   "source": [
    "model1.fit(x_train, y_train)"
   ]
  },
  {
   "cell_type": "code",
   "execution_count": null,
   "metadata": {},
   "outputs": [],
   "source": [
    "# y_train = y_train.values.reshape(y_train.shape[0],)\n",
    "y_valid = y_valid.values.reshape(y_valid.shape[0],)"
   ]
  },
  {
   "cell_type": "code",
   "execution_count": null,
   "metadata": {},
   "outputs": [],
   "source": [
    "sns.scatterplot(y_train, model1.predict(x_train))"
   ]
  },
  {
   "cell_type": "code",
   "execution_count": null,
   "metadata": {},
   "outputs": [],
   "source": [
    "y_pred = model1.predict(x_valid)\n",
    "sns.scatterplot(y_valid, y_pred)"
   ]
  },
  {
   "cell_type": "code",
   "execution_count": null,
   "metadata": {},
   "outputs": [],
   "source": [
    "model1.score(x_valid, y_valid)"
   ]
  },
  {
   "cell_type": "code",
   "execution_count": 41,
   "metadata": {},
   "outputs": [],
   "source": [
    "from sklearn.metrics import accuracy_score\n",
    "from sklearn.utils import check_array\n",
    "def mean_absolute_percentage_error(y_true, y_pred): \n",
    "    y_true, y_pred = check_array(y_true, y_pred)\n",
    "\n",
    "    ## Note: does not handle mix 1d representation\n",
    "    #if _is_1d(y_true): \n",
    "    #    y_true, y_pred = _check_1d_array(y_true, y_pred)\n",
    "\n",
    "    return ('MAPE', np.mean(np.abs((y_true - y_pred) / y_true)))"
   ]
  },
  {
   "cell_type": "code",
   "execution_count": null,
   "metadata": {
    "scrolled": true
   },
   "outputs": [],
   "source": [
    "mean_absolute_percentage_error(y_valid, y_pred)"
   ]
  },
  {
   "cell_type": "code",
   "execution_count": null,
   "metadata": {},
   "outputs": [],
   "source": [
    "model2 = xgb.XGBRegressor(learning_rate = 0.1,\n",
    "                          objective = mean_absolute_percentage_error,\n",
    "                          max_depth = 20,\n",
    "                          n_estimators = 100)"
   ]
  },
  {
   "cell_type": "code",
   "execution_count": null,
   "metadata": {},
   "outputs": [],
   "source": [
    "y_train =y_train[:, np.newaxis]\n",
    "y_train.shape"
   ]
  },
  {
   "cell_type": "code",
   "execution_count": null,
   "metadata": {},
   "outputs": [],
   "source": [
    "model2.fit(x_train, y_train,\n",
    "          eval_set = [(x_train, y_train), (x_valid, y_valid)])"
   ]
  },
  {
   "cell_type": "code",
   "execution_count": null,
   "metadata": {},
   "outputs": [],
   "source": [
    "model1.save_model(\"xgb20.json\")"
   ]
  },
  {
   "cell_type": "markdown",
   "metadata": {},
   "source": [
    "## Random Forest"
   ]
  },
  {
   "cell_type": "code",
   "execution_count": 58,
   "metadata": {},
   "outputs": [
    {
     "name": "stderr",
     "output_type": "stream",
     "text": [
      "/usr/local/lib/python3.6/dist-packages/ipykernel_launcher.py:5: DataConversionWarning: A column-vector y was passed when a 1d array was expected. Please change the shape of y to (n_samples,), for example using ravel().\n",
      "  \"\"\"\n"
     ]
    },
    {
     "data": {
      "text/plain": [
       "RandomForestRegressor(max_depth=100, random_state=0)"
      ]
     },
     "execution_count": 58,
     "metadata": {},
     "output_type": "execute_result"
    }
   ],
   "source": [
    "from sklearn.ensemble import RandomForestRegressor\n",
    "\n",
    "rf = RandomForestRegressor(max_depth = 100,\n",
    "                           random_state = 0)\n",
    "rf.fit(X, Y)"
   ]
  },
  {
   "cell_type": "markdown",
   "metadata": {},
   "source": [
    "### Filtering"
   ]
  },
  {
   "cell_type": "code",
   "execution_count": 55,
   "metadata": {},
   "outputs": [
    {
     "data": {
      "text/html": [
       "<div>\n",
       "<style scoped>\n",
       "    .dataframe tbody tr th:only-of-type {\n",
       "        vertical-align: middle;\n",
       "    }\n",
       "\n",
       "    .dataframe tbody tr th {\n",
       "        vertical-align: top;\n",
       "    }\n",
       "\n",
       "    .dataframe thead th {\n",
       "        text-align: right;\n",
       "    }\n",
       "</style>\n",
       "<table border=\"1\" class=\"dataframe\">\n",
       "  <thead>\n",
       "    <tr style=\"text-align: right;\">\n",
       "      <th></th>\n",
       "      <th>방송일시</th>\n",
       "      <th>노출(분)</th>\n",
       "      <th>마더코드</th>\n",
       "      <th>상품코드</th>\n",
       "      <th>상품명</th>\n",
       "      <th>상품군</th>\n",
       "      <th>판매단가</th>\n",
       "      <th>취급액</th>\n",
       "      <th>date</th>\n",
       "      <th>week</th>\n",
       "      <th>...</th>\n",
       "      <th>hour</th>\n",
       "      <th>prime</th>\n",
       "      <th>real_date</th>\n",
       "      <th>설명</th>\n",
       "      <th>IsHoliday</th>\n",
       "      <th>지속휴일수</th>\n",
       "      <th>TEMP</th>\n",
       "      <th>HUM</th>\n",
       "      <th>weekofyear</th>\n",
       "      <th>stage</th>\n",
       "    </tr>\n",
       "  </thead>\n",
       "  <tbody>\n",
       "    <tr>\n",
       "      <th>3611</th>\n",
       "      <td>2019-02-09 23:20:00</td>\n",
       "      <td>20.0</td>\n",
       "      <td>100585</td>\n",
       "      <td>201801</td>\n",
       "      <td>임페리얼 여성 울 블렌딩 니트 3종</td>\n",
       "      <td>의류</td>\n",
       "      <td>49000</td>\n",
       "      <td>16797000.0</td>\n",
       "      <td>2019-02-09 00:00:00</td>\n",
       "      <td>5</td>\n",
       "      <td>...</td>\n",
       "      <td>23</td>\n",
       "      <td>0</td>\n",
       "      <td>2019-02-09 00:00:00</td>\n",
       "      <td>NaN</td>\n",
       "      <td>1.0</td>\n",
       "      <td>2.0</td>\n",
       "      <td>-4.328142</td>\n",
       "      <td>36.256716</td>\n",
       "      <td>6</td>\n",
       "      <td>mid</td>\n",
       "    </tr>\n",
       "    <tr>\n",
       "      <th>27653</th>\n",
       "      <td>2019-10-09 10:40:00</td>\n",
       "      <td>20.0</td>\n",
       "      <td>100753</td>\n",
       "      <td>202202</td>\n",
       "      <td>아가타 골든 마스터 2종 (펌프스1종+플랫슈즈1종)</td>\n",
       "      <td>잡화</td>\n",
       "      <td>59900</td>\n",
       "      <td>82482000.0</td>\n",
       "      <td>2019-10-09 00:00:00</td>\n",
       "      <td>2</td>\n",
       "      <td>...</td>\n",
       "      <td>10</td>\n",
       "      <td>0</td>\n",
       "      <td>2019-10-09 00:00:00</td>\n",
       "      <td>한글날</td>\n",
       "      <td>1.0</td>\n",
       "      <td>1.0</td>\n",
       "      <td>14.708759</td>\n",
       "      <td>50.103458</td>\n",
       "      <td>41</td>\n",
       "      <td>late</td>\n",
       "    </tr>\n",
       "  </tbody>\n",
       "</table>\n",
       "<p>2 rows × 21 columns</p>\n",
       "</div>"
      ],
      "text/plain": [
       "                      방송일시  노출(분)    마더코드    상품코드  \\\n",
       "3611   2019-02-09 23:20:00   20.0  100585  201801   \n",
       "27653  2019-10-09 10:40:00   20.0  100753  202202   \n",
       "\n",
       "                                상품명 상품군   판매단가         취급액  \\\n",
       "3611            임페리얼 여성 울 블렌딩 니트 3종  의류  49000  16797000.0   \n",
       "27653  아가타 골든 마스터 2종 (펌프스1종+플랫슈즈1종)  잡화  59900  82482000.0   \n",
       "\n",
       "                      date  week  ... hour  prime            real_date   설명  \\\n",
       "3611   2019-02-09 00:00:00     5  ...   23      0  2019-02-09 00:00:00  NaN   \n",
       "27653  2019-10-09 00:00:00     2  ...   10      0  2019-10-09 00:00:00  한글날   \n",
       "\n",
       "      IsHoliday  지속휴일수       TEMP        HUM  weekofyear  stage  \n",
       "3611        1.0    2.0  -4.328142  36.256716           6    mid  \n",
       "27653       1.0    1.0  14.708759  50.103458          41   late  \n",
       "\n",
       "[2 rows x 21 columns]"
      ]
     },
     "execution_count": 55,
     "metadata": {},
     "output_type": "execute_result"
    }
   ],
   "source": [
    "pf_valid.head(2)"
   ]
  },
  {
   "cell_type": "code",
   "execution_count": 59,
   "metadata": {},
   "outputs": [
    {
     "name": "stderr",
     "output_type": "stream",
     "text": [
      "/usr/local/lib/python3.6/dist-packages/ipykernel_launcher.py:3: SettingWithCopyWarning: \n",
      "A value is trying to be set on a copy of a slice from a DataFrame.\n",
      "Try using .loc[row_indexer,col_indexer] = value instead\n",
      "\n",
      "See the caveats in the documentation: https://pandas.pydata.org/pandas-docs/stable/user_guide/indexing.html#returning-a-view-versus-a-copy\n",
      "  This is separate from the ipykernel package so we can avoid doing imports until\n"
     ]
    }
   ],
   "source": [
    "# data type set\n",
    "for col in obj:\n",
    "    pf_valid[col] = pf_valid[col].astype('U')\n",
    "\n",
    "del pf_valid['설명']"
   ]
  },
  {
   "cell_type": "code",
   "execution_count": 61,
   "metadata": {},
   "outputs": [
    {
     "name": "stderr",
     "output_type": "stream",
     "text": [
      "/usr/local/lib/python3.6/dist-packages/ipykernel_launcher.py:1: SettingWithCopyWarning: \n",
      "A value is trying to be set on a copy of a slice from a DataFrame.\n",
      "Try using .loc[row_indexer,col_indexer] = value instead\n",
      "\n",
      "See the caveats in the documentation: https://pandas.pydata.org/pandas-docs/stable/user_guide/indexing.html#returning-a-view-versus-a-copy\n",
      "  \"\"\"Entry point for launching an IPython kernel.\n"
     ]
    },
    {
     "data": {
      "text/html": [
       "<div>\n",
       "<style scoped>\n",
       "    .dataframe tbody tr th:only-of-type {\n",
       "        vertical-align: middle;\n",
       "    }\n",
       "\n",
       "    .dataframe tbody tr th {\n",
       "        vertical-align: top;\n",
       "    }\n",
       "\n",
       "    .dataframe thead th {\n",
       "        text-align: right;\n",
       "    }\n",
       "</style>\n",
       "<table border=\"1\" class=\"dataframe\">\n",
       "  <thead>\n",
       "    <tr style=\"text-align: right;\">\n",
       "      <th></th>\n",
       "      <th>노출(분)</th>\n",
       "      <th>판매단가</th>\n",
       "      <th>취급액</th>\n",
       "      <th>week</th>\n",
       "      <th>hour</th>\n",
       "      <th>prime</th>\n",
       "      <th>IsHoliday</th>\n",
       "      <th>지속휴일수</th>\n",
       "      <th>TEMP</th>\n",
       "      <th>HUM</th>\n",
       "      <th>weekofyear</th>\n",
       "      <th>stage</th>\n",
       "    </tr>\n",
       "  </thead>\n",
       "  <tbody>\n",
       "    <tr>\n",
       "      <th>3611</th>\n",
       "      <td>20.0</td>\n",
       "      <td>49000</td>\n",
       "      <td>16797000.0</td>\n",
       "      <td>5</td>\n",
       "      <td>23</td>\n",
       "      <td>0</td>\n",
       "      <td>1.0</td>\n",
       "      <td>2.0</td>\n",
       "      <td>-4.328142</td>\n",
       "      <td>36.256716</td>\n",
       "      <td>6</td>\n",
       "      <td>1</td>\n",
       "    </tr>\n",
       "    <tr>\n",
       "      <th>27653</th>\n",
       "      <td>20.0</td>\n",
       "      <td>59900</td>\n",
       "      <td>82482000.0</td>\n",
       "      <td>2</td>\n",
       "      <td>10</td>\n",
       "      <td>0</td>\n",
       "      <td>1.0</td>\n",
       "      <td>1.0</td>\n",
       "      <td>14.708759</td>\n",
       "      <td>50.103458</td>\n",
       "      <td>41</td>\n",
       "      <td>2</td>\n",
       "    </tr>\n",
       "    <tr>\n",
       "      <th>21684</th>\n",
       "      <td>20.0</td>\n",
       "      <td>79000</td>\n",
       "      <td>14795000.0</td>\n",
       "      <td>4</td>\n",
       "      <td>10</td>\n",
       "      <td>0</td>\n",
       "      <td>0.0</td>\n",
       "      <td>0.0</td>\n",
       "      <td>29.186814</td>\n",
       "      <td>70.736485</td>\n",
       "      <td>32</td>\n",
       "      <td>0</td>\n",
       "    </tr>\n",
       "    <tr>\n",
       "      <th>25128</th>\n",
       "      <td>20.0</td>\n",
       "      <td>55900</td>\n",
       "      <td>55171000.0</td>\n",
       "      <td>5</td>\n",
       "      <td>16</td>\n",
       "      <td>1</td>\n",
       "      <td>1.0</td>\n",
       "      <td>4.0</td>\n",
       "      <td>24.353742</td>\n",
       "      <td>76.226286</td>\n",
       "      <td>37</td>\n",
       "      <td>2</td>\n",
       "    </tr>\n",
       "    <tr>\n",
       "      <th>16944</th>\n",
       "      <td>20.0</td>\n",
       "      <td>89000</td>\n",
       "      <td>23745000.0</td>\n",
       "      <td>4</td>\n",
       "      <td>23</td>\n",
       "      <td>0</td>\n",
       "      <td>0.0</td>\n",
       "      <td>0.0</td>\n",
       "      <td>19.769987</td>\n",
       "      <td>81.130585</td>\n",
       "      <td>25</td>\n",
       "      <td>2</td>\n",
       "    </tr>\n",
       "  </tbody>\n",
       "</table>\n",
       "</div>"
      ],
      "text/plain": [
       "       노출(분)   판매단가         취급액 week hour  prime  IsHoliday  지속휴일수       TEMP  \\\n",
       "3611    20.0  49000  16797000.0    5   23      0        1.0    2.0  -4.328142   \n",
       "27653   20.0  59900  82482000.0    2   10      0        1.0    1.0  14.708759   \n",
       "21684   20.0  79000  14795000.0    4   10      0        0.0    0.0  29.186814   \n",
       "25128   20.0  55900  55171000.0    5   16      1        1.0    4.0  24.353742   \n",
       "16944   20.0  89000  23745000.0    4   23      0        0.0    0.0  19.769987   \n",
       "\n",
       "             HUM weekofyear  stage  \n",
       "3611   36.256716          6      1  \n",
       "27653  50.103458         41      2  \n",
       "21684  70.736485         32      0  \n",
       "25128  76.226286         37      2  \n",
       "16944  81.130585         25      2  "
      ]
     },
     "execution_count": 61,
     "metadata": {},
     "output_type": "execute_result"
    }
   ],
   "source": [
    "pf_valid['stage'] = pf_valid['stage'].apply(lambda x: encode_stage(x))\n",
    "valid = pf_valid.drop(['마더코드', '상품코드', '상품명', '상품군',\n",
    "                      '방송일시', 'date', 'time', 'real_date'], axis = 1)\n",
    "valid.head()"
   ]
  },
  {
   "cell_type": "code",
   "execution_count": 63,
   "metadata": {},
   "outputs": [],
   "source": [
    "m_classes = np.load('마더코드_train_classes.npy')\n",
    "p_classes = np.load('상품코드_train_classes.npy')\n",
    "# s_classes = np.load('reference/stage_classes.npy')\n",
    "g_classes = np.load('상품군_train_classes.npy')"
   ]
  },
  {
   "cell_type": "code",
   "execution_count": null,
   "metadata": {},
   "outputs": [],
   "source": [
    "final = []\n",
    "values = valid.values\n",
    "for i in range(len(values)):\n",
    "    # 상품코드가 인코더 안에 있는지 확인\n",
    "    if values[i][1] in p_classes:\n",
    "        final.append(values[i])\n",
    "    else:\n",
    "        # 마더코드가 인코더 안에 있는지 확인\n",
    "        if values[i][0] in m_classes:\n",
    "            temp = train.loc[train['마더코드'] == np.where(m_classes == values[i][1])[0][0]]\n",
    "            # 판매단가 차가 최소인 row를 추가함.\n",
    "            temp['sub'] = abs(temp['판매단가'] - values[i][3])\n",
    "            final.append(train.iloc[temp['sub'].idxmin()].values)\n",
    "        else:\n",
    "            if values[i][2] in g_classes:\n",
    "                temp = train.loc[train['상품군'] == np.where(g_classes == values[i][2])[0][0]]\n",
    "                # 판매단가 차가 최소인 row를 추가함.\n",
    "                temp['sub'] = abs(temp['판매단가'] - values[i][3])\n",
    "                final.append(train.iloc[temp['sub'].idxmin()].values)"
   ]
  },
  {
   "cell_type": "code",
   "execution_count": null,
   "metadata": {},
   "outputs": [],
   "source": [
    "# week\n",
    "final[['wd_'+str(i) for i in range(3)]] = _data['week'].apply(lambda x: binary_encoding('week', x)).to_list()\n",
    "\n",
    "# weekofyear\n",
    "valid[['wy_'+str(i) for i in range(6)]] = _data['weekofyear'].apply(lambda x: binary_encoding('weekofyear', x)).to_list()\n",
    "final.head(2)"
   ]
  },
  {
   "cell_type": "code",
   "execution_count": null,
   "metadata": {
    "scrolled": true
   },
   "outputs": [],
   "source": [
    "rf_pred = rf.predict(x_valid)\n",
    "mean_absolute_percentage_error(y_valid, rf_pred)"
   ]
  },
  {
   "cell_type": "code",
   "execution_count": null,
   "metadata": {},
   "outputs": [],
   "source": [
    "sns.scatterplot(y_valid, rf_pred)"
   ]
  },
  {
   "cell_type": "code",
   "execution_count": null,
   "metadata": {},
   "outputs": [],
   "source": [
    "rf.score(x_train, y_train)"
   ]
  },
  {
   "cell_type": "code",
   "execution_count": null,
   "metadata": {},
   "outputs": [],
   "source": [
    "rf.score(x_valid, y_valid)"
   ]
  },
  {
   "cell_type": "markdown",
   "metadata": {},
   "source": [
    "## stack 3 RF models"
   ]
  },
  {
   "cell_type": "code",
   "execution_count": null,
   "metadata": {},
   "outputs": [],
   "source": [
    "rf_1 = RandomForestRegressor(max_depth = 30,\n",
    "                           random_state = 1)\n",
    "rf_1.fit(x_train, y_train)"
   ]
  },
  {
   "cell_type": "code",
   "execution_count": null,
   "metadata": {},
   "outputs": [],
   "source": [
    "rf_2 = RandomForestRegressor(max_depth = 20,\n",
    "                           random_state = 0)\n",
    "rf_2.fit(x_train, y_train)"
   ]
  },
  {
   "cell_type": "code",
   "execution_count": null,
   "metadata": {},
   "outputs": [],
   "source": [
    "rf1_pred = rf_1.predict(x_valid)\n",
    "rf2_pred = rf_2.predict(x_valid)"
   ]
  },
  {
   "cell_type": "code",
   "execution_count": null,
   "metadata": {},
   "outputs": [],
   "source": [
    "rf_3 = (rf_pred+rf1_pred+rf2_pred) / 3\n",
    "rf_3"
   ]
  },
  {
   "cell_type": "code",
   "execution_count": null,
   "metadata": {},
   "outputs": [],
   "source": [
    "mean_absolute_percentage_error(y_valid, rf_3)"
   ]
  },
  {
   "cell_type": "code",
   "execution_count": null,
   "metadata": {},
   "outputs": [],
   "source": [
    "sns.scatterplot(y_valid, rf_3)"
   ]
  },
  {
   "cell_type": "markdown",
   "metadata": {},
   "source": [
    "## LightGBM"
   ]
  },
  {
   "cell_type": "code",
   "execution_count": null,
   "metadata": {},
   "outputs": [],
   "source": []
  }
 ],
 "metadata": {
  "kernelspec": {
   "display_name": "Python 3",
   "language": "python",
   "name": "python3"
  },
  "language_info": {
   "codemirror_mode": {
    "name": "ipython",
    "version": 3
   },
   "file_extension": ".py",
   "mimetype": "text/x-python",
   "name": "python",
   "nbconvert_exporter": "python",
   "pygments_lexer": "ipython3",
   "version": "3.6.9"
  }
 },
 "nbformat": 4,
 "nbformat_minor": 4
}
