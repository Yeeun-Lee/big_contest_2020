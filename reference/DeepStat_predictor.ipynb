{
 "cells": [
  {
   "cell_type": "markdown",
   "metadata": {},
   "source": [
    "## 딥러닝과 통계모델을 이용한 T-커머스 매출 예측\n",
    "\n",
    "### Process\n",
    "1. Sales record(실적 데이터)\n",
    "2. weighted avverage of hourly product sales\n",
    "3. sparsity control by Gaussian smoothing along time\n",
    "4. Sparsity control by SVD\n",
    "5. Decay by last sales day\n"
   ]
  },
  {
   "cell_type": "code",
   "execution_count": 1,
   "metadata": {},
   "outputs": [],
   "source": [
    "import numpy as np\n",
    "import pandas as pd\n",
    "import os"
   ]
  },
  {
   "cell_type": "code",
   "execution_count": 2,
   "metadata": {},
   "outputs": [],
   "source": [
    "def drop_unnamed(data):\n",
    "    names = data.columns\n",
    "    for name in names:\n",
    "        if \"Unnamed\" in name:\n",
    "            data.pop(name)\n",
    "    return data"
   ]
  },
  {
   "cell_type": "markdown",
   "metadata": {},
   "source": [
    "### Load Performance data\n",
    "\n",
    "Dtypes check"
   ]
  },
  {
   "cell_type": "code",
   "execution_count": 3,
   "metadata": {},
   "outputs": [
    {
     "data": {
      "text/html": [
       "<div>\n",
       "<style scoped>\n",
       "    .dataframe tbody tr th:only-of-type {\n",
       "        vertical-align: middle;\n",
       "    }\n",
       "\n",
       "    .dataframe tbody tr th {\n",
       "        vertical-align: top;\n",
       "    }\n",
       "\n",
       "    .dataframe thead th {\n",
       "        text-align: right;\n",
       "    }\n",
       "</style>\n",
       "<table border=\"1\" class=\"dataframe\">\n",
       "  <thead>\n",
       "    <tr style=\"text-align: right;\">\n",
       "      <th></th>\n",
       "      <th>방송일시</th>\n",
       "      <th>노출(분)</th>\n",
       "      <th>마더코드</th>\n",
       "      <th>상품코드</th>\n",
       "      <th>상품명</th>\n",
       "      <th>상품군</th>\n",
       "      <th>판매단가</th>\n",
       "      <th>취급액</th>\n",
       "      <th>date</th>\n",
       "      <th>week</th>\n",
       "      <th>time</th>\n",
       "      <th>hour</th>\n",
       "      <th>prime</th>\n",
       "      <th>real_date</th>\n",
       "      <th>설명</th>\n",
       "      <th>IsHoliday</th>\n",
       "      <th>지속휴일수</th>\n",
       "      <th>TEMP</th>\n",
       "      <th>HUM</th>\n",
       "      <th>weekofyear</th>\n",
       "    </tr>\n",
       "  </thead>\n",
       "  <tbody>\n",
       "    <tr>\n",
       "      <th>0</th>\n",
       "      <td>2019-01-01 06:00:00</td>\n",
       "      <td>20.0</td>\n",
       "      <td>100346</td>\n",
       "      <td>201072</td>\n",
       "      <td>테이트 남성 셀린니트3종</td>\n",
       "      <td>의류</td>\n",
       "      <td>39900</td>\n",
       "      <td>2099000.0</td>\n",
       "      <td>2019-01-01 00:00:00</td>\n",
       "      <td>1</td>\n",
       "      <td>06:00:00</td>\n",
       "      <td>6</td>\n",
       "      <td>0</td>\n",
       "      <td>2019-01-01 00:00:00</td>\n",
       "      <td>새해</td>\n",
       "      <td>1.0</td>\n",
       "      <td>1.0</td>\n",
       "      <td>-6.576974</td>\n",
       "      <td>63.524958</td>\n",
       "      <td>1</td>\n",
       "    </tr>\n",
       "    <tr>\n",
       "      <th>1</th>\n",
       "      <td>2019-01-01 06:00:00</td>\n",
       "      <td>20.0</td>\n",
       "      <td>100346</td>\n",
       "      <td>201079</td>\n",
       "      <td>테이트 여성 셀린니트3종</td>\n",
       "      <td>의류</td>\n",
       "      <td>39900</td>\n",
       "      <td>4371000.0</td>\n",
       "      <td>2019-01-01 00:00:00</td>\n",
       "      <td>1</td>\n",
       "      <td>06:00:00</td>\n",
       "      <td>6</td>\n",
       "      <td>0</td>\n",
       "      <td>2019-01-01 00:00:00</td>\n",
       "      <td>새해</td>\n",
       "      <td>1.0</td>\n",
       "      <td>1.0</td>\n",
       "      <td>-6.576974</td>\n",
       "      <td>63.524958</td>\n",
       "      <td>1</td>\n",
       "    </tr>\n",
       "  </tbody>\n",
       "</table>\n",
       "</div>"
      ],
      "text/plain": [
       "                  방송일시  노출(분)    마더코드    상품코드            상품명 상품군   판매단가  \\\n",
       "0  2019-01-01 06:00:00   20.0  100346  201072  테이트 남성 셀린니트3종  의류  39900   \n",
       "1  2019-01-01 06:00:00   20.0  100346  201079  테이트 여성 셀린니트3종  의류  39900   \n",
       "\n",
       "         취급액                 date  week      time  hour  prime  \\\n",
       "0  2099000.0  2019-01-01 00:00:00     1  06:00:00     6      0   \n",
       "1  4371000.0  2019-01-01 00:00:00     1  06:00:00     6      0   \n",
       "\n",
       "             real_date  설명  IsHoliday  지속휴일수      TEMP        HUM  weekofyear  \n",
       "0  2019-01-01 00:00:00  새해        1.0    1.0 -6.576974  63.524958           1  \n",
       "1  2019-01-01 00:00:00  새해        1.0    1.0 -6.576974  63.524958           1  "
      ]
     },
     "execution_count": 3,
     "metadata": {},
     "output_type": "execute_result"
    }
   ],
   "source": [
    "pf = pd.read_csv(\"/home/yeeunlee/bigcon2020_parrot/prep/data/final_performance_v2.csv\")\n",
    "pf = drop_unnamed(pf)\n",
    "pf.head(2)"
   ]
  },
  {
   "cell_type": "code",
   "execution_count": 4,
   "metadata": {},
   "outputs": [
    {
     "name": "stdout",
     "output_type": "stream",
     "text": [
      "<class 'pandas.core.frame.DataFrame'>\n",
      "RangeIndex: 35379 entries, 0 to 35378\n",
      "Data columns (total 20 columns):\n",
      " #   Column      Non-Null Count  Dtype  \n",
      "---  ------      --------------  -----  \n",
      " 0   방송일시        35379 non-null  object \n",
      " 1   노출(분)       35379 non-null  float64\n",
      " 2   마더코드        35379 non-null  int64  \n",
      " 3   상품코드        35379 non-null  int64  \n",
      " 4   상품명         35379 non-null  object \n",
      " 5   상품군         35379 non-null  object \n",
      " 6   판매단가        35379 non-null  int64  \n",
      " 7   취급액         35379 non-null  float64\n",
      " 8   date        35379 non-null  object \n",
      " 9   week        35379 non-null  int64  \n",
      " 10  time        35379 non-null  object \n",
      " 11  hour        35379 non-null  int64  \n",
      " 12  prime       35379 non-null  int64  \n",
      " 13  real_date   35379 non-null  object \n",
      " 14  설명          1672 non-null   object \n",
      " 15  IsHoliday   35379 non-null  float64\n",
      " 16  지속휴일수       35379 non-null  float64\n",
      " 17  TEMP        35379 non-null  float64\n",
      " 18  HUM         35379 non-null  float64\n",
      " 19  weekofyear  35379 non-null  int64  \n",
      "dtypes: float64(6), int64(7), object(7)\n",
      "memory usage: 5.4+ MB\n"
     ]
    }
   ],
   "source": [
    "pf.info()"
   ]
  },
  {
   "cell_type": "code",
   "execution_count": 5,
   "metadata": {},
   "outputs": [
    {
     "data": {
      "text/html": [
       "<div>\n",
       "<style scoped>\n",
       "    .dataframe tbody tr th:only-of-type {\n",
       "        vertical-align: middle;\n",
       "    }\n",
       "\n",
       "    .dataframe tbody tr th {\n",
       "        vertical-align: top;\n",
       "    }\n",
       "\n",
       "    .dataframe thead th {\n",
       "        text-align: right;\n",
       "    }\n",
       "</style>\n",
       "<table border=\"1\" class=\"dataframe\">\n",
       "  <thead>\n",
       "    <tr style=\"text-align: right;\">\n",
       "      <th></th>\n",
       "      <th>방송일시</th>\n",
       "      <th>date</th>\n",
       "      <th>상품코드</th>\n",
       "      <th>노출(분)</th>\n",
       "      <th>stage</th>\n",
       "    </tr>\n",
       "  </thead>\n",
       "  <tbody>\n",
       "    <tr>\n",
       "      <th>0</th>\n",
       "      <td>2019-01-01 06:00:00</td>\n",
       "      <td>2019-01-01 00:00:00</td>\n",
       "      <td>201072</td>\n",
       "      <td>20.0</td>\n",
       "      <td>early</td>\n",
       "    </tr>\n",
       "    <tr>\n",
       "      <th>1</th>\n",
       "      <td>2019-01-01 06:20:00</td>\n",
       "      <td>2019-01-01 00:00:00</td>\n",
       "      <td>201072</td>\n",
       "      <td>20.0</td>\n",
       "      <td>mid</td>\n",
       "    </tr>\n",
       "    <tr>\n",
       "      <th>2</th>\n",
       "      <td>2019-01-01 06:40:00</td>\n",
       "      <td>2019-01-01 00:00:00</td>\n",
       "      <td>201072</td>\n",
       "      <td>20.0</td>\n",
       "      <td>late</td>\n",
       "    </tr>\n",
       "    <tr>\n",
       "      <th>3</th>\n",
       "      <td>2019-01-01 06:00:00</td>\n",
       "      <td>2019-01-01 00:00:00</td>\n",
       "      <td>201079</td>\n",
       "      <td>20.0</td>\n",
       "      <td>early</td>\n",
       "    </tr>\n",
       "    <tr>\n",
       "      <th>4</th>\n",
       "      <td>2019-01-01 06:20:00</td>\n",
       "      <td>2019-01-01 00:00:00</td>\n",
       "      <td>201079</td>\n",
       "      <td>20.0</td>\n",
       "      <td>mid</td>\n",
       "    </tr>\n",
       "  </tbody>\n",
       "</table>\n",
       "</div>"
      ],
      "text/plain": [
       "                  방송일시                 date    상품코드  노출(분)  stage\n",
       "0  2019-01-01 06:00:00  2019-01-01 00:00:00  201072   20.0  early\n",
       "1  2019-01-01 06:20:00  2019-01-01 00:00:00  201072   20.0    mid\n",
       "2  2019-01-01 06:40:00  2019-01-01 00:00:00  201072   20.0   late\n",
       "3  2019-01-01 06:00:00  2019-01-01 00:00:00  201079   20.0  early\n",
       "4  2019-01-01 06:20:00  2019-01-01 00:00:00  201079   20.0    mid"
      ]
     },
     "execution_count": 5,
     "metadata": {},
     "output_type": "execute_result"
    }
   ],
   "source": [
    "stage = pd.read_csv(\"/home/yeeunlee/bigcon2020_parrot/prep/stage_1.csv\")\n",
    "stage.head()"
   ]
  },
  {
   "cell_type": "code",
   "execution_count": 6,
   "metadata": {},
   "outputs": [
    {
     "data": {
      "text/html": [
       "<div>\n",
       "<style scoped>\n",
       "    .dataframe tbody tr th:only-of-type {\n",
       "        vertical-align: middle;\n",
       "    }\n",
       "\n",
       "    .dataframe tbody tr th {\n",
       "        vertical-align: top;\n",
       "    }\n",
       "\n",
       "    .dataframe thead th {\n",
       "        text-align: right;\n",
       "    }\n",
       "</style>\n",
       "<table border=\"1\" class=\"dataframe\">\n",
       "  <thead>\n",
       "    <tr style=\"text-align: right;\">\n",
       "      <th></th>\n",
       "      <th>방송일시</th>\n",
       "      <th>노출(분)</th>\n",
       "      <th>마더코드</th>\n",
       "      <th>상품코드</th>\n",
       "      <th>상품명</th>\n",
       "      <th>상품군</th>\n",
       "      <th>판매단가</th>\n",
       "      <th>취급액</th>\n",
       "      <th>date</th>\n",
       "      <th>week</th>\n",
       "      <th>...</th>\n",
       "      <th>hour</th>\n",
       "      <th>prime</th>\n",
       "      <th>real_date</th>\n",
       "      <th>설명</th>\n",
       "      <th>IsHoliday</th>\n",
       "      <th>지속휴일수</th>\n",
       "      <th>TEMP</th>\n",
       "      <th>HUM</th>\n",
       "      <th>weekofyear</th>\n",
       "      <th>stage</th>\n",
       "    </tr>\n",
       "  </thead>\n",
       "  <tbody>\n",
       "    <tr>\n",
       "      <th>0</th>\n",
       "      <td>2019-01-01 06:00:00</td>\n",
       "      <td>20.0</td>\n",
       "      <td>100346</td>\n",
       "      <td>201072</td>\n",
       "      <td>테이트 남성 셀린니트3종</td>\n",
       "      <td>의류</td>\n",
       "      <td>39900</td>\n",
       "      <td>2099000.0</td>\n",
       "      <td>2019-01-01 00:00:00</td>\n",
       "      <td>1</td>\n",
       "      <td>...</td>\n",
       "      <td>6</td>\n",
       "      <td>0</td>\n",
       "      <td>2019-01-01 00:00:00</td>\n",
       "      <td>새해</td>\n",
       "      <td>1.0</td>\n",
       "      <td>1.0</td>\n",
       "      <td>-6.576974</td>\n",
       "      <td>63.524958</td>\n",
       "      <td>1</td>\n",
       "      <td>early</td>\n",
       "    </tr>\n",
       "    <tr>\n",
       "      <th>1</th>\n",
       "      <td>2019-01-01 06:00:00</td>\n",
       "      <td>20.0</td>\n",
       "      <td>100346</td>\n",
       "      <td>201079</td>\n",
       "      <td>테이트 여성 셀린니트3종</td>\n",
       "      <td>의류</td>\n",
       "      <td>39900</td>\n",
       "      <td>4371000.0</td>\n",
       "      <td>2019-01-01 00:00:00</td>\n",
       "      <td>1</td>\n",
       "      <td>...</td>\n",
       "      <td>6</td>\n",
       "      <td>0</td>\n",
       "      <td>2019-01-01 00:00:00</td>\n",
       "      <td>새해</td>\n",
       "      <td>1.0</td>\n",
       "      <td>1.0</td>\n",
       "      <td>-6.576974</td>\n",
       "      <td>63.524958</td>\n",
       "      <td>1</td>\n",
       "      <td>early</td>\n",
       "    </tr>\n",
       "  </tbody>\n",
       "</table>\n",
       "<p>2 rows × 21 columns</p>\n",
       "</div>"
      ],
      "text/plain": [
       "                  방송일시  노출(분)    마더코드    상품코드            상품명 상품군   판매단가  \\\n",
       "0  2019-01-01 06:00:00   20.0  100346  201072  테이트 남성 셀린니트3종  의류  39900   \n",
       "1  2019-01-01 06:00:00   20.0  100346  201079  테이트 여성 셀린니트3종  의류  39900   \n",
       "\n",
       "         취급액                 date  week  ... hour  prime            real_date  \\\n",
       "0  2099000.0  2019-01-01 00:00:00     1  ...    6      0  2019-01-01 00:00:00   \n",
       "1  4371000.0  2019-01-01 00:00:00     1  ...    6      0  2019-01-01 00:00:00   \n",
       "\n",
       "   설명 IsHoliday  지속휴일수      TEMP        HUM  weekofyear  stage  \n",
       "0  새해       1.0    1.0 -6.576974  63.524958           1  early  \n",
       "1  새해       1.0    1.0 -6.576974  63.524958           1  early  \n",
       "\n",
       "[2 rows x 21 columns]"
      ]
     },
     "execution_count": 6,
     "metadata": {},
     "output_type": "execute_result"
    }
   ],
   "source": [
    "pf = pf.merge(stage[['방송일시', '상품코드', 'stage']], on = ['방송일시', '상품코드'])\n",
    "pf.head(2)"
   ]
  },
  {
   "cell_type": "markdown",
   "metadata": {},
   "source": [
    "### Encoding\n",
    "\n",
    "timestamp는 object type으로 뜨지만 encoding으로 변환하면 안되므로, encoders를 구성할 때 object type columns를 미리 지정해준다.(obj)"
   ]
  },
  {
   "cell_type": "code",
   "execution_count": 7,
   "metadata": {},
   "outputs": [],
   "source": [
    "import sklearn\n",
    "from sklearn.preprocessing import LabelEncoder, MinMaxScaler\n",
    "from sklearn.model_selection import train_test_split\n",
    "from tqdm.auto import tqdm\n",
    "import gc"
   ]
  },
  {
   "cell_type": "code",
   "execution_count": 8,
   "metadata": {},
   "outputs": [],
   "source": [
    "# data type set\n",
    "obj = ['마더코드', '상품코드', '상품군', 'stage', 'weekofyear']\n",
    "\n",
    "for col in obj:\n",
    "    pf[col] = pf[col].astype('U')\n",
    "\n",
    "del pf['설명']"
   ]
  },
  {
   "cell_type": "code",
   "execution_count": 9,
   "metadata": {},
   "outputs": [
    {
     "name": "stdout",
     "output_type": "stream",
     "text": [
      "<class 'pandas.core.frame.DataFrame'>\n",
      "Int64Index: 35379 entries, 0 to 35378\n",
      "Data columns (total 20 columns):\n",
      " #   Column      Non-Null Count  Dtype  \n",
      "---  ------      --------------  -----  \n",
      " 0   방송일시        35379 non-null  object \n",
      " 1   노출(분)       35379 non-null  float64\n",
      " 2   마더코드        35379 non-null  object \n",
      " 3   상품코드        35379 non-null  object \n",
      " 4   상품명         35379 non-null  object \n",
      " 5   상품군         35379 non-null  object \n",
      " 6   판매단가        35379 non-null  int64  \n",
      " 7   취급액         35379 non-null  float64\n",
      " 8   date        35379 non-null  object \n",
      " 9   week        35379 non-null  int64  \n",
      " 10  time        35379 non-null  object \n",
      " 11  hour        35379 non-null  int64  \n",
      " 12  prime       35379 non-null  int64  \n",
      " 13  real_date   35379 non-null  object \n",
      " 14  IsHoliday   35379 non-null  float64\n",
      " 15  지속휴일수       35379 non-null  float64\n",
      " 16  TEMP        35379 non-null  float64\n",
      " 17  HUM         35379 non-null  float64\n",
      " 18  weekofyear  35379 non-null  object \n",
      " 19  stage       35379 non-null  object \n",
      "dtypes: float64(6), int64(4), object(10)\n",
      "memory usage: 5.7+ MB\n"
     ]
    }
   ],
   "source": [
    "pf.info()"
   ]
  },
  {
   "cell_type": "code",
   "execution_count": 10,
   "metadata": {},
   "outputs": [],
   "source": [
    "# Encoding into DECIMAL values\n",
    "dtypes = pf.dtypes\n",
    "encoders = {}\n",
    "\n",
    "# 미리 지정한 obj 컬럼들에 대해서만 인코딩 진행\n",
    "for column in obj:\n",
    "    if str(dtypes[column]) == 'object':\n",
    "        encoder = LabelEncoder()\n",
    "        encoder.fit(pf[column])\n",
    "        encoders[column] = encoder\n",
    "\n",
    "_data = pf.copy()\n",
    "for column in encoders.keys():\n",
    "    encoder = encoders[column]\n",
    "    _data[column] = encoder.transform(pf[column])"
   ]
  },
  {
   "cell_type": "code",
   "execution_count": 11,
   "metadata": {
    "scrolled": true
   },
   "outputs": [
    {
     "data": {
      "text/html": [
       "<div>\n",
       "<style scoped>\n",
       "    .dataframe tbody tr th:only-of-type {\n",
       "        vertical-align: middle;\n",
       "    }\n",
       "\n",
       "    .dataframe tbody tr th {\n",
       "        vertical-align: top;\n",
       "    }\n",
       "\n",
       "    .dataframe thead th {\n",
       "        text-align: right;\n",
       "    }\n",
       "</style>\n",
       "<table border=\"1\" class=\"dataframe\">\n",
       "  <thead>\n",
       "    <tr style=\"text-align: right;\">\n",
       "      <th></th>\n",
       "      <th>방송일시</th>\n",
       "      <th>노출(분)</th>\n",
       "      <th>마더코드</th>\n",
       "      <th>상품코드</th>\n",
       "      <th>상품명</th>\n",
       "      <th>상품군</th>\n",
       "      <th>판매단가</th>\n",
       "      <th>취급액</th>\n",
       "      <th>date</th>\n",
       "      <th>week</th>\n",
       "      <th>time</th>\n",
       "      <th>hour</th>\n",
       "      <th>prime</th>\n",
       "      <th>real_date</th>\n",
       "      <th>IsHoliday</th>\n",
       "      <th>지속휴일수</th>\n",
       "      <th>TEMP</th>\n",
       "      <th>HUM</th>\n",
       "      <th>weekofyear</th>\n",
       "      <th>stage</th>\n",
       "    </tr>\n",
       "  </thead>\n",
       "  <tbody>\n",
       "    <tr>\n",
       "      <th>0</th>\n",
       "      <td>2019-01-01 06:00:00</td>\n",
       "      <td>20.0</td>\n",
       "      <td>296</td>\n",
       "      <td>891</td>\n",
       "      <td>테이트 남성 셀린니트3종</td>\n",
       "      <td>6</td>\n",
       "      <td>39900</td>\n",
       "      <td>2099000.0</td>\n",
       "      <td>2019-01-01 00:00:00</td>\n",
       "      <td>1</td>\n",
       "      <td>06:00:00</td>\n",
       "      <td>6</td>\n",
       "      <td>0</td>\n",
       "      <td>2019-01-01 00:00:00</td>\n",
       "      <td>1.0</td>\n",
       "      <td>1.0</td>\n",
       "      <td>-6.576974</td>\n",
       "      <td>63.524958</td>\n",
       "      <td>0</td>\n",
       "      <td>0</td>\n",
       "    </tr>\n",
       "    <tr>\n",
       "      <th>1</th>\n",
       "      <td>2019-01-01 06:00:00</td>\n",
       "      <td>20.0</td>\n",
       "      <td>296</td>\n",
       "      <td>898</td>\n",
       "      <td>테이트 여성 셀린니트3종</td>\n",
       "      <td>6</td>\n",
       "      <td>39900</td>\n",
       "      <td>4371000.0</td>\n",
       "      <td>2019-01-01 00:00:00</td>\n",
       "      <td>1</td>\n",
       "      <td>06:00:00</td>\n",
       "      <td>6</td>\n",
       "      <td>0</td>\n",
       "      <td>2019-01-01 00:00:00</td>\n",
       "      <td>1.0</td>\n",
       "      <td>1.0</td>\n",
       "      <td>-6.576974</td>\n",
       "      <td>63.524958</td>\n",
       "      <td>0</td>\n",
       "      <td>0</td>\n",
       "    </tr>\n",
       "  </tbody>\n",
       "</table>\n",
       "</div>"
      ],
      "text/plain": [
       "                  방송일시  노출(분)  마더코드  상품코드            상품명  상품군   판매단가  \\\n",
       "0  2019-01-01 06:00:00   20.0   296   891  테이트 남성 셀린니트3종    6  39900   \n",
       "1  2019-01-01 06:00:00   20.0   296   898  테이트 여성 셀린니트3종    6  39900   \n",
       "\n",
       "         취급액                 date  week      time  hour  prime  \\\n",
       "0  2099000.0  2019-01-01 00:00:00     1  06:00:00     6      0   \n",
       "1  4371000.0  2019-01-01 00:00:00     1  06:00:00     6      0   \n",
       "\n",
       "             real_date  IsHoliday  지속휴일수      TEMP        HUM  weekofyear  \\\n",
       "0  2019-01-01 00:00:00        1.0    1.0 -6.576974  63.524958           0   \n",
       "1  2019-01-01 00:00:00        1.0    1.0 -6.576974  63.524958           0   \n",
       "\n",
       "   stage  \n",
       "0      0  \n",
       "1      0  "
      ]
     },
     "execution_count": 11,
     "metadata": {},
     "output_type": "execute_result"
    }
   ],
   "source": [
    "_data.head(2)"
   ]
  },
  {
   "cell_type": "code",
   "execution_count": 12,
   "metadata": {},
   "outputs": [
    {
     "data": {
      "text/plain": [
       "2030"
      ]
     },
     "execution_count": 12,
     "metadata": {},
     "output_type": "execute_result"
    }
   ],
   "source": [
    "_data['상품코드'].max()"
   ]
  },
  {
   "cell_type": "code",
   "execution_count": 13,
   "metadata": {},
   "outputs": [
    {
     "data": {
      "text/plain": [
       "35379"
      ]
     },
     "execution_count": 13,
     "metadata": {},
     "output_type": "execute_result"
    }
   ],
   "source": [
    "len(_data)"
   ]
  },
  {
   "cell_type": "code",
   "execution_count": 14,
   "metadata": {},
   "outputs": [
    {
     "data": {
      "text/html": [
       "<div>\n",
       "<style scoped>\n",
       "    .dataframe tbody tr th:only-of-type {\n",
       "        vertical-align: middle;\n",
       "    }\n",
       "\n",
       "    .dataframe tbody tr th {\n",
       "        vertical-align: top;\n",
       "    }\n",
       "\n",
       "    .dataframe thead th {\n",
       "        text-align: right;\n",
       "    }\n",
       "</style>\n",
       "<table border=\"1\" class=\"dataframe\">\n",
       "  <thead>\n",
       "    <tr style=\"text-align: right;\">\n",
       "      <th></th>\n",
       "      <th>노출(분)</th>\n",
       "      <th>마더코드</th>\n",
       "      <th>상품코드</th>\n",
       "      <th>상품군</th>\n",
       "      <th>판매단가</th>\n",
       "      <th>취급액</th>\n",
       "      <th>week</th>\n",
       "      <th>hour</th>\n",
       "      <th>prime</th>\n",
       "      <th>IsHoliday</th>\n",
       "      <th>지속휴일수</th>\n",
       "      <th>TEMP</th>\n",
       "      <th>HUM</th>\n",
       "      <th>weekofyear</th>\n",
       "      <th>stage</th>\n",
       "    </tr>\n",
       "  </thead>\n",
       "  <tbody>\n",
       "    <tr>\n",
       "      <th>count</th>\n",
       "      <td>35379.000000</td>\n",
       "      <td>35379.000000</td>\n",
       "      <td>35379.000000</td>\n",
       "      <td>35379.000000</td>\n",
       "      <td>3.537900e+04</td>\n",
       "      <td>3.537900e+04</td>\n",
       "      <td>35379.000000</td>\n",
       "      <td>35379.000000</td>\n",
       "      <td>35379.000000</td>\n",
       "      <td>35379.000000</td>\n",
       "      <td>35379.000000</td>\n",
       "      <td>35379.000000</td>\n",
       "      <td>35379.000000</td>\n",
       "      <td>35379.000000</td>\n",
       "      <td>35379.000000</td>\n",
       "    </tr>\n",
       "    <tr>\n",
       "      <th>mean</th>\n",
       "      <td>20.339360</td>\n",
       "      <td>322.542440</td>\n",
       "      <td>989.195427</td>\n",
       "      <td>5.072642</td>\n",
       "      <td>3.878590e+05</td>\n",
       "      <td>2.310241e+07</td>\n",
       "      <td>3.002911</td>\n",
       "      <td>14.110574</td>\n",
       "      <td>0.351932</td>\n",
       "      <td>0.322479</td>\n",
       "      <td>0.708499</td>\n",
       "      <td>13.929747</td>\n",
       "      <td>62.541314</td>\n",
       "      <td>25.048814</td>\n",
       "      <td>0.973911</td>\n",
       "    </tr>\n",
       "    <tr>\n",
       "      <th>std</th>\n",
       "      <td>3.094151</td>\n",
       "      <td>204.420435</td>\n",
       "      <td>599.916027</td>\n",
       "      <td>3.053610</td>\n",
       "      <td>6.264088e+05</td>\n",
       "      <td>2.005790e+07</td>\n",
       "      <td>2.010633</td>\n",
       "      <td>6.568274</td>\n",
       "      <td>0.477580</td>\n",
       "      <td>0.467432</td>\n",
       "      <td>1.115861</td>\n",
       "      <td>9.628727</td>\n",
       "      <td>18.167043</td>\n",
       "      <td>15.030482</td>\n",
       "      <td>0.832669</td>\n",
       "    </tr>\n",
       "    <tr>\n",
       "      <th>min</th>\n",
       "      <td>2.466667</td>\n",
       "      <td>0.000000</td>\n",
       "      <td>0.000000</td>\n",
       "      <td>0.000000</td>\n",
       "      <td>1.280000e+04</td>\n",
       "      <td>1.030000e+05</td>\n",
       "      <td>0.000000</td>\n",
       "      <td>0.000000</td>\n",
       "      <td>0.000000</td>\n",
       "      <td>0.000000</td>\n",
       "      <td>0.000000</td>\n",
       "      <td>-8.577640</td>\n",
       "      <td>16.928262</td>\n",
       "      <td>0.000000</td>\n",
       "      <td>0.000000</td>\n",
       "    </tr>\n",
       "    <tr>\n",
       "      <th>25%</th>\n",
       "      <td>20.000000</td>\n",
       "      <td>122.000000</td>\n",
       "      <td>447.000000</td>\n",
       "      <td>3.000000</td>\n",
       "      <td>5.900000e+04</td>\n",
       "      <td>7.998500e+06</td>\n",
       "      <td>1.000000</td>\n",
       "      <td>9.000000</td>\n",
       "      <td>0.000000</td>\n",
       "      <td>0.000000</td>\n",
       "      <td>0.000000</td>\n",
       "      <td>5.601739</td>\n",
       "      <td>49.207810</td>\n",
       "      <td>12.000000</td>\n",
       "      <td>0.000000</td>\n",
       "    </tr>\n",
       "    <tr>\n",
       "      <th>50%</th>\n",
       "      <td>20.000000</td>\n",
       "      <td>301.000000</td>\n",
       "      <td>951.000000</td>\n",
       "      <td>5.000000</td>\n",
       "      <td>9.900000e+04</td>\n",
       "      <td>1.732600e+07</td>\n",
       "      <td>3.000000</td>\n",
       "      <td>15.000000</td>\n",
       "      <td>0.000000</td>\n",
       "      <td>0.000000</td>\n",
       "      <td>0.000000</td>\n",
       "      <td>14.790834</td>\n",
       "      <td>63.574864</td>\n",
       "      <td>25.000000</td>\n",
       "      <td>1.000000</td>\n",
       "    </tr>\n",
       "    <tr>\n",
       "      <th>75%</th>\n",
       "      <td>20.000000</td>\n",
       "      <td>490.000000</td>\n",
       "      <td>1510.000000</td>\n",
       "      <td>8.000000</td>\n",
       "      <td>3.990000e+05</td>\n",
       "      <td>3.276300e+07</td>\n",
       "      <td>5.000000</td>\n",
       "      <td>20.000000</td>\n",
       "      <td>1.000000</td>\n",
       "      <td>1.000000</td>\n",
       "      <td>2.000000</td>\n",
       "      <td>22.279067</td>\n",
       "      <td>77.504486</td>\n",
       "      <td>38.000000</td>\n",
       "      <td>2.000000</td>\n",
       "    </tr>\n",
       "    <tr>\n",
       "      <th>max</th>\n",
       "      <td>40.000000</td>\n",
       "      <td>686.000000</td>\n",
       "      <td>2030.000000</td>\n",
       "      <td>10.000000</td>\n",
       "      <td>7.930000e+06</td>\n",
       "      <td>3.220090e+08</td>\n",
       "      <td>6.000000</td>\n",
       "      <td>23.000000</td>\n",
       "      <td>1.000000</td>\n",
       "      <td>1.000000</td>\n",
       "      <td>5.000000</td>\n",
       "      <td>33.703554</td>\n",
       "      <td>96.144207</td>\n",
       "      <td>51.000000</td>\n",
       "      <td>3.000000</td>\n",
       "    </tr>\n",
       "  </tbody>\n",
       "</table>\n",
       "</div>"
      ],
      "text/plain": [
       "              노출(분)          마더코드          상품코드           상품군          판매단가  \\\n",
       "count  35379.000000  35379.000000  35379.000000  35379.000000  3.537900e+04   \n",
       "mean      20.339360    322.542440    989.195427      5.072642  3.878590e+05   \n",
       "std        3.094151    204.420435    599.916027      3.053610  6.264088e+05   \n",
       "min        2.466667      0.000000      0.000000      0.000000  1.280000e+04   \n",
       "25%       20.000000    122.000000    447.000000      3.000000  5.900000e+04   \n",
       "50%       20.000000    301.000000    951.000000      5.000000  9.900000e+04   \n",
       "75%       20.000000    490.000000   1510.000000      8.000000  3.990000e+05   \n",
       "max       40.000000    686.000000   2030.000000     10.000000  7.930000e+06   \n",
       "\n",
       "                취급액          week          hour         prime     IsHoliday  \\\n",
       "count  3.537900e+04  35379.000000  35379.000000  35379.000000  35379.000000   \n",
       "mean   2.310241e+07      3.002911     14.110574      0.351932      0.322479   \n",
       "std    2.005790e+07      2.010633      6.568274      0.477580      0.467432   \n",
       "min    1.030000e+05      0.000000      0.000000      0.000000      0.000000   \n",
       "25%    7.998500e+06      1.000000      9.000000      0.000000      0.000000   \n",
       "50%    1.732600e+07      3.000000     15.000000      0.000000      0.000000   \n",
       "75%    3.276300e+07      5.000000     20.000000      1.000000      1.000000   \n",
       "max    3.220090e+08      6.000000     23.000000      1.000000      1.000000   \n",
       "\n",
       "              지속휴일수          TEMP           HUM    weekofyear         stage  \n",
       "count  35379.000000  35379.000000  35379.000000  35379.000000  35379.000000  \n",
       "mean       0.708499     13.929747     62.541314     25.048814      0.973911  \n",
       "std        1.115861      9.628727     18.167043     15.030482      0.832669  \n",
       "min        0.000000     -8.577640     16.928262      0.000000      0.000000  \n",
       "25%        0.000000      5.601739     49.207810     12.000000      0.000000  \n",
       "50%        0.000000     14.790834     63.574864     25.000000      1.000000  \n",
       "75%        2.000000     22.279067     77.504486     38.000000      2.000000  \n",
       "max        5.000000     33.703554     96.144207     51.000000      3.000000  "
      ]
     },
     "execution_count": 14,
     "metadata": {},
     "output_type": "execute_result"
    }
   ],
   "source": [
    "_data.describe()"
   ]
  },
  {
   "cell_type": "markdown",
   "metadata": {},
   "source": [
    "binary encoding을 진행하기 전에 최대값을 이진수로 바꾸었을 때 제일 긴 값의 길이가 몇인지 확인한다."
   ]
  },
  {
   "cell_type": "code",
   "execution_count": 15,
   "metadata": {},
   "outputs": [
    {
     "data": {
      "text/plain": [
       "마더코드          10\n",
       "상품코드          11\n",
       "상품군            4\n",
       "stage          2\n",
       "weekofyear     6\n",
       "Name: max, dtype: int64"
      ]
     },
     "execution_count": 15,
     "metadata": {},
     "output_type": "execute_result"
    }
   ],
   "source": [
    "_data.describe()[obj].loc['max'].apply(lambda x: len(bin(int(x)).replace(\"0b\", \"\")))"
   ]
  },
  {
   "cell_type": "code",
   "execution_count": 16,
   "metadata": {},
   "outputs": [],
   "source": [
    "# categorical variables to binary encoding\n",
    "# bin(max(_data['상품명'])).replace(\"0b\", '')\n",
    "\n",
    "def binary_encoding(name, x):\n",
    "    # x : column\n",
    "    if name == '마더코드':\n",
    "        value = bin(x).replace(\"0b\", \"\")\n",
    "        return list(map(int, '0'*(10-len(value))+value))\n",
    "    if name == '상품코드':\n",
    "        value = bin(x).replace(\"0b\", \"\")\n",
    "        return list(map(int, '0'*(11-len(value))+value))\n",
    "    if name == 'stage':\n",
    "        value = bin(x).replace(\"0b\", \"\")\n",
    "        return list(map(int, '0'*(2-len(value))+value))\n",
    "    if name == 'weekofyear':\n",
    "        value = bin(x).replace(\"0b\", \"\")\n",
    "        return list(map(int, '0'*(6-len(value))+value))\n",
    "    else: # 상품군\n",
    "        value = bin(x).replace(\"0b\", \"\")\n",
    "        return list(map(int, '0'*(4-len(value))+value))\n",
    "    "
   ]
  },
  {
   "cell_type": "code",
   "execution_count": 17,
   "metadata": {},
   "outputs": [],
   "source": [
    "# 마더코드\n",
    "final = _data.copy()\n",
    "final[['m_'+str(i) for i in range(10)]] = _data['마더코드'].apply(lambda x: binary_encoding('마더코드', x)).to_list()\n",
    "# final.head(2)"
   ]
  },
  {
   "cell_type": "code",
   "execution_count": 18,
   "metadata": {},
   "outputs": [],
   "source": [
    "# 상품코드\n",
    "final[['p_'+str(i) for i in range(11)]] = _data['상품코드'].apply(lambda x: binary_encoding('상품코드', x)).to_list()\n",
    "# final.head(2)"
   ]
  },
  {
   "cell_type": "code",
   "execution_count": 19,
   "metadata": {
    "scrolled": false
   },
   "outputs": [],
   "source": [
    "# 상품군\n",
    "final[['g_'+str(i) for i in range(4)]] = _data['상품군'].apply(lambda x: binary_encoding('상품군', x)).to_list()\n",
    "# final.head(2)"
   ]
  },
  {
   "cell_type": "code",
   "execution_count": 20,
   "metadata": {},
   "outputs": [],
   "source": [
    "# stage\n",
    "final[['s_'+str(i) for i in range(2)]] = _data['stage'].apply(lambda x: binary_encoding('stage', x)).to_list()\n"
   ]
  },
  {
   "cell_type": "code",
   "execution_count": 21,
   "metadata": {},
   "outputs": [
    {
     "data": {
      "text/html": [
       "<div>\n",
       "<style scoped>\n",
       "    .dataframe tbody tr th:only-of-type {\n",
       "        vertical-align: middle;\n",
       "    }\n",
       "\n",
       "    .dataframe tbody tr th {\n",
       "        vertical-align: top;\n",
       "    }\n",
       "\n",
       "    .dataframe thead th {\n",
       "        text-align: right;\n",
       "    }\n",
       "</style>\n",
       "<table border=\"1\" class=\"dataframe\">\n",
       "  <thead>\n",
       "    <tr style=\"text-align: right;\">\n",
       "      <th></th>\n",
       "      <th>방송일시</th>\n",
       "      <th>노출(분)</th>\n",
       "      <th>마더코드</th>\n",
       "      <th>상품코드</th>\n",
       "      <th>상품명</th>\n",
       "      <th>상품군</th>\n",
       "      <th>판매단가</th>\n",
       "      <th>취급액</th>\n",
       "      <th>date</th>\n",
       "      <th>week</th>\n",
       "      <th>...</th>\n",
       "      <th>g_2</th>\n",
       "      <th>g_3</th>\n",
       "      <th>s_0</th>\n",
       "      <th>s_1</th>\n",
       "      <th>w_0</th>\n",
       "      <th>w_1</th>\n",
       "      <th>w_2</th>\n",
       "      <th>w_3</th>\n",
       "      <th>w_4</th>\n",
       "      <th>w_5</th>\n",
       "    </tr>\n",
       "  </thead>\n",
       "  <tbody>\n",
       "    <tr>\n",
       "      <th>0</th>\n",
       "      <td>2019-01-01 06:00:00</td>\n",
       "      <td>20.0</td>\n",
       "      <td>296</td>\n",
       "      <td>891</td>\n",
       "      <td>테이트 남성 셀린니트3종</td>\n",
       "      <td>6</td>\n",
       "      <td>39900</td>\n",
       "      <td>2099000.0</td>\n",
       "      <td>2019-01-01 00:00:00</td>\n",
       "      <td>1</td>\n",
       "      <td>...</td>\n",
       "      <td>1</td>\n",
       "      <td>0</td>\n",
       "      <td>0</td>\n",
       "      <td>0</td>\n",
       "      <td>0</td>\n",
       "      <td>0</td>\n",
       "      <td>0</td>\n",
       "      <td>0</td>\n",
       "      <td>0</td>\n",
       "      <td>0</td>\n",
       "    </tr>\n",
       "    <tr>\n",
       "      <th>1</th>\n",
       "      <td>2019-01-01 06:00:00</td>\n",
       "      <td>20.0</td>\n",
       "      <td>296</td>\n",
       "      <td>898</td>\n",
       "      <td>테이트 여성 셀린니트3종</td>\n",
       "      <td>6</td>\n",
       "      <td>39900</td>\n",
       "      <td>4371000.0</td>\n",
       "      <td>2019-01-01 00:00:00</td>\n",
       "      <td>1</td>\n",
       "      <td>...</td>\n",
       "      <td>1</td>\n",
       "      <td>0</td>\n",
       "      <td>0</td>\n",
       "      <td>0</td>\n",
       "      <td>0</td>\n",
       "      <td>0</td>\n",
       "      <td>0</td>\n",
       "      <td>0</td>\n",
       "      <td>0</td>\n",
       "      <td>0</td>\n",
       "    </tr>\n",
       "  </tbody>\n",
       "</table>\n",
       "<p>2 rows × 53 columns</p>\n",
       "</div>"
      ],
      "text/plain": [
       "                  방송일시  노출(분)  마더코드  상품코드            상품명  상품군   판매단가  \\\n",
       "0  2019-01-01 06:00:00   20.0   296   891  테이트 남성 셀린니트3종    6  39900   \n",
       "1  2019-01-01 06:00:00   20.0   296   898  테이트 여성 셀린니트3종    6  39900   \n",
       "\n",
       "         취급액                 date  week  ... g_2  g_3  s_0 s_1  w_0  w_1  w_2  \\\n",
       "0  2099000.0  2019-01-01 00:00:00     1  ...   1    0    0   0    0    0    0   \n",
       "1  4371000.0  2019-01-01 00:00:00     1  ...   1    0    0   0    0    0    0   \n",
       "\n",
       "   w_3  w_4  w_5  \n",
       "0    0    0    0  \n",
       "1    0    0    0  \n",
       "\n",
       "[2 rows x 53 columns]"
      ]
     },
     "execution_count": 21,
     "metadata": {},
     "output_type": "execute_result"
    }
   ],
   "source": [
    "# weekofyear\n",
    "final[['w_'+str(i) for i in range(6)]] = _data['weekofyear'].apply(lambda x: binary_encoding('weekofyear', x)).to_list()\n",
    "final.head(2)"
   ]
  },
  {
   "cell_type": "code",
   "execution_count": 22,
   "metadata": {},
   "outputs": [],
   "source": [
    "final.to_csv(\"encoded_data.csv\", index = False)"
   ]
  },
  {
   "cell_type": "code",
   "execution_count": 22,
   "metadata": {},
   "outputs": [
    {
     "data": {
      "text/html": [
       "<div>\n",
       "<style scoped>\n",
       "    .dataframe tbody tr th:only-of-type {\n",
       "        vertical-align: middle;\n",
       "    }\n",
       "\n",
       "    .dataframe tbody tr th {\n",
       "        vertical-align: top;\n",
       "    }\n",
       "\n",
       "    .dataframe thead th {\n",
       "        text-align: right;\n",
       "    }\n",
       "</style>\n",
       "<table border=\"1\" class=\"dataframe\">\n",
       "  <thead>\n",
       "    <tr style=\"text-align: right;\">\n",
       "      <th></th>\n",
       "      <th>방송일시</th>\n",
       "      <th>노출(분)</th>\n",
       "      <th>판매단가</th>\n",
       "      <th>취급액</th>\n",
       "      <th>date</th>\n",
       "      <th>week</th>\n",
       "      <th>time</th>\n",
       "      <th>hour</th>\n",
       "      <th>prime</th>\n",
       "      <th>real_date</th>\n",
       "      <th>...</th>\n",
       "      <th>g_2</th>\n",
       "      <th>g_3</th>\n",
       "      <th>s_0</th>\n",
       "      <th>s_1</th>\n",
       "      <th>w_0</th>\n",
       "      <th>w_1</th>\n",
       "      <th>w_2</th>\n",
       "      <th>w_3</th>\n",
       "      <th>w_4</th>\n",
       "      <th>w_5</th>\n",
       "    </tr>\n",
       "  </thead>\n",
       "  <tbody>\n",
       "    <tr>\n",
       "      <th>0</th>\n",
       "      <td>2019-01-01 06:00:00</td>\n",
       "      <td>20.0</td>\n",
       "      <td>39900</td>\n",
       "      <td>2099000.0</td>\n",
       "      <td>2019-01-01 00:00:00</td>\n",
       "      <td>1</td>\n",
       "      <td>06:00:00</td>\n",
       "      <td>6</td>\n",
       "      <td>0</td>\n",
       "      <td>2019-01-01 00:00:00</td>\n",
       "      <td>...</td>\n",
       "      <td>1</td>\n",
       "      <td>0</td>\n",
       "      <td>0</td>\n",
       "      <td>0</td>\n",
       "      <td>0</td>\n",
       "      <td>0</td>\n",
       "      <td>0</td>\n",
       "      <td>0</td>\n",
       "      <td>0</td>\n",
       "      <td>0</td>\n",
       "    </tr>\n",
       "    <tr>\n",
       "      <th>1</th>\n",
       "      <td>2019-01-01 06:00:00</td>\n",
       "      <td>20.0</td>\n",
       "      <td>39900</td>\n",
       "      <td>4371000.0</td>\n",
       "      <td>2019-01-01 00:00:00</td>\n",
       "      <td>1</td>\n",
       "      <td>06:00:00</td>\n",
       "      <td>6</td>\n",
       "      <td>0</td>\n",
       "      <td>2019-01-01 00:00:00</td>\n",
       "      <td>...</td>\n",
       "      <td>1</td>\n",
       "      <td>0</td>\n",
       "      <td>0</td>\n",
       "      <td>0</td>\n",
       "      <td>0</td>\n",
       "      <td>0</td>\n",
       "      <td>0</td>\n",
       "      <td>0</td>\n",
       "      <td>0</td>\n",
       "      <td>0</td>\n",
       "    </tr>\n",
       "  </tbody>\n",
       "</table>\n",
       "<p>2 rows × 49 columns</p>\n",
       "</div>"
      ],
      "text/plain": [
       "                  방송일시  노출(분)   판매단가        취급액                 date  week  \\\n",
       "0  2019-01-01 06:00:00   20.0  39900  2099000.0  2019-01-01 00:00:00     1   \n",
       "1  2019-01-01 06:00:00   20.0  39900  4371000.0  2019-01-01 00:00:00     1   \n",
       "\n",
       "       time  hour  prime            real_date  ...  g_2  g_3  s_0  s_1  w_0  \\\n",
       "0  06:00:00     6      0  2019-01-01 00:00:00  ...    1    0    0    0    0   \n",
       "1  06:00:00     6      0  2019-01-01 00:00:00  ...    1    0    0    0    0   \n",
       "\n",
       "   w_1  w_2  w_3  w_4  w_5  \n",
       "0    0    0    0    0    0  \n",
       "1    0    0    0    0    0  \n",
       "\n",
       "[2 rows x 49 columns]"
      ]
     },
     "metadata": {},
     "output_type": "display_data"
    },
    {
     "data": {
      "text/html": [
       "<div>\n",
       "<style scoped>\n",
       "    .dataframe tbody tr th:only-of-type {\n",
       "        vertical-align: middle;\n",
       "    }\n",
       "\n",
       "    .dataframe tbody tr th {\n",
       "        vertical-align: top;\n",
       "    }\n",
       "\n",
       "    .dataframe thead th {\n",
       "        text-align: right;\n",
       "    }\n",
       "</style>\n",
       "<table border=\"1\" class=\"dataframe\">\n",
       "  <thead>\n",
       "    <tr style=\"text-align: right;\">\n",
       "      <th></th>\n",
       "      <th>노출(분)</th>\n",
       "      <th>판매단가</th>\n",
       "      <th>취급액</th>\n",
       "      <th>week</th>\n",
       "      <th>hour</th>\n",
       "      <th>prime</th>\n",
       "      <th>IsHoliday</th>\n",
       "      <th>지속휴일수</th>\n",
       "      <th>TEMP</th>\n",
       "      <th>HUM</th>\n",
       "      <th>...</th>\n",
       "      <th>g_2</th>\n",
       "      <th>g_3</th>\n",
       "      <th>s_0</th>\n",
       "      <th>s_1</th>\n",
       "      <th>w_0</th>\n",
       "      <th>w_1</th>\n",
       "      <th>w_2</th>\n",
       "      <th>w_3</th>\n",
       "      <th>w_4</th>\n",
       "      <th>w_5</th>\n",
       "    </tr>\n",
       "  </thead>\n",
       "  <tbody>\n",
       "    <tr>\n",
       "      <th>count</th>\n",
       "      <td>35379.000000</td>\n",
       "      <td>3.537900e+04</td>\n",
       "      <td>3.537900e+04</td>\n",
       "      <td>35379.000000</td>\n",
       "      <td>35379.000000</td>\n",
       "      <td>35379.000000</td>\n",
       "      <td>35379.000000</td>\n",
       "      <td>35379.000000</td>\n",
       "      <td>35379.000000</td>\n",
       "      <td>35379.000000</td>\n",
       "      <td>...</td>\n",
       "      <td>35379.000000</td>\n",
       "      <td>35379.000000</td>\n",
       "      <td>35379.000000</td>\n",
       "      <td>35379.000000</td>\n",
       "      <td>35379.000000</td>\n",
       "      <td>35379.000000</td>\n",
       "      <td>35379.000000</td>\n",
       "      <td>35379.000000</td>\n",
       "      <td>35379.000000</td>\n",
       "      <td>35379.000000</td>\n",
       "    </tr>\n",
       "    <tr>\n",
       "      <th>mean</th>\n",
       "      <td>20.339360</td>\n",
       "      <td>3.878590e+05</td>\n",
       "      <td>2.310241e+07</td>\n",
       "      <td>3.002911</td>\n",
       "      <td>14.110574</td>\n",
       "      <td>0.351932</td>\n",
       "      <td>0.322479</td>\n",
       "      <td>0.708499</td>\n",
       "      <td>13.929747</td>\n",
       "      <td>62.541314</td>\n",
       "      <td>...</td>\n",
       "      <td>0.310071</td>\n",
       "      <td>0.588852</td>\n",
       "      <td>0.304446</td>\n",
       "      <td>0.365019</td>\n",
       "      <td>0.370446</td>\n",
       "      <td>0.384635</td>\n",
       "      <td>0.458775</td>\n",
       "      <td>0.465643</td>\n",
       "      <td>0.503265</td>\n",
       "      <td>0.501088</td>\n",
       "    </tr>\n",
       "    <tr>\n",
       "      <th>std</th>\n",
       "      <td>3.094151</td>\n",
       "      <td>6.264088e+05</td>\n",
       "      <td>2.005790e+07</td>\n",
       "      <td>2.010633</td>\n",
       "      <td>6.568274</td>\n",
       "      <td>0.477580</td>\n",
       "      <td>0.467432</td>\n",
       "      <td>1.115861</td>\n",
       "      <td>9.628727</td>\n",
       "      <td>18.167043</td>\n",
       "      <td>...</td>\n",
       "      <td>0.462529</td>\n",
       "      <td>0.492049</td>\n",
       "      <td>0.460179</td>\n",
       "      <td>0.481442</td>\n",
       "      <td>0.482931</td>\n",
       "      <td>0.486516</td>\n",
       "      <td>0.498305</td>\n",
       "      <td>0.498825</td>\n",
       "      <td>0.499996</td>\n",
       "      <td>0.500006</td>\n",
       "    </tr>\n",
       "    <tr>\n",
       "      <th>min</th>\n",
       "      <td>2.466667</td>\n",
       "      <td>1.280000e+04</td>\n",
       "      <td>1.030000e+05</td>\n",
       "      <td>0.000000</td>\n",
       "      <td>0.000000</td>\n",
       "      <td>0.000000</td>\n",
       "      <td>0.000000</td>\n",
       "      <td>0.000000</td>\n",
       "      <td>-8.577640</td>\n",
       "      <td>16.928262</td>\n",
       "      <td>...</td>\n",
       "      <td>0.000000</td>\n",
       "      <td>0.000000</td>\n",
       "      <td>0.000000</td>\n",
       "      <td>0.000000</td>\n",
       "      <td>0.000000</td>\n",
       "      <td>0.000000</td>\n",
       "      <td>0.000000</td>\n",
       "      <td>0.000000</td>\n",
       "      <td>0.000000</td>\n",
       "      <td>0.000000</td>\n",
       "    </tr>\n",
       "    <tr>\n",
       "      <th>25%</th>\n",
       "      <td>20.000000</td>\n",
       "      <td>5.900000e+04</td>\n",
       "      <td>7.998500e+06</td>\n",
       "      <td>1.000000</td>\n",
       "      <td>9.000000</td>\n",
       "      <td>0.000000</td>\n",
       "      <td>0.000000</td>\n",
       "      <td>0.000000</td>\n",
       "      <td>5.601739</td>\n",
       "      <td>49.207810</td>\n",
       "      <td>...</td>\n",
       "      <td>0.000000</td>\n",
       "      <td>0.000000</td>\n",
       "      <td>0.000000</td>\n",
       "      <td>0.000000</td>\n",
       "      <td>0.000000</td>\n",
       "      <td>0.000000</td>\n",
       "      <td>0.000000</td>\n",
       "      <td>0.000000</td>\n",
       "      <td>0.000000</td>\n",
       "      <td>0.000000</td>\n",
       "    </tr>\n",
       "    <tr>\n",
       "      <th>50%</th>\n",
       "      <td>20.000000</td>\n",
       "      <td>9.900000e+04</td>\n",
       "      <td>1.732600e+07</td>\n",
       "      <td>3.000000</td>\n",
       "      <td>15.000000</td>\n",
       "      <td>0.000000</td>\n",
       "      <td>0.000000</td>\n",
       "      <td>0.000000</td>\n",
       "      <td>14.790834</td>\n",
       "      <td>63.574864</td>\n",
       "      <td>...</td>\n",
       "      <td>0.000000</td>\n",
       "      <td>1.000000</td>\n",
       "      <td>0.000000</td>\n",
       "      <td>0.000000</td>\n",
       "      <td>0.000000</td>\n",
       "      <td>0.000000</td>\n",
       "      <td>0.000000</td>\n",
       "      <td>0.000000</td>\n",
       "      <td>1.000000</td>\n",
       "      <td>1.000000</td>\n",
       "    </tr>\n",
       "    <tr>\n",
       "      <th>75%</th>\n",
       "      <td>20.000000</td>\n",
       "      <td>3.990000e+05</td>\n",
       "      <td>3.276300e+07</td>\n",
       "      <td>5.000000</td>\n",
       "      <td>20.000000</td>\n",
       "      <td>1.000000</td>\n",
       "      <td>1.000000</td>\n",
       "      <td>2.000000</td>\n",
       "      <td>22.279067</td>\n",
       "      <td>77.504486</td>\n",
       "      <td>...</td>\n",
       "      <td>1.000000</td>\n",
       "      <td>1.000000</td>\n",
       "      <td>1.000000</td>\n",
       "      <td>1.000000</td>\n",
       "      <td>1.000000</td>\n",
       "      <td>1.000000</td>\n",
       "      <td>1.000000</td>\n",
       "      <td>1.000000</td>\n",
       "      <td>1.000000</td>\n",
       "      <td>1.000000</td>\n",
       "    </tr>\n",
       "    <tr>\n",
       "      <th>max</th>\n",
       "      <td>40.000000</td>\n",
       "      <td>7.930000e+06</td>\n",
       "      <td>3.220090e+08</td>\n",
       "      <td>6.000000</td>\n",
       "      <td>23.000000</td>\n",
       "      <td>1.000000</td>\n",
       "      <td>1.000000</td>\n",
       "      <td>5.000000</td>\n",
       "      <td>33.703554</td>\n",
       "      <td>96.144207</td>\n",
       "      <td>...</td>\n",
       "      <td>1.000000</td>\n",
       "      <td>1.000000</td>\n",
       "      <td>1.000000</td>\n",
       "      <td>1.000000</td>\n",
       "      <td>1.000000</td>\n",
       "      <td>1.000000</td>\n",
       "      <td>1.000000</td>\n",
       "      <td>1.000000</td>\n",
       "      <td>1.000000</td>\n",
       "      <td>1.000000</td>\n",
       "    </tr>\n",
       "  </tbody>\n",
       "</table>\n",
       "<p>8 rows × 45 columns</p>\n",
       "</div>"
      ],
      "text/plain": [
       "              노출(분)          판매단가           취급액          week          hour  \\\n",
       "count  35379.000000  3.537900e+04  3.537900e+04  35379.000000  35379.000000   \n",
       "mean      20.339360  3.878590e+05  2.310241e+07      3.002911     14.110574   \n",
       "std        3.094151  6.264088e+05  2.005790e+07      2.010633      6.568274   \n",
       "min        2.466667  1.280000e+04  1.030000e+05      0.000000      0.000000   \n",
       "25%       20.000000  5.900000e+04  7.998500e+06      1.000000      9.000000   \n",
       "50%       20.000000  9.900000e+04  1.732600e+07      3.000000     15.000000   \n",
       "75%       20.000000  3.990000e+05  3.276300e+07      5.000000     20.000000   \n",
       "max       40.000000  7.930000e+06  3.220090e+08      6.000000     23.000000   \n",
       "\n",
       "              prime     IsHoliday         지속휴일수          TEMP           HUM  \\\n",
       "count  35379.000000  35379.000000  35379.000000  35379.000000  35379.000000   \n",
       "mean       0.351932      0.322479      0.708499     13.929747     62.541314   \n",
       "std        0.477580      0.467432      1.115861      9.628727     18.167043   \n",
       "min        0.000000      0.000000      0.000000     -8.577640     16.928262   \n",
       "25%        0.000000      0.000000      0.000000      5.601739     49.207810   \n",
       "50%        0.000000      0.000000      0.000000     14.790834     63.574864   \n",
       "75%        1.000000      1.000000      2.000000     22.279067     77.504486   \n",
       "max        1.000000      1.000000      5.000000     33.703554     96.144207   \n",
       "\n",
       "       ...           g_2           g_3           s_0           s_1  \\\n",
       "count  ...  35379.000000  35379.000000  35379.000000  35379.000000   \n",
       "mean   ...      0.310071      0.588852      0.304446      0.365019   \n",
       "std    ...      0.462529      0.492049      0.460179      0.481442   \n",
       "min    ...      0.000000      0.000000      0.000000      0.000000   \n",
       "25%    ...      0.000000      0.000000      0.000000      0.000000   \n",
       "50%    ...      0.000000      1.000000      0.000000      0.000000   \n",
       "75%    ...      1.000000      1.000000      1.000000      1.000000   \n",
       "max    ...      1.000000      1.000000      1.000000      1.000000   \n",
       "\n",
       "                w_0           w_1           w_2           w_3           w_4  \\\n",
       "count  35379.000000  35379.000000  35379.000000  35379.000000  35379.000000   \n",
       "mean       0.370446      0.384635      0.458775      0.465643      0.503265   \n",
       "std        0.482931      0.486516      0.498305      0.498825      0.499996   \n",
       "min        0.000000      0.000000      0.000000      0.000000      0.000000   \n",
       "25%        0.000000      0.000000      0.000000      0.000000      0.000000   \n",
       "50%        0.000000      0.000000      0.000000      0.000000      1.000000   \n",
       "75%        1.000000      1.000000      1.000000      1.000000      1.000000   \n",
       "max        1.000000      1.000000      1.000000      1.000000      1.000000   \n",
       "\n",
       "                w_5  \n",
       "count  35379.000000  \n",
       "mean       0.501088  \n",
       "std        0.500006  \n",
       "min        0.000000  \n",
       "25%        0.000000  \n",
       "50%        1.000000  \n",
       "75%        1.000000  \n",
       "max        1.000000  \n",
       "\n",
       "[8 rows x 45 columns]"
      ]
     },
     "execution_count": 22,
     "metadata": {},
     "output_type": "execute_result"
    }
   ],
   "source": [
    "train = final.drop(['마더코드', '상품코드', '상품명', '상품군'], axis = 1)\n",
    "display(train.head(2))\n",
    "train.describe() "
   ]
  },
  {
   "cell_type": "code",
   "execution_count": 23,
   "metadata": {},
   "outputs": [
    {
     "data": {
      "text/html": [
       "<div>\n",
       "<style scoped>\n",
       "    .dataframe tbody tr th:only-of-type {\n",
       "        vertical-align: middle;\n",
       "    }\n",
       "\n",
       "    .dataframe tbody tr th {\n",
       "        vertical-align: top;\n",
       "    }\n",
       "\n",
       "    .dataframe thead th {\n",
       "        text-align: right;\n",
       "    }\n",
       "</style>\n",
       "<table border=\"1\" class=\"dataframe\">\n",
       "  <thead>\n",
       "    <tr style=\"text-align: right;\">\n",
       "      <th></th>\n",
       "      <th>노출(분)</th>\n",
       "      <th>판매단가</th>\n",
       "      <th>취급액</th>\n",
       "      <th>week</th>\n",
       "      <th>hour</th>\n",
       "      <th>prime</th>\n",
       "      <th>IsHoliday</th>\n",
       "      <th>지속휴일수</th>\n",
       "      <th>TEMP</th>\n",
       "      <th>HUM</th>\n",
       "      <th>...</th>\n",
       "      <th>g_2</th>\n",
       "      <th>g_3</th>\n",
       "      <th>s_0</th>\n",
       "      <th>s_1</th>\n",
       "      <th>w_0</th>\n",
       "      <th>w_1</th>\n",
       "      <th>w_2</th>\n",
       "      <th>w_3</th>\n",
       "      <th>w_4</th>\n",
       "      <th>w_5</th>\n",
       "    </tr>\n",
       "  </thead>\n",
       "  <tbody>\n",
       "    <tr>\n",
       "      <th>0</th>\n",
       "      <td>20.0</td>\n",
       "      <td>39900</td>\n",
       "      <td>2099000.0</td>\n",
       "      <td>1</td>\n",
       "      <td>6</td>\n",
       "      <td>0</td>\n",
       "      <td>1.0</td>\n",
       "      <td>1.0</td>\n",
       "      <td>-6.576974</td>\n",
       "      <td>63.524958</td>\n",
       "      <td>...</td>\n",
       "      <td>1</td>\n",
       "      <td>0</td>\n",
       "      <td>0</td>\n",
       "      <td>0</td>\n",
       "      <td>0</td>\n",
       "      <td>0</td>\n",
       "      <td>0</td>\n",
       "      <td>0</td>\n",
       "      <td>0</td>\n",
       "      <td>0</td>\n",
       "    </tr>\n",
       "    <tr>\n",
       "      <th>1</th>\n",
       "      <td>20.0</td>\n",
       "      <td>39900</td>\n",
       "      <td>4371000.0</td>\n",
       "      <td>1</td>\n",
       "      <td>6</td>\n",
       "      <td>0</td>\n",
       "      <td>1.0</td>\n",
       "      <td>1.0</td>\n",
       "      <td>-6.576974</td>\n",
       "      <td>63.524958</td>\n",
       "      <td>...</td>\n",
       "      <td>1</td>\n",
       "      <td>0</td>\n",
       "      <td>0</td>\n",
       "      <td>0</td>\n",
       "      <td>0</td>\n",
       "      <td>0</td>\n",
       "      <td>0</td>\n",
       "      <td>0</td>\n",
       "      <td>0</td>\n",
       "      <td>0</td>\n",
       "    </tr>\n",
       "  </tbody>\n",
       "</table>\n",
       "<p>2 rows × 45 columns</p>\n",
       "</div>"
      ],
      "text/plain": [
       "   노출(분)   판매단가        취급액  week  hour  prime  IsHoliday  지속휴일수      TEMP  \\\n",
       "0   20.0  39900  2099000.0     1     6      0        1.0    1.0 -6.576974   \n",
       "1   20.0  39900  4371000.0     1     6      0        1.0    1.0 -6.576974   \n",
       "\n",
       "         HUM  ...  g_2  g_3  s_0  s_1  w_0  w_1  w_2  w_3  w_4  w_5  \n",
       "0  63.524958  ...    1    0    0    0    0    0    0    0    0    0  \n",
       "1  63.524958  ...    1    0    0    0    0    0    0    0    0    0  \n",
       "\n",
       "[2 rows x 45 columns]"
      ]
     },
     "execution_count": 23,
     "metadata": {},
     "output_type": "execute_result"
    }
   ],
   "source": [
    "train = train.drop(['방송일시', 'date', 'time', 'real_date'], axis = 1)\n",
    "train.head(2)"
   ]
  },
  {
   "cell_type": "markdown",
   "metadata": {},
   "source": [
    "### Scale (Min-Max Scaler)"
   ]
  },
  {
   "cell_type": "code",
   "execution_count": 24,
   "metadata": {},
   "outputs": [],
   "source": [
    "# scale dataset\n",
    "scaler = MinMaxScaler()\n",
    "cols = ['TEMP', 'HUM']\n",
    "train[cols] = scaler.fit_transform(train[cols])"
   ]
  },
  {
   "cell_type": "code",
   "execution_count": 25,
   "metadata": {},
   "outputs": [
    {
     "data": {
      "text/plain": [
       "(35379, 45)"
      ]
     },
     "execution_count": 25,
     "metadata": {},
     "output_type": "execute_result"
    }
   ],
   "source": [
    "train.shape"
   ]
  },
  {
   "cell_type": "markdown",
   "metadata": {},
   "source": [
    "## Modeling"
   ]
  },
  {
   "cell_type": "code",
   "execution_count": 26,
   "metadata": {},
   "outputs": [
    {
     "name": "stderr",
     "output_type": "stream",
     "text": [
      "/usr/local/lib/python3.6/dist-packages/tensorflow/python/framework/dtypes.py:523: FutureWarning: Passing (type, 1) or '1type' as a synonym of type is deprecated; in a future version of numpy, it will be understood as (type, (1,)) / '(1,)type'.\n",
      "  _np_qint8 = np.dtype([(\"qint8\", np.int8, 1)])\n",
      "/usr/local/lib/python3.6/dist-packages/tensorflow/python/framework/dtypes.py:524: FutureWarning: Passing (type, 1) or '1type' as a synonym of type is deprecated; in a future version of numpy, it will be understood as (type, (1,)) / '(1,)type'.\n",
      "  _np_quint8 = np.dtype([(\"quint8\", np.uint8, 1)])\n",
      "/usr/local/lib/python3.6/dist-packages/tensorflow/python/framework/dtypes.py:525: FutureWarning: Passing (type, 1) or '1type' as a synonym of type is deprecated; in a future version of numpy, it will be understood as (type, (1,)) / '(1,)type'.\n",
      "  _np_qint16 = np.dtype([(\"qint16\", np.int16, 1)])\n",
      "/usr/local/lib/python3.6/dist-packages/tensorflow/python/framework/dtypes.py:526: FutureWarning: Passing (type, 1) or '1type' as a synonym of type is deprecated; in a future version of numpy, it will be understood as (type, (1,)) / '(1,)type'.\n",
      "  _np_quint16 = np.dtype([(\"quint16\", np.uint16, 1)])\n",
      "/usr/local/lib/python3.6/dist-packages/tensorflow/python/framework/dtypes.py:527: FutureWarning: Passing (type, 1) or '1type' as a synonym of type is deprecated; in a future version of numpy, it will be understood as (type, (1,)) / '(1,)type'.\n",
      "  _np_qint32 = np.dtype([(\"qint32\", np.int32, 1)])\n",
      "/usr/local/lib/python3.6/dist-packages/tensorflow/python/framework/dtypes.py:532: FutureWarning: Passing (type, 1) or '1type' as a synonym of type is deprecated; in a future version of numpy, it will be understood as (type, (1,)) / '(1,)type'.\n",
      "  np_resource = np.dtype([(\"resource\", np.ubyte, 1)])\n"
     ]
    },
    {
     "name": "stdout",
     "output_type": "stream",
     "text": [
      "2.0.0-alpha0\n"
     ]
    },
    {
     "name": "stderr",
     "output_type": "stream",
     "text": [
      "/usr/local/lib/python3.6/dist-packages/tensorboard/compat/tensorflow_stub/dtypes.py:541: FutureWarning: Passing (type, 1) or '1type' as a synonym of type is deprecated; in a future version of numpy, it will be understood as (type, (1,)) / '(1,)type'.\n",
      "  _np_qint8 = np.dtype([(\"qint8\", np.int8, 1)])\n",
      "/usr/local/lib/python3.6/dist-packages/tensorboard/compat/tensorflow_stub/dtypes.py:542: FutureWarning: Passing (type, 1) or '1type' as a synonym of type is deprecated; in a future version of numpy, it will be understood as (type, (1,)) / '(1,)type'.\n",
      "  _np_quint8 = np.dtype([(\"quint8\", np.uint8, 1)])\n",
      "/usr/local/lib/python3.6/dist-packages/tensorboard/compat/tensorflow_stub/dtypes.py:543: FutureWarning: Passing (type, 1) or '1type' as a synonym of type is deprecated; in a future version of numpy, it will be understood as (type, (1,)) / '(1,)type'.\n",
      "  _np_qint16 = np.dtype([(\"qint16\", np.int16, 1)])\n",
      "/usr/local/lib/python3.6/dist-packages/tensorboard/compat/tensorflow_stub/dtypes.py:544: FutureWarning: Passing (type, 1) or '1type' as a synonym of type is deprecated; in a future version of numpy, it will be understood as (type, (1,)) / '(1,)type'.\n",
      "  _np_quint16 = np.dtype([(\"quint16\", np.uint16, 1)])\n",
      "/usr/local/lib/python3.6/dist-packages/tensorboard/compat/tensorflow_stub/dtypes.py:545: FutureWarning: Passing (type, 1) or '1type' as a synonym of type is deprecated; in a future version of numpy, it will be understood as (type, (1,)) / '(1,)type'.\n",
      "  _np_qint32 = np.dtype([(\"qint32\", np.int32, 1)])\n",
      "/usr/local/lib/python3.6/dist-packages/tensorboard/compat/tensorflow_stub/dtypes.py:550: FutureWarning: Passing (type, 1) or '1type' as a synonym of type is deprecated; in a future version of numpy, it will be understood as (type, (1,)) / '(1,)type'.\n",
      "  np_resource = np.dtype([(\"resource\", np.ubyte, 1)])\n"
     ]
    }
   ],
   "source": [
    "import tensorflow as tf\n",
    "from tensorflow.keras.layers import Dense, Dropout, Flatten, Input\n",
    "from tensorflow.keras.layers import Embedding, LSTM, concatenate\n",
    "from tensorflow.keras.layers import Conv1D, MaxPool1D\n",
    "from tensorflow.keras.models import Sequential, Model\n",
    "from tensorflow.keras.optimizers import RMSprop\n",
    "import tensorflow.keras.backend as K\n",
    "print(tf.__version__)"
   ]
  },
  {
   "cell_type": "markdown",
   "metadata": {},
   "source": [
    "## Dataset"
   ]
  },
  {
   "cell_type": "code",
   "execution_count": 27,
   "metadata": {},
   "outputs": [
    {
     "name": "stdout",
     "output_type": "stream",
     "text": [
      "data shape :  (35379, 44)\n",
      "label shape :  (35379, 1)\n"
     ]
    }
   ],
   "source": [
    "X = train.drop(['취급액'], axis = 1)\n",
    "Y = train[['취급액']]\n",
    "print(\"data shape : \", X.shape)\n",
    "print(\"label shape : \" , Y.shape)"
   ]
  },
  {
   "cell_type": "code",
   "execution_count": 28,
   "metadata": {},
   "outputs": [
    {
     "name": "stdout",
     "output_type": "stream",
     "text": [
      "x_train shape :  (31841, 44)\n",
      "y_train shape :  (31841, 1)\n",
      "x_valid shape :  (3538, 44)\n",
      "y_valid shape :  (3538, 1)\n"
     ]
    }
   ],
   "source": [
    "x_train, x_valid, y_train, y_valid = train_test_split(X, Y, test_size = 0.1, random_state = 123457)\n",
    "print(\"x_train shape : \", x_train.shape)\n",
    "print(\"y_train shape : \", y_train.shape)\n",
    "print(\"x_valid shape : \", x_valid.shape)\n",
    "print(\"y_valid shape : \", y_valid.shape)"
   ]
  },
  {
   "cell_type": "markdown",
   "metadata": {},
   "source": [
    "## Filtering\n",
    "- test data에서 기존 dataset에 학습된 기록이 있는지 검사하기(상품코드) - encoder에서 검사할 수 있을듯???\n",
    "    - 그러면 애초에 train, valid나눈 상황에서 돌아가는지 확인해야 할듯, 지금은 encoding을 하고 나서 train, valid나누는 방식\n",
    "    - 없을 때 : 1)마더코드 조회, 2)binary encoded 부분을 전부 0으로 채우고 진행한다."
   ]
  },
  {
   "cell_type": "code",
   "execution_count": null,
   "metadata": {},
   "outputs": [],
   "source": [
    "# Encoder 조회\n"
   ]
  },
  {
   "cell_type": "code",
   "execution_count": 34,
   "metadata": {},
   "outputs": [
    {
     "data": {
      "text/plain": [
       "LabelEncoder()"
      ]
     },
     "execution_count": 34,
     "metadata": {},
     "output_type": "execute_result"
    }
   ],
   "source": [
    "encoders['마더코드']"
   ]
  },
  {
   "cell_type": "markdown",
   "metadata": {},
   "source": [
    "## XGBoost"
   ]
  },
  {
   "cell_type": "code",
   "execution_count": 29,
   "metadata": {},
   "outputs": [],
   "source": [
    "import xgboost as xgb\n",
    "import seaborn as sns"
   ]
  },
  {
   "cell_type": "code",
   "execution_count": 30,
   "metadata": {},
   "outputs": [
    {
     "data": {
      "text/plain": [
       "'1.2.0'"
      ]
     },
     "execution_count": 30,
     "metadata": {},
     "output_type": "execute_result"
    }
   ],
   "source": [
    "xgb.__version__"
   ]
  },
  {
   "cell_type": "code",
   "execution_count": 31,
   "metadata": {},
   "outputs": [],
   "source": [
    "model1 = xgb.XGBRegressor(learning_rate = 0.1,\n",
    "                          max_depth = 20,\n",
    "                          n_estimators = 100)"
   ]
  },
  {
   "cell_type": "code",
   "execution_count": 32,
   "metadata": {},
   "outputs": [
    {
     "data": {
      "text/plain": [
       "XGBRegressor(base_score=0.5, booster='gbtree', colsample_bylevel=1,\n",
       "             colsample_bynode=1, colsample_bytree=1, gamma=0, gpu_id=-1,\n",
       "             importance_type='gain', interaction_constraints='',\n",
       "             learning_rate=0.1, max_delta_step=0, max_depth=20,\n",
       "             min_child_weight=1, missing=nan, monotone_constraints='()',\n",
       "             n_estimators=100, n_jobs=0, num_parallel_tree=1, random_state=0,\n",
       "             reg_alpha=0, reg_lambda=1, scale_pos_weight=1, subsample=1,\n",
       "             tree_method='exact', validate_parameters=1, verbosity=None)"
      ]
     },
     "execution_count": 32,
     "metadata": {},
     "output_type": "execute_result"
    }
   ],
   "source": [
    "model1.fit(x_train, y_train)"
   ]
  },
  {
   "cell_type": "code",
   "execution_count": null,
   "metadata": {},
   "outputs": [],
   "source": [
    "# y_train = y_train.values.reshape(y_train.shape[0],)\n",
    "y_valid = y_valid.values.reshape(y_valid.shape[0],)"
   ]
  },
  {
   "cell_type": "code",
   "execution_count": null,
   "metadata": {},
   "outputs": [],
   "source": [
    "sns.scatterplot(y_train, model1.predict(x_train))"
   ]
  },
  {
   "cell_type": "code",
   "execution_count": null,
   "metadata": {},
   "outputs": [],
   "source": [
    "y_pred = model1.predict(x_valid)\n",
    "sns.scatterplot(y_valid, y_pred)"
   ]
  },
  {
   "cell_type": "code",
   "execution_count": null,
   "metadata": {},
   "outputs": [],
   "source": [
    "model1.score(x_valid, y_valid)"
   ]
  },
  {
   "cell_type": "code",
   "execution_count": null,
   "metadata": {},
   "outputs": [],
   "source": [
    "from sklearn.metrics import accuracy_score\n",
    "from sklearn.utils import check_array\n",
    "def mean_absolute_percentage_error(y_true, y_pred): \n",
    "    y_true, y_pred = check_array(y_true, y_pred)\n",
    "\n",
    "    ## Note: does not handle mix 1d representation\n",
    "    #if _is_1d(y_true): \n",
    "    #    y_true, y_pred = _check_1d_array(y_true, y_pred)\n",
    "\n",
    "    return ('MAPE', np.mean(np.abs((y_true - y_pred) / y_true)))"
   ]
  },
  {
   "cell_type": "code",
   "execution_count": null,
   "metadata": {
    "scrolled": true
   },
   "outputs": [],
   "source": [
    "mean_absolute_percentage_error(y_valid, y_pred)"
   ]
  },
  {
   "cell_type": "code",
   "execution_count": null,
   "metadata": {},
   "outputs": [],
   "source": [
    "model2 = xgb.XGBRegressor(learning_rate = 0.1,\n",
    "                          objective = mean_absolute_percentage_error,\n",
    "                          max_depth = 20,\n",
    "                          n_estimators = 100)"
   ]
  },
  {
   "cell_type": "code",
   "execution_count": null,
   "metadata": {},
   "outputs": [],
   "source": [
    "y_train =y_train[:, np.newaxis]\n",
    "y_train.shape"
   ]
  },
  {
   "cell_type": "code",
   "execution_count": null,
   "metadata": {},
   "outputs": [],
   "source": [
    "model2.fit(x_train, y_train,\n",
    "          eval_set = [(x_train, y_train), (x_valid, y_valid)])"
   ]
  },
  {
   "cell_type": "code",
   "execution_count": null,
   "metadata": {},
   "outputs": [],
   "source": [
    "model1.save_model(\"xgb20.json\")"
   ]
  },
  {
   "cell_type": "markdown",
   "metadata": {},
   "source": [
    "## Random Forest"
   ]
  },
  {
   "cell_type": "code",
   "execution_count": null,
   "metadata": {},
   "outputs": [],
   "source": [
    "from sklearn.ensemble import RandomForestRegressor\n",
    "\n",
    "rf = RandomForestRegressor(max_depth = 100,\n",
    "                           random_state = 0)\n",
    "rf.fit(x_train, y_train)"
   ]
  },
  {
   "cell_type": "code",
   "execution_count": null,
   "metadata": {},
   "outputs": [],
   "source": [
    "# sns.scatterplot(_data['취급액'], rf.predict(X))"
   ]
  },
  {
   "cell_type": "code",
   "execution_count": null,
   "metadata": {
    "scrolled": true
   },
   "outputs": [],
   "source": [
    "rf_pred = rf.predict(x_valid)\n",
    "mean_absolute_percentage_error(y_valid, rf_pred)"
   ]
  },
  {
   "cell_type": "code",
   "execution_count": null,
   "metadata": {},
   "outputs": [],
   "source": [
    "sns.scatterplot(y_valid, rf_pred)"
   ]
  },
  {
   "cell_type": "code",
   "execution_count": null,
   "metadata": {},
   "outputs": [],
   "source": [
    "rf.score(x_train, y_train)"
   ]
  },
  {
   "cell_type": "code",
   "execution_count": null,
   "metadata": {},
   "outputs": [],
   "source": [
    "rf.score(x_valid, y_valid)"
   ]
  },
  {
   "cell_type": "markdown",
   "metadata": {},
   "source": [
    "## stack 3 RF models"
   ]
  },
  {
   "cell_type": "code",
   "execution_count": null,
   "metadata": {},
   "outputs": [],
   "source": [
    "rf_1 = RandomForestRegressor(max_depth = 30,\n",
    "                           random_state = 1)\n",
    "rf_1.fit(x_train, y_train)"
   ]
  },
  {
   "cell_type": "code",
   "execution_count": null,
   "metadata": {},
   "outputs": [],
   "source": [
    "rf_2 = RandomForestRegressor(max_depth = 20,\n",
    "                           random_state = 0)\n",
    "rf_2.fit(x_train, y_train)"
   ]
  },
  {
   "cell_type": "code",
   "execution_count": null,
   "metadata": {},
   "outputs": [],
   "source": [
    "rf1_pred = rf_1.predict(x_valid)\n",
    "rf2_pred = rf_2.predict(x_valid)"
   ]
  },
  {
   "cell_type": "code",
   "execution_count": null,
   "metadata": {},
   "outputs": [],
   "source": [
    "rf_3 = (rf_pred+rf1_pred+rf2_pred) / 3\n",
    "rf_3"
   ]
  },
  {
   "cell_type": "code",
   "execution_count": null,
   "metadata": {},
   "outputs": [],
   "source": [
    "mean_absolute_percentage_error(y_valid, rf_3)"
   ]
  },
  {
   "cell_type": "code",
   "execution_count": null,
   "metadata": {},
   "outputs": [],
   "source": [
    "sns.scatterplot(y_valid, rf_3)"
   ]
  },
  {
   "cell_type": "markdown",
   "metadata": {},
   "source": [
    "## LightGBM"
   ]
  },
  {
   "cell_type": "code",
   "execution_count": null,
   "metadata": {},
   "outputs": [],
   "source": []
  }
 ],
 "metadata": {
  "kernelspec": {
   "display_name": "Python 3",
   "language": "python",
   "name": "python3"
  },
  "language_info": {
   "codemirror_mode": {
    "name": "ipython",
    "version": 3
   },
   "file_extension": ".py",
   "mimetype": "text/x-python",
   "name": "python",
   "nbconvert_exporter": "python",
   "pygments_lexer": "ipython3",
   "version": "3.6.9"
  }
 },
 "nbformat": 4,
 "nbformat_minor": 4
}
