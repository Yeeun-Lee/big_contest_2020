{
 "cells": [
  {
   "cell_type": "markdown",
   "metadata": {},
   "source": [
    "## 딥러닝과 통계모델을 이용한 T-커머스 매출 예측\n",
    "\n",
    "### Process\n",
    "1. Sales record(실적 데이터)\n",
    "2. weighted avverage of hourly product sales\n",
    "3. sparsity control by Gaussian smoothing along time\n",
    "4. Sparsity control by SVD\n",
    "5. Decay by last sales day\n"
   ]
  },
  {
   "cell_type": "code",
   "execution_count": 1,
   "metadata": {},
   "outputs": [],
   "source": [
    "import numpy as np\n",
    "import pandas as pd\n",
    "import os"
   ]
  },
  {
   "cell_type": "code",
   "execution_count": 4,
   "metadata": {},
   "outputs": [],
   "source": [
    "def drop_unnamed(data):\n",
    "    names = data.columns\n",
    "    for name in names:\n",
    "        if \"Unnamed\" in name:\n",
    "            data.pop(name)\n",
    "    return data"
   ]
  },
  {
   "cell_type": "code",
   "execution_count": 5,
   "metadata": {},
   "outputs": [
    {
     "data": {
      "text/html": [
       "<div>\n",
       "<style scoped>\n",
       "    .dataframe tbody tr th:only-of-type {\n",
       "        vertical-align: middle;\n",
       "    }\n",
       "\n",
       "    .dataframe tbody tr th {\n",
       "        vertical-align: top;\n",
       "    }\n",
       "\n",
       "    .dataframe thead th {\n",
       "        text-align: right;\n",
       "    }\n",
       "</style>\n",
       "<table border=\"1\" class=\"dataframe\">\n",
       "  <thead>\n",
       "    <tr style=\"text-align: right;\">\n",
       "      <th></th>\n",
       "      <th>방송일시</th>\n",
       "      <th>노출(분)</th>\n",
       "      <th>마더코드</th>\n",
       "      <th>상품코드</th>\n",
       "      <th>상품명</th>\n",
       "      <th>상품군</th>\n",
       "      <th>판매단가</th>\n",
       "      <th>취급액</th>\n",
       "      <th>date</th>\n",
       "      <th>week</th>\n",
       "      <th>time</th>\n",
       "      <th>hour</th>\n",
       "      <th>prime</th>\n",
       "      <th>real_date</th>\n",
       "      <th>설명</th>\n",
       "      <th>IsHoliday</th>\n",
       "      <th>지속휴일수</th>\n",
       "      <th>TEMP</th>\n",
       "      <th>HUM</th>\n",
       "    </tr>\n",
       "  </thead>\n",
       "  <tbody>\n",
       "    <tr>\n",
       "      <th>0</th>\n",
       "      <td>2019-01-01 06:00:00</td>\n",
       "      <td>20.0</td>\n",
       "      <td>100346</td>\n",
       "      <td>201072</td>\n",
       "      <td>테이트 남성 셀린니트3종</td>\n",
       "      <td>의류</td>\n",
       "      <td>39900</td>\n",
       "      <td>2099000.0</td>\n",
       "      <td>2019-01-01 00:00:00</td>\n",
       "      <td>1</td>\n",
       "      <td>06:00:00</td>\n",
       "      <td>6</td>\n",
       "      <td>0</td>\n",
       "      <td>2019-01-01 00:00:00</td>\n",
       "      <td>새해</td>\n",
       "      <td>1.0</td>\n",
       "      <td>1.0</td>\n",
       "      <td>-6.576974</td>\n",
       "      <td>63.524958</td>\n",
       "    </tr>\n",
       "    <tr>\n",
       "      <th>1</th>\n",
       "      <td>2019-01-01 06:00:00</td>\n",
       "      <td>20.0</td>\n",
       "      <td>100346</td>\n",
       "      <td>201079</td>\n",
       "      <td>테이트 여성 셀린니트3종</td>\n",
       "      <td>의류</td>\n",
       "      <td>39900</td>\n",
       "      <td>4371000.0</td>\n",
       "      <td>2019-01-01 00:00:00</td>\n",
       "      <td>1</td>\n",
       "      <td>06:00:00</td>\n",
       "      <td>6</td>\n",
       "      <td>0</td>\n",
       "      <td>2019-01-01 00:00:00</td>\n",
       "      <td>새해</td>\n",
       "      <td>1.0</td>\n",
       "      <td>1.0</td>\n",
       "      <td>-6.576974</td>\n",
       "      <td>63.524958</td>\n",
       "    </tr>\n",
       "  </tbody>\n",
       "</table>\n",
       "</div>"
      ],
      "text/plain": [
       "                  방송일시  노출(분)    마더코드    상품코드            상품명 상품군   판매단가  \\\n",
       "0  2019-01-01 06:00:00   20.0  100346  201072  테이트 남성 셀린니트3종  의류  39900   \n",
       "1  2019-01-01 06:00:00   20.0  100346  201079  테이트 여성 셀린니트3종  의류  39900   \n",
       "\n",
       "         취급액                 date  week      time  hour  prime  \\\n",
       "0  2099000.0  2019-01-01 00:00:00     1  06:00:00     6      0   \n",
       "1  4371000.0  2019-01-01 00:00:00     1  06:00:00     6      0   \n",
       "\n",
       "             real_date  설명  IsHoliday  지속휴일수      TEMP        HUM  \n",
       "0  2019-01-01 00:00:00  새해        1.0    1.0 -6.576974  63.524958  \n",
       "1  2019-01-01 00:00:00  새해        1.0    1.0 -6.576974  63.524958  "
      ]
     },
     "execution_count": 5,
     "metadata": {},
     "output_type": "execute_result"
    }
   ],
   "source": [
    "pf = pd.read_csv(\"/home/yeeunlee/bigcon2020_parrot/prep/data/final_performance.csv\")\n",
    "pf = drop_unnamed(pf)\n",
    "pf.head(2)"
   ]
  },
  {
   "cell_type": "code",
   "execution_count": 6,
   "metadata": {},
   "outputs": [
    {
     "name": "stdout",
     "output_type": "stream",
     "text": [
      "<class 'pandas.core.frame.DataFrame'>\n",
      "RangeIndex: 35284 entries, 0 to 35283\n",
      "Data columns (total 19 columns):\n",
      " #   Column     Non-Null Count  Dtype  \n",
      "---  ------     --------------  -----  \n",
      " 0   방송일시       35284 non-null  object \n",
      " 1   노출(분)      35284 non-null  float64\n",
      " 2   마더코드       35284 non-null  int64  \n",
      " 3   상품코드       35284 non-null  int64  \n",
      " 4   상품명        35284 non-null  object \n",
      " 5   상품군        35284 non-null  object \n",
      " 6   판매단가       35284 non-null  int64  \n",
      " 7   취급액        35284 non-null  float64\n",
      " 8   date       35284 non-null  object \n",
      " 9   week       35284 non-null  int64  \n",
      " 10  time       35284 non-null  object \n",
      " 11  hour       35284 non-null  int64  \n",
      " 12  prime      35284 non-null  int64  \n",
      " 13  real_date  35284 non-null  object \n",
      " 14  설명         1668 non-null   object \n",
      " 15  IsHoliday  35284 non-null  float64\n",
      " 16  지속휴일수      35284 non-null  float64\n",
      " 17  TEMP       35284 non-null  float64\n",
      " 18  HUM        35284 non-null  float64\n",
      "dtypes: float64(6), int64(6), object(7)\n",
      "memory usage: 5.1+ MB\n"
     ]
    }
   ],
   "source": [
    "pf.info()"
   ]
  },
  {
   "cell_type": "code",
   "execution_count": 32,
   "metadata": {},
   "outputs": [],
   "source": [
    "import sklearn\n",
    "from sklearn.preprocessing import LabelEncoder, MinMaxScaler\n",
    "from tqdm.auto import tqdm\n",
    "import gc"
   ]
  },
  {
   "cell_type": "markdown",
   "metadata": {},
   "source": [
    "### Encoding"
   ]
  },
  {
   "cell_type": "code",
   "execution_count": 16,
   "metadata": {},
   "outputs": [],
   "source": [
    "# data type set\n",
    "obj = ['마더코드', '상품코드', 'week', 'hour', 'prime', 'IsHoliday']\n",
    "\n",
    "for col in obj:\n",
    "    pf[col] = pf[col].astype('U')"
   ]
  },
  {
   "cell_type": "code",
   "execution_count": 20,
   "metadata": {},
   "outputs": [],
   "source": [
    "# Encoding\n",
    "dtypes = pf.dtypes\n",
    "encoders = {}\n",
    "for column in pf.columns:\n",
    "    if str(dtypes[column]) == 'object':\n",
    "        encoder = LabelEncoder()\n",
    "        encoder.fit(pf[column])\n",
    "        encoders[column] = encoder\n",
    "\n",
    "_data = pf.copy()\n",
    "for column in encoders.keys():\n",
    "    encoder = encoders[column]\n",
    "    _data[column] = encoder.transform(_data[column])"
   ]
  },
  {
   "cell_type": "code",
   "execution_count": null,
   "metadata": {},
   "outputs": [],
   "source": [
    "# scale dataset\n",
    "scaler = MinMaxScaler()\n",
    "cols = ['TEMP', 'HUM']\n",
    "_data[cols] = scal"
   ]
  },
  {
   "cell_type": "code",
   "execution_count": 21,
   "metadata": {},
   "outputs": [
    {
     "data": {
      "text/html": [
       "<div>\n",
       "<style scoped>\n",
       "    .dataframe tbody tr th:only-of-type {\n",
       "        vertical-align: middle;\n",
       "    }\n",
       "\n",
       "    .dataframe tbody tr th {\n",
       "        vertical-align: top;\n",
       "    }\n",
       "\n",
       "    .dataframe thead th {\n",
       "        text-align: right;\n",
       "    }\n",
       "</style>\n",
       "<table border=\"1\" class=\"dataframe\">\n",
       "  <thead>\n",
       "    <tr style=\"text-align: right;\">\n",
       "      <th></th>\n",
       "      <th>방송일시</th>\n",
       "      <th>노출(분)</th>\n",
       "      <th>마더코드</th>\n",
       "      <th>상품코드</th>\n",
       "      <th>상품명</th>\n",
       "      <th>상품군</th>\n",
       "      <th>판매단가</th>\n",
       "      <th>취급액</th>\n",
       "      <th>date</th>\n",
       "      <th>week</th>\n",
       "      <th>time</th>\n",
       "      <th>hour</th>\n",
       "      <th>prime</th>\n",
       "      <th>real_date</th>\n",
       "      <th>설명</th>\n",
       "      <th>IsHoliday</th>\n",
       "      <th>지속휴일수</th>\n",
       "      <th>TEMP</th>\n",
       "      <th>HUM</th>\n",
       "    </tr>\n",
       "  </thead>\n",
       "  <tbody>\n",
       "    <tr>\n",
       "      <th>0</th>\n",
       "      <td>0</td>\n",
       "      <td>65</td>\n",
       "      <td>296</td>\n",
       "      <td>891</td>\n",
       "      <td>1512</td>\n",
       "      <td>6</td>\n",
       "      <td>236</td>\n",
       "      <td>6664</td>\n",
       "      <td>0</td>\n",
       "      <td>1</td>\n",
       "      <td>14</td>\n",
       "      <td>17</td>\n",
       "      <td>0</td>\n",
       "      <td>0</td>\n",
       "      <td>6</td>\n",
       "      <td>1</td>\n",
       "      <td>1</td>\n",
       "      <td>599</td>\n",
       "      <td>3593</td>\n",
       "    </tr>\n",
       "    <tr>\n",
       "      <th>1</th>\n",
       "      <td>0</td>\n",
       "      <td>65</td>\n",
       "      <td>296</td>\n",
       "      <td>898</td>\n",
       "      <td>1518</td>\n",
       "      <td>6</td>\n",
       "      <td>236</td>\n",
       "      <td>15883</td>\n",
       "      <td>0</td>\n",
       "      <td>1</td>\n",
       "      <td>14</td>\n",
       "      <td>17</td>\n",
       "      <td>0</td>\n",
       "      <td>0</td>\n",
       "      <td>6</td>\n",
       "      <td>1</td>\n",
       "      <td>1</td>\n",
       "      <td>599</td>\n",
       "      <td>3593</td>\n",
       "    </tr>\n",
       "  </tbody>\n",
       "</table>\n",
       "</div>"
      ],
      "text/plain": [
       "   방송일시  노출(분)  마더코드  상품코드   상품명  상품군  판매단가    취급액  date  week  time  hour  \\\n",
       "0     0     65   296   891  1512    6   236   6664     0     1    14    17   \n",
       "1     0     65   296   898  1518    6   236  15883     0     1    14    17   \n",
       "\n",
       "   prime  real_date  설명  IsHoliday  지속휴일수  TEMP   HUM  \n",
       "0      0          0   6          1      1   599  3593  \n",
       "1      0          0   6          1      1   599  3593  "
      ]
     },
     "execution_count": 21,
     "metadata": {},
     "output_type": "execute_result"
    }
   ],
   "source": [
    "_data.head(2)"
   ]
  },
  {
   "cell_type": "code",
   "execution_count": 22,
   "metadata": {},
   "outputs": [
    {
     "name": "stdout",
     "output_type": "stream",
     "text": [
      "<class 'pandas.core.frame.DataFrame'>\n",
      "RangeIndex: 35284 entries, 0 to 35283\n",
      "Data columns (total 19 columns):\n",
      " #   Column     Non-Null Count  Dtype\n",
      "---  ------     --------------  -----\n",
      " 0   방송일시       35284 non-null  int64\n",
      " 1   노출(분)      35284 non-null  int64\n",
      " 2   마더코드       35284 non-null  int64\n",
      " 3   상품코드       35284 non-null  int64\n",
      " 4   상품명        35284 non-null  int64\n",
      " 5   상품군        35284 non-null  int64\n",
      " 6   판매단가       35284 non-null  int64\n",
      " 7   취급액        35284 non-null  int64\n",
      " 8   date       35284 non-null  int64\n",
      " 9   week       35284 non-null  int64\n",
      " 10  time       35284 non-null  int64\n",
      " 11  hour       35284 non-null  int64\n",
      " 12  prime      35284 non-null  int64\n",
      " 13  real_date  35284 non-null  int64\n",
      " 14  설명         35284 non-null  int64\n",
      " 15  IsHoliday  35284 non-null  int64\n",
      " 16  지속휴일수      35284 non-null  int64\n",
      " 17  TEMP       35284 non-null  int64\n",
      " 18  HUM        35284 non-null  int64\n",
      "dtypes: int64(19)\n",
      "memory usage: 5.1 MB\n"
     ]
    }
   ],
   "source": [
    "_data.info()"
   ]
  },
  {
   "cell_type": "markdown",
   "metadata": {},
   "source": [
    "## DNN Regression"
   ]
  },
  {
   "cell_type": "code",
   "execution_count": 25,
   "metadata": {},
   "outputs": [
    {
     "name": "stdout",
     "output_type": "stream",
     "text": [
      "2.0.0-alpha0\n"
     ]
    }
   ],
   "source": [
    "import tensorflow as tf\n",
    "from tensorflow.keras.layers import Dense, Dropout, Flatten\n",
    "from tensorflow.keras.layers import Embedding, LSTM, concatenate\n",
    "from tensorflow.keras.models import Sequential, Model\n",
    "from tensorflow.keras.optimizers import RMSprop\n",
    "import tensorflow.keras.backend as K\n",
    "print(tf.__version__)"
   ]
  },
  {
   "cell_type": "code",
   "execution_count": 24,
   "metadata": {},
   "outputs": [
    {
     "name": "stdout",
     "output_type": "stream",
     "text": [
      "data shape :  (35284, 18)\n",
      "label shape :  (35284, 1)\n"
     ]
    }
   ],
   "source": [
    "X = _data.drop(['취급액'], axis = 1)\n",
    "Y = _data[['취급액']]\n",
    "print(\"data shape : \", X.shape)\n",
    "print(\"label shape : \" , Y.shape)"
   ]
  },
  {
   "cell_type": "code",
   "execution_count": 29,
   "metadata": {},
   "outputs": [
    {
     "name": "stdout",
     "output_type": "stream",
     "text": [
      "Model: \"sequential\"\n",
      "_________________________________________________________________\n",
      "Layer (type)                 Output Shape              Param #   \n",
      "=================================================================\n",
      "dense (Dense)                (None, 128)               2432      \n",
      "_________________________________________________________________\n",
      "dense_1 (Dense)              (None, 64)                8256      \n",
      "_________________________________________________________________\n",
      "dropout (Dropout)            (None, 64)                0         \n",
      "_________________________________________________________________\n",
      "dense_2 (Dense)              (None, 1)                 65        \n",
      "=================================================================\n",
      "Total params: 10,753\n",
      "Trainable params: 10,753\n",
      "Non-trainable params: 0\n",
      "_________________________________________________________________\n"
     ]
    }
   ],
   "source": [
    "K.clear_session()\n",
    "model = Sequential()\n",
    "\n",
    "model.add(Dense(128, input_shape = (18, ), activation = 'relu'))\n",
    "model.add(Dense(64, activation = 'relu'))\n",
    "\n",
    "model.add(Dropout(0.1))\n",
    "model.add(Dense(1))\n",
    "\n",
    "model.compile(optimizer = RMSprop(),\n",
    "             loss = 'mse',\n",
    "             metrics = ['mse'])\n",
    "model.summary()"
   ]
  },
  {
   "cell_type": "code",
   "execution_count": 31,
   "metadata": {},
   "outputs": [
    {
     "name": "stdout",
     "output_type": "stream",
     "text": [
      "Train on 31755 samples, validate on 3529 samples\n",
      "Epoch 1/10\n",
      "31755/31755 [==============================] - 1s 35us/sample - loss: 58672971.6133 - mse: 58672896.0000 - val_loss: 53523329.0224 - val_mse: 53523328.0000\n",
      "Epoch 2/10\n",
      "31755/31755 [==============================] - 1s 32us/sample - loss: 54683650.0212 - mse: 54683676.0000 - val_loss: 52191373.7489 - val_mse: 52191380.0000\n",
      "Epoch 3/10\n",
      "31755/31755 [==============================] - 1s 30us/sample - loss: 53647507.3544 - mse: 53647480.0000 - val_loss: 54544590.0788 - val_mse: 54544600.0000\n",
      "Epoch 4/10\n",
      "31755/31755 [==============================] - 1s 29us/sample - loss: 53421589.1745 - mse: 53421616.0000 - val_loss: 51243777.5188 - val_mse: 51243776.0000\n",
      "Epoch 5/10\n",
      "31755/31755 [==============================] - 1s 33us/sample - loss: 53209366.5995 - mse: 53209368.0000 - val_loss: 50744136.8773 - val_mse: 50744128.0000\n",
      "Epoch 6/10\n",
      "31755/31755 [==============================] - 1s 38us/sample - loss: 53010175.4965 - mse: 53010192.0000 - val_loss: 50655226.8257 - val_mse: 50655228.0000\n",
      "Epoch 7/10\n",
      "31755/31755 [==============================] - 2s 49us/sample - loss: 52889233.5461 - mse: 52889228.0000 - val_loss: 50740789.6900 - val_mse: 50740792.0000\n",
      "Epoch 8/10\n",
      "31755/31755 [==============================] - 2s 51us/sample - loss: 52780390.0027 - mse: 52780348.0000 - val_loss: 52637069.3885 - val_mse: 52637080.0000\n",
      "Epoch 9/10\n",
      "31755/31755 [==============================] - 2s 50us/sample - loss: 52740299.0189 - mse: 52740284.0000 - val_loss: 53013586.6942 - val_mse: 53013588.0000\n",
      "Epoch 10/10\n",
      "31755/31755 [==============================] - 2s 50us/sample - loss: 52714809.0736 - mse: 52714860.0000 - val_loss: 52089201.3035 - val_mse: 52089208.0000\n"
     ]
    }
   ],
   "source": [
    "# fit model\n",
    "hist = model.fit(X, Y, epochs = 10, verbose = 1, validation_split = 0.1)"
   ]
  },
  {
   "cell_type": "code",
   "execution_count": null,
   "metadata": {},
   "outputs": [],
   "source": []
  }
 ],
 "metadata": {
  "kernelspec": {
   "display_name": "Python 3",
   "language": "python",
   "name": "python3"
  },
  "language_info": {
   "codemirror_mode": {
    "name": "ipython",
    "version": 3
   },
   "file_extension": ".py",
   "mimetype": "text/x-python",
   "name": "python",
   "nbconvert_exporter": "python",
   "pygments_lexer": "ipython3",
   "version": "3.6.9"
  }
 },
 "nbformat": 4,
 "nbformat_minor": 4
}
