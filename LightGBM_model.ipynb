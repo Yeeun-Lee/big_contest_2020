{
 "cells": [
  {
   "cell_type": "code",
   "execution_count": 8,
   "metadata": {},
   "outputs": [],
   "source": [
    "import pandas as pd\n",
    "import numpy as np"
   ]
  },
  {
   "cell_type": "code",
   "execution_count": 2,
   "metadata": {},
   "outputs": [
    {
     "data": {
      "text/html": [
       "<div>\n",
       "<style scoped>\n",
       "    .dataframe tbody tr th:only-of-type {\n",
       "        vertical-align: middle;\n",
       "    }\n",
       "\n",
       "    .dataframe tbody tr th {\n",
       "        vertical-align: top;\n",
       "    }\n",
       "\n",
       "    .dataframe thead th {\n",
       "        text-align: right;\n",
       "    }\n",
       "</style>\n",
       "<table border=\"1\" class=\"dataframe\">\n",
       "  <thead>\n",
       "    <tr style=\"text-align: right;\">\n",
       "      <th></th>\n",
       "      <th>Unnamed: 0</th>\n",
       "      <th>방송일시</th>\n",
       "      <th>노출(분)</th>\n",
       "      <th>마더코드</th>\n",
       "      <th>상품코드</th>\n",
       "      <th>상품명</th>\n",
       "      <th>상품군</th>\n",
       "      <th>판매단가</th>\n",
       "      <th>취급액</th>\n",
       "      <th>date</th>\n",
       "      <th>...</th>\n",
       "      <th>g_3</th>\n",
       "      <th>s_0</th>\n",
       "      <th>s_1</th>\n",
       "      <th>w_0</th>\n",
       "      <th>w_1</th>\n",
       "      <th>w_2</th>\n",
       "      <th>w_3</th>\n",
       "      <th>w_4</th>\n",
       "      <th>w_5</th>\n",
       "      <th>cpi</th>\n",
       "    </tr>\n",
       "  </thead>\n",
       "  <tbody>\n",
       "    <tr>\n",
       "      <th>0</th>\n",
       "      <td>0</td>\n",
       "      <td>2019-01-01 06:00:00</td>\n",
       "      <td>20.0</td>\n",
       "      <td>296</td>\n",
       "      <td>891</td>\n",
       "      <td>테이트 남성 셀린니트3종</td>\n",
       "      <td>6</td>\n",
       "      <td>39900</td>\n",
       "      <td>2099000.0</td>\n",
       "      <td>2019-01-01</td>\n",
       "      <td>...</td>\n",
       "      <td>0</td>\n",
       "      <td>0</td>\n",
       "      <td>0</td>\n",
       "      <td>0</td>\n",
       "      <td>0</td>\n",
       "      <td>0</td>\n",
       "      <td>0</td>\n",
       "      <td>0</td>\n",
       "      <td>0</td>\n",
       "      <td>104.03</td>\n",
       "    </tr>\n",
       "    <tr>\n",
       "      <th>1</th>\n",
       "      <td>1</td>\n",
       "      <td>2019-01-01 06:00:00</td>\n",
       "      <td>20.0</td>\n",
       "      <td>296</td>\n",
       "      <td>898</td>\n",
       "      <td>테이트 여성 셀린니트3종</td>\n",
       "      <td>6</td>\n",
       "      <td>39900</td>\n",
       "      <td>4371000.0</td>\n",
       "      <td>2019-01-01</td>\n",
       "      <td>...</td>\n",
       "      <td>0</td>\n",
       "      <td>0</td>\n",
       "      <td>0</td>\n",
       "      <td>0</td>\n",
       "      <td>0</td>\n",
       "      <td>0</td>\n",
       "      <td>0</td>\n",
       "      <td>0</td>\n",
       "      <td>0</td>\n",
       "      <td>104.03</td>\n",
       "    </tr>\n",
       "    <tr>\n",
       "      <th>2</th>\n",
       "      <td>2</td>\n",
       "      <td>2019-01-01 06:20:00</td>\n",
       "      <td>20.0</td>\n",
       "      <td>296</td>\n",
       "      <td>891</td>\n",
       "      <td>테이트 남성 셀린니트3종</td>\n",
       "      <td>6</td>\n",
       "      <td>39900</td>\n",
       "      <td>3262000.0</td>\n",
       "      <td>2019-01-01</td>\n",
       "      <td>...</td>\n",
       "      <td>0</td>\n",
       "      <td>1</td>\n",
       "      <td>0</td>\n",
       "      <td>0</td>\n",
       "      <td>0</td>\n",
       "      <td>0</td>\n",
       "      <td>0</td>\n",
       "      <td>0</td>\n",
       "      <td>0</td>\n",
       "      <td>104.03</td>\n",
       "    </tr>\n",
       "    <tr>\n",
       "      <th>3</th>\n",
       "      <td>3</td>\n",
       "      <td>2019-01-01 06:20:00</td>\n",
       "      <td>20.0</td>\n",
       "      <td>296</td>\n",
       "      <td>898</td>\n",
       "      <td>테이트 여성 셀린니트3종</td>\n",
       "      <td>6</td>\n",
       "      <td>39900</td>\n",
       "      <td>6955000.0</td>\n",
       "      <td>2019-01-01</td>\n",
       "      <td>...</td>\n",
       "      <td>0</td>\n",
       "      <td>1</td>\n",
       "      <td>0</td>\n",
       "      <td>0</td>\n",
       "      <td>0</td>\n",
       "      <td>0</td>\n",
       "      <td>0</td>\n",
       "      <td>0</td>\n",
       "      <td>0</td>\n",
       "      <td>104.03</td>\n",
       "    </tr>\n",
       "    <tr>\n",
       "      <th>4</th>\n",
       "      <td>4</td>\n",
       "      <td>2019-01-01 06:40:00</td>\n",
       "      <td>20.0</td>\n",
       "      <td>296</td>\n",
       "      <td>891</td>\n",
       "      <td>테이트 남성 셀린니트3종</td>\n",
       "      <td>6</td>\n",
       "      <td>39900</td>\n",
       "      <td>6672000.0</td>\n",
       "      <td>2019-01-01</td>\n",
       "      <td>...</td>\n",
       "      <td>0</td>\n",
       "      <td>0</td>\n",
       "      <td>1</td>\n",
       "      <td>0</td>\n",
       "      <td>0</td>\n",
       "      <td>0</td>\n",
       "      <td>0</td>\n",
       "      <td>0</td>\n",
       "      <td>0</td>\n",
       "      <td>104.03</td>\n",
       "    </tr>\n",
       "    <tr>\n",
       "      <th>...</th>\n",
       "      <td>...</td>\n",
       "      <td>...</td>\n",
       "      <td>...</td>\n",
       "      <td>...</td>\n",
       "      <td>...</td>\n",
       "      <td>...</td>\n",
       "      <td>...</td>\n",
       "      <td>...</td>\n",
       "      <td>...</td>\n",
       "      <td>...</td>\n",
       "      <td>...</td>\n",
       "      <td>...</td>\n",
       "      <td>...</td>\n",
       "      <td>...</td>\n",
       "      <td>...</td>\n",
       "      <td>...</td>\n",
       "      <td>...</td>\n",
       "      <td>...</td>\n",
       "      <td>...</td>\n",
       "      <td>...</td>\n",
       "      <td>...</td>\n",
       "    </tr>\n",
       "    <tr>\n",
       "      <th>35374</th>\n",
       "      <td>35374</td>\n",
       "      <td>2019-12-31 23:40:00</td>\n",
       "      <td>20.0</td>\n",
       "      <td>374</td>\n",
       "      <td>1130</td>\n",
       "      <td>일시불쿠첸압력밥솥 6인용</td>\n",
       "      <td>9</td>\n",
       "      <td>148000</td>\n",
       "      <td>10157000.0</td>\n",
       "      <td>2019-12-31</td>\n",
       "      <td>...</td>\n",
       "      <td>1</td>\n",
       "      <td>1</td>\n",
       "      <td>0</td>\n",
       "      <td>0</td>\n",
       "      <td>0</td>\n",
       "      <td>0</td>\n",
       "      <td>0</td>\n",
       "      <td>0</td>\n",
       "      <td>0</td>\n",
       "      <td>105.51</td>\n",
       "    </tr>\n",
       "    <tr>\n",
       "      <th>35375</th>\n",
       "      <td>35375</td>\n",
       "      <td>2020-01-01 00:00:00</td>\n",
       "      <td>20.0</td>\n",
       "      <td>374</td>\n",
       "      <td>1124</td>\n",
       "      <td>무이자쿠첸압력밥솥 10인용</td>\n",
       "      <td>9</td>\n",
       "      <td>178000</td>\n",
       "      <td>50929000.0</td>\n",
       "      <td>2019-12-31</td>\n",
       "      <td>...</td>\n",
       "      <td>1</td>\n",
       "      <td>0</td>\n",
       "      <td>1</td>\n",
       "      <td>0</td>\n",
       "      <td>0</td>\n",
       "      <td>0</td>\n",
       "      <td>0</td>\n",
       "      <td>0</td>\n",
       "      <td>0</td>\n",
       "      <td>106.26</td>\n",
       "    </tr>\n",
       "    <tr>\n",
       "      <th>35376</th>\n",
       "      <td>35376</td>\n",
       "      <td>2020-01-01 00:00:00</td>\n",
       "      <td>20.0</td>\n",
       "      <td>374</td>\n",
       "      <td>1129</td>\n",
       "      <td>일시불쿠첸압력밥솥 10인용</td>\n",
       "      <td>9</td>\n",
       "      <td>168000</td>\n",
       "      <td>104392000.0</td>\n",
       "      <td>2019-12-31</td>\n",
       "      <td>...</td>\n",
       "      <td>1</td>\n",
       "      <td>0</td>\n",
       "      <td>1</td>\n",
       "      <td>0</td>\n",
       "      <td>0</td>\n",
       "      <td>0</td>\n",
       "      <td>0</td>\n",
       "      <td>0</td>\n",
       "      <td>0</td>\n",
       "      <td>106.26</td>\n",
       "    </tr>\n",
       "    <tr>\n",
       "      <th>35377</th>\n",
       "      <td>35377</td>\n",
       "      <td>2020-01-01 00:00:00</td>\n",
       "      <td>20.0</td>\n",
       "      <td>374</td>\n",
       "      <td>1125</td>\n",
       "      <td>무이자쿠첸압력밥솥 6인용</td>\n",
       "      <td>9</td>\n",
       "      <td>158000</td>\n",
       "      <td>13765000.0</td>\n",
       "      <td>2019-12-31</td>\n",
       "      <td>...</td>\n",
       "      <td>1</td>\n",
       "      <td>0</td>\n",
       "      <td>1</td>\n",
       "      <td>0</td>\n",
       "      <td>0</td>\n",
       "      <td>0</td>\n",
       "      <td>0</td>\n",
       "      <td>0</td>\n",
       "      <td>0</td>\n",
       "      <td>106.26</td>\n",
       "    </tr>\n",
       "    <tr>\n",
       "      <th>35378</th>\n",
       "      <td>35378</td>\n",
       "      <td>2020-01-01 00:00:00</td>\n",
       "      <td>20.0</td>\n",
       "      <td>374</td>\n",
       "      <td>1130</td>\n",
       "      <td>일시불쿠첸압력밥솥 6인용</td>\n",
       "      <td>9</td>\n",
       "      <td>148000</td>\n",
       "      <td>46608000.0</td>\n",
       "      <td>2019-12-31</td>\n",
       "      <td>...</td>\n",
       "      <td>1</td>\n",
       "      <td>0</td>\n",
       "      <td>1</td>\n",
       "      <td>0</td>\n",
       "      <td>0</td>\n",
       "      <td>0</td>\n",
       "      <td>0</td>\n",
       "      <td>0</td>\n",
       "      <td>0</td>\n",
       "      <td>106.26</td>\n",
       "    </tr>\n",
       "  </tbody>\n",
       "</table>\n",
       "<p>35379 rows × 55 columns</p>\n",
       "</div>"
      ],
      "text/plain": [
       "       Unnamed: 0                방송일시  노출(분)  마더코드  상품코드             상품명  상품군  \\\n",
       "0               0 2019-01-01 06:00:00   20.0   296   891   테이트 남성 셀린니트3종    6   \n",
       "1               1 2019-01-01 06:00:00   20.0   296   898   테이트 여성 셀린니트3종    6   \n",
       "2               2 2019-01-01 06:20:00   20.0   296   891   테이트 남성 셀린니트3종    6   \n",
       "3               3 2019-01-01 06:20:00   20.0   296   898   테이트 여성 셀린니트3종    6   \n",
       "4               4 2019-01-01 06:40:00   20.0   296   891   테이트 남성 셀린니트3종    6   \n",
       "...           ...                 ...    ...   ...   ...             ...  ...   \n",
       "35374       35374 2019-12-31 23:40:00   20.0   374  1130   일시불쿠첸압력밥솥 6인용    9   \n",
       "35375       35375 2020-01-01 00:00:00   20.0   374  1124  무이자쿠첸압력밥솥 10인용    9   \n",
       "35376       35376 2020-01-01 00:00:00   20.0   374  1129  일시불쿠첸압력밥솥 10인용    9   \n",
       "35377       35377 2020-01-01 00:00:00   20.0   374  1125   무이자쿠첸압력밥솥 6인용    9   \n",
       "35378       35378 2020-01-01 00:00:00   20.0   374  1130   일시불쿠첸압력밥솥 6인용    9   \n",
       "\n",
       "         판매단가          취급액       date  ...  g_3 s_0  s_1  w_0 w_1  w_2  w_3  \\\n",
       "0       39900    2099000.0 2019-01-01  ...    0   0    0    0   0    0    0   \n",
       "1       39900    4371000.0 2019-01-01  ...    0   0    0    0   0    0    0   \n",
       "2       39900    3262000.0 2019-01-01  ...    0   1    0    0   0    0    0   \n",
       "3       39900    6955000.0 2019-01-01  ...    0   1    0    0   0    0    0   \n",
       "4       39900    6672000.0 2019-01-01  ...    0   0    1    0   0    0    0   \n",
       "...       ...          ...        ...  ...  ...  ..  ...  ...  ..  ...  ...   \n",
       "35374  148000   10157000.0 2019-12-31  ...    1   1    0    0   0    0    0   \n",
       "35375  178000   50929000.0 2019-12-31  ...    1   0    1    0   0    0    0   \n",
       "35376  168000  104392000.0 2019-12-31  ...    1   0    1    0   0    0    0   \n",
       "35377  158000   13765000.0 2019-12-31  ...    1   0    1    0   0    0    0   \n",
       "35378  148000   46608000.0 2019-12-31  ...    1   0    1    0   0    0    0   \n",
       "\n",
       "       w_4  w_5     cpi  \n",
       "0        0    0  104.03  \n",
       "1        0    0  104.03  \n",
       "2        0    0  104.03  \n",
       "3        0    0  104.03  \n",
       "4        0    0  104.03  \n",
       "...    ...  ...     ...  \n",
       "35374    0    0  105.51  \n",
       "35375    0    0  106.26  \n",
       "35376    0    0  106.26  \n",
       "35377    0    0  106.26  \n",
       "35378    0    0  106.26  \n",
       "\n",
       "[35379 rows x 55 columns]"
      ]
     },
     "execution_count": 2,
     "metadata": {},
     "output_type": "execute_result"
    }
   ],
   "source": [
    "data = pd.read_csv(\"final_performance_v4.csv\", parse_dates=['방송일시','date', 'real_date'])\n",
    "data"
   ]
  },
  {
   "cell_type": "code",
   "execution_count": 3,
   "metadata": {},
   "outputs": [],
   "source": [
    "import sklearn\n",
    "from sklearn.preprocessing import OneHotEncoder, MinMaxScaler\n",
    "from sklearn.model_selection import train_test_split\n",
    "from tqdm.auto import tqdm\n",
    "import gc"
   ]
  },
  {
   "cell_type": "code",
   "execution_count": 4,
   "metadata": {},
   "outputs": [],
   "source": [
    "use_var = ['마더코드', '상품코드', '상품군', 'week', 'hour', 'weekofyear', 'stage', 'prime', 'IsHoliday', '노출(분)', '판매단가', '취급액', '지속휴일수', 'TEMP', 'HUM', 'cpi']\n",
    "Data = data[use_var]"
   ]
  },
  {
   "cell_type": "code",
   "execution_count": 5,
   "metadata": {},
   "outputs": [
    {
     "name": "stdout",
     "output_type": "stream",
     "text": [
      "data shape :  (35379, 15)\n",
      "label shape :  (35379, 1)\n"
     ]
    }
   ],
   "source": [
    "X = Data.drop(['취급액'], axis = 1)\n",
    "Y = Data[['취급액']]\n",
    "print(\"data shape : \", X.shape)\n",
    "print(\"label shape : \" , Y.shape)"
   ]
  },
  {
   "cell_type": "code",
   "execution_count": 6,
   "metadata": {},
   "outputs": [
    {
     "name": "stdout",
     "output_type": "stream",
     "text": [
      "x_train shape :  (31841, 15)\n",
      "y_train shape :  (31841, 1)\n",
      "x_valid shape :  (3538, 15)\n",
      "y_valid shape :  (3538, 1)\n"
     ]
    }
   ],
   "source": [
    "x_train, x_valid, y_train, y_valid = train_test_split(X, Y, test_size = 0.1, random_state = 123457)\n",
    "print(\"x_train shape : \", x_train.shape)\n",
    "print(\"y_train shape : \", y_train.shape)\n",
    "print(\"x_valid shape : \", x_valid.shape)\n",
    "print(\"y_valid shape : \", y_valid.shape)"
   ]
  },
  {
   "cell_type": "markdown",
   "metadata": {},
   "source": [
    "## Make train data"
   ]
  },
  {
   "cell_type": "code",
   "execution_count": 18,
   "metadata": {},
   "outputs": [
    {
     "name": "stdout",
     "output_type": "stream",
     "text": [
      "x_train shape :  (31841, 15)\n"
     ]
    }
   ],
   "source": [
    "make_train_cols = ['상품코드', '상품군', 'week', 'hour', 'weekofyear', 'stage', 'IsHoliday', '노출(분)', '판매단가', '지속휴일수', 'TEMP', 'HUM', 'cpi']\n",
    "to_cat = ['상품코드', '상품군', 'week', 'hour', 'weekofyear', 'stage']\n",
    "train_goods_set = set(x_train['상품코드'])\n",
    "for col in to_cat:\n",
    "    x_train[col] = x_train[col].astype('category') \n",
    "    \n",
    "print(\"x_train shape : \", x_train.shape)"
   ]
  },
  {
   "cell_type": "markdown",
   "metadata": {},
   "source": [
    "## Make valid data"
   ]
  },
  {
   "cell_type": "code",
   "execution_count": 19,
   "metadata": {},
   "outputs": [],
   "source": [
    "pd.set_option('mode.chained_assignment',  None)\n",
    "def goods_code_encoding(value,code_set, price, mother, cat):\n",
    "    if value in code_set:\n",
    "        return value\n",
    "    else:\n",
    "        if mother in x_train['마더코드']:\n",
    "            frame = x_train[x_train['마더코드']==mother]\n",
    "            frame['diff'] =  abs(frame['판매단가'] - price)\n",
    "            goods_code = frame[frame['diff']==min(frame['diff'])].iloc[0,1]\n",
    "            return goods_code\n",
    "        else:\n",
    "            frame = x_train[x_train['상품군']==cat]\n",
    "            frame['diff'] =  abs(frame['판매단가'] - price)\n",
    "            goods_code = frame[frame['diff']==min(frame['diff'])].iloc[0,1]\n",
    "            return goods_code     "
   ]
  },
  {
   "cell_type": "code",
   "execution_count": 20,
   "metadata": {},
   "outputs": [
    {
     "name": "stdout",
     "output_type": "stream",
     "text": [
      "x_valid shape :  (3538, 15)\n"
     ]
    }
   ],
   "source": [
    "make_valid_cols = ['상품코드', '상품군', 'week', 'hour', 'weekofyear', 'stage', 'IsHoliday', '노출(분)', '판매단가', '지속휴일수', 'TEMP', 'HUM', 'cpi']\n",
    "to_cat = ['상품코드', '상품군', 'week', 'hour', 'weekofyear', 'stage']\n",
    "\n",
    "row = x_valid.iloc[0]\n",
    "x_valid.iloc[0] = goods_code_encoding(row['상품코드'],train_goods_set, row['판매단가'], row['마더코드'], row['상품군'])\n",
    "for i in range(1, len(x_valid)):\n",
    "    row = x_valid.iloc[i]\n",
    "    x_valid.iloc[i] = goods_code_encoding(row['상품코드'], train_goods_set, row['판매단가'], row['마더코드'], row['상품군'])\n",
    "\n",
    "for col in to_cat:\n",
    "    x_valid[col] = x_valid[col].astype('category') \n",
    "    \n",
    "print(\"x_valid shape : \", x_valid.shape)"
   ]
  },
  {
   "cell_type": "markdown",
   "metadata": {},
   "source": [
    "## lightgbm 데이터셋으로 변환"
   ]
  },
  {
   "cell_type": "code",
   "execution_count": 21,
   "metadata": {},
   "outputs": [],
   "source": [
    "import lightgbm as lgb\n",
    "\n",
    "train_ds = lgb.Dataset(x_train, label = y_train) \n",
    "valid_ds = lgb.Dataset(x_valid, label = y_valid)"
   ]
  },
  {
   "cell_type": "markdown",
   "metadata": {},
   "source": [
    "## 파라미터 세팅"
   ]
  },
  {
   "cell_type": "code",
   "execution_count": 65,
   "metadata": {},
   "outputs": [],
   "source": [
    "params = {'learning_rate': 0.1, \n",
    "          'max_depth': -1, \n",
    "          'boosting': 'gbdt', \n",
    "          'objective': 'regression', \n",
    "          'metric': 'mape', \n",
    "          'is_training_metric': True, \n",
    "          'num_leaves': 144, \n",
    "          'feature_fraction': 0.9, \n",
    "          'bagging_fraction': 0.7, \n",
    "          'bagging_freq': 5, \n",
    "          'seed':123457}"
   ]
  },
  {
   "cell_type": "markdown",
   "metadata": {},
   "source": [
    "## 모델 훈련"
   ]
  },
  {
   "cell_type": "code",
   "execution_count": 66,
   "metadata": {},
   "outputs": [
    {
     "name": "stdout",
     "output_type": "stream",
     "text": [
      "[LightGBM] [Warning] Auto-choosing row-wise multi-threading, the overhead of testing was 0.003891 seconds.\n",
      "You can set `force_row_wise=true` to remove the overhead.\n",
      "And if memory is not enough, you can set `force_col_wise=true`.\n",
      "[LightGBM] [Info] Total Bins 2897\n",
      "[LightGBM] [Info] Number of data points in the train set: 31841, number of used features: 15\n",
      "[LightGBM] [Info] Start training from score 23136023.429917\n",
      "Training until validation scores don't improve for 100 rounds\n",
      "[100]\tvalid_0's mape: 1.13379\n",
      "[200]\tvalid_0's mape: 0.97807\n",
      "[300]\tvalid_0's mape: 0.939808\n",
      "[400]\tvalid_0's mape: 0.846244\n",
      "[500]\tvalid_0's mape: 0.844504\n",
      "[600]\tvalid_0's mape: 0.749195\n",
      "[700]\tvalid_0's mape: 0.703048\n",
      "[800]\tvalid_0's mape: 0.67618\n",
      "[900]\tvalid_0's mape: 0.670114\n",
      "[1000]\tvalid_0's mape: 0.665066\n",
      "Early stopping, best iteration is:\n",
      "[970]\tvalid_0's mape: 0.664944\n"
     ]
    }
   ],
   "source": [
    "model = lgb.train(params, train_ds, 100000, valid_ds, verbose_eval=100, early_stopping_rounds=100)"
   ]
  },
  {
   "cell_type": "code",
   "execution_count": 67,
   "metadata": {},
   "outputs": [],
   "source": [
    "predict_train = model.predict(x_train).reshape(-1, 1)\n",
    "predict_test = model.predict(x_valid).reshape(-1, 1)"
   ]
  },
  {
   "cell_type": "code",
   "execution_count": 68,
   "metadata": {},
   "outputs": [],
   "source": [
    "import numpy as np\n",
    "\n",
    "def MAPE(y_true, y_pred): \n",
    "    y_true, y_pred = np.array(y_true), np.array(y_pred)\n",
    "    return np.mean(np.abs((y_true - y_pred) / y_true)) * 100"
   ]
  },
  {
   "cell_type": "code",
   "execution_count": 69,
   "metadata": {},
   "outputs": [
    {
     "name": "stdout",
     "output_type": "stream",
     "text": [
      "train data MAPE:  18.250669432923537\n",
      "test data MAPE:  66.49439393798862\n"
     ]
    }
   ],
   "source": [
    "train_mape = MAPE(y_train, predict_train)\n",
    "test_mape = MAPE(y_valid, predict_test)\n",
    "\n",
    "print('train data MAPE: ', train_mape)\n",
    "print('test data MAPE: ', test_mape)"
   ]
  },
  {
   "cell_type": "code",
   "execution_count": null,
   "metadata": {},
   "outputs": [],
   "source": []
  }
 ],
 "metadata": {
  "kernelspec": {
   "display_name": "Python 3",
   "language": "python",
   "name": "python3"
  },
  "language_info": {
   "codemirror_mode": {
    "name": "ipython",
    "version": 3
   },
   "file_extension": ".py",
   "mimetype": "text/x-python",
   "name": "python",
   "nbconvert_exporter": "python",
   "pygments_lexer": "ipython3",
   "version": "3.6.8"
  }
 },
 "nbformat": 4,
 "nbformat_minor": 2
}
