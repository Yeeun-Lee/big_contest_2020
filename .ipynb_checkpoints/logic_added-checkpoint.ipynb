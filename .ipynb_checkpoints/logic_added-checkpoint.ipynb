{
 "cells": [
  {
   "cell_type": "markdown",
   "metadata": {},
   "source": [
    "## 필터링 로직 추가\n",
    "\n",
    "- 새로운 데이터의 상품코드가 기 학습된 인코더 안에 있는지 확인\n",
    "    - 없을 경우 마더코드 검색\n",
    "    - 동일 마더코드 안에서 동일 상품군 검색\n",
    "    - 동일 상품군 안에서 단가 비교를 통한 대체 데이터 반환\n",
    "- 일자와 날씨 등의 다른 데이터는 그대로 넣어준다"
   ]
  },
  {
   "cell_type": "code",
   "execution_count": 2,
   "metadata": {},
   "outputs": [],
   "source": [
    "import numpy as np\n",
    "import pandas as pd\n",
    "import os"
   ]
  },
  {
   "cell_type": "code",
   "execution_count": 3,
   "metadata": {},
   "outputs": [],
   "source": [
    "def drop_unnamed(data):\n",
    "    names = data.columns\n",
    "    for name in names:\n",
    "        if \"Unnamed\" in name:\n",
    "            data.pop(name)\n",
    "    return data"
   ]
  },
  {
   "cell_type": "code",
   "execution_count": 4,
   "metadata": {
    "scrolled": true
   },
   "outputs": [
    {
     "data": {
      "text/html": [
       "<div>\n",
       "<style scoped>\n",
       "    .dataframe tbody tr th:only-of-type {\n",
       "        vertical-align: middle;\n",
       "    }\n",
       "\n",
       "    .dataframe tbody tr th {\n",
       "        vertical-align: top;\n",
       "    }\n",
       "\n",
       "    .dataframe thead th {\n",
       "        text-align: right;\n",
       "    }\n",
       "</style>\n",
       "<table border=\"1\" class=\"dataframe\">\n",
       "  <thead>\n",
       "    <tr style=\"text-align: right;\">\n",
       "      <th></th>\n",
       "      <th>방송일시</th>\n",
       "      <th>노출(분)</th>\n",
       "      <th>마더코드</th>\n",
       "      <th>상품코드</th>\n",
       "      <th>상품명</th>\n",
       "      <th>상품군</th>\n",
       "      <th>판매단가</th>\n",
       "      <th>취급액</th>\n",
       "      <th>date</th>\n",
       "      <th>week</th>\n",
       "      <th>...</th>\n",
       "      <th>g_3</th>\n",
       "      <th>s_0</th>\n",
       "      <th>s_1</th>\n",
       "      <th>w_0</th>\n",
       "      <th>w_1</th>\n",
       "      <th>w_2</th>\n",
       "      <th>w_3</th>\n",
       "      <th>w_4</th>\n",
       "      <th>w_5</th>\n",
       "      <th>cpi</th>\n",
       "    </tr>\n",
       "  </thead>\n",
       "  <tbody>\n",
       "    <tr>\n",
       "      <th>0</th>\n",
       "      <td>2019-01-01 06:00:00</td>\n",
       "      <td>20.0</td>\n",
       "      <td>296</td>\n",
       "      <td>891</td>\n",
       "      <td>테이트 남성 셀린니트3종</td>\n",
       "      <td>6</td>\n",
       "      <td>39900</td>\n",
       "      <td>2099000.0</td>\n",
       "      <td>2019-01-01 00:00:00</td>\n",
       "      <td>1</td>\n",
       "      <td>...</td>\n",
       "      <td>0</td>\n",
       "      <td>0</td>\n",
       "      <td>0</td>\n",
       "      <td>0</td>\n",
       "      <td>0</td>\n",
       "      <td>0</td>\n",
       "      <td>0</td>\n",
       "      <td>0</td>\n",
       "      <td>0</td>\n",
       "      <td>104.03</td>\n",
       "    </tr>\n",
       "    <tr>\n",
       "      <th>1</th>\n",
       "      <td>2019-01-01 06:00:00</td>\n",
       "      <td>20.0</td>\n",
       "      <td>296</td>\n",
       "      <td>898</td>\n",
       "      <td>테이트 여성 셀린니트3종</td>\n",
       "      <td>6</td>\n",
       "      <td>39900</td>\n",
       "      <td>4371000.0</td>\n",
       "      <td>2019-01-01 00:00:00</td>\n",
       "      <td>1</td>\n",
       "      <td>...</td>\n",
       "      <td>0</td>\n",
       "      <td>0</td>\n",
       "      <td>0</td>\n",
       "      <td>0</td>\n",
       "      <td>0</td>\n",
       "      <td>0</td>\n",
       "      <td>0</td>\n",
       "      <td>0</td>\n",
       "      <td>0</td>\n",
       "      <td>104.03</td>\n",
       "    </tr>\n",
       "    <tr>\n",
       "      <th>2</th>\n",
       "      <td>2019-01-01 06:20:00</td>\n",
       "      <td>20.0</td>\n",
       "      <td>296</td>\n",
       "      <td>891</td>\n",
       "      <td>테이트 남성 셀린니트3종</td>\n",
       "      <td>6</td>\n",
       "      <td>39900</td>\n",
       "      <td>3262000.0</td>\n",
       "      <td>2019-01-01 00:00:00</td>\n",
       "      <td>1</td>\n",
       "      <td>...</td>\n",
       "      <td>0</td>\n",
       "      <td>1</td>\n",
       "      <td>0</td>\n",
       "      <td>0</td>\n",
       "      <td>0</td>\n",
       "      <td>0</td>\n",
       "      <td>0</td>\n",
       "      <td>0</td>\n",
       "      <td>0</td>\n",
       "      <td>104.03</td>\n",
       "    </tr>\n",
       "    <tr>\n",
       "      <th>3</th>\n",
       "      <td>2019-01-01 06:20:00</td>\n",
       "      <td>20.0</td>\n",
       "      <td>296</td>\n",
       "      <td>898</td>\n",
       "      <td>테이트 여성 셀린니트3종</td>\n",
       "      <td>6</td>\n",
       "      <td>39900</td>\n",
       "      <td>6955000.0</td>\n",
       "      <td>2019-01-01 00:00:00</td>\n",
       "      <td>1</td>\n",
       "      <td>...</td>\n",
       "      <td>0</td>\n",
       "      <td>1</td>\n",
       "      <td>0</td>\n",
       "      <td>0</td>\n",
       "      <td>0</td>\n",
       "      <td>0</td>\n",
       "      <td>0</td>\n",
       "      <td>0</td>\n",
       "      <td>0</td>\n",
       "      <td>104.03</td>\n",
       "    </tr>\n",
       "    <tr>\n",
       "      <th>4</th>\n",
       "      <td>2019-01-01 06:40:00</td>\n",
       "      <td>20.0</td>\n",
       "      <td>296</td>\n",
       "      <td>891</td>\n",
       "      <td>테이트 남성 셀린니트3종</td>\n",
       "      <td>6</td>\n",
       "      <td>39900</td>\n",
       "      <td>6672000.0</td>\n",
       "      <td>2019-01-01 00:00:00</td>\n",
       "      <td>1</td>\n",
       "      <td>...</td>\n",
       "      <td>0</td>\n",
       "      <td>0</td>\n",
       "      <td>1</td>\n",
       "      <td>0</td>\n",
       "      <td>0</td>\n",
       "      <td>0</td>\n",
       "      <td>0</td>\n",
       "      <td>0</td>\n",
       "      <td>0</td>\n",
       "      <td>104.03</td>\n",
       "    </tr>\n",
       "  </tbody>\n",
       "</table>\n",
       "<p>5 rows × 54 columns</p>\n",
       "</div>"
      ],
      "text/plain": [
       "                  방송일시  노출(분)  마더코드  상품코드            상품명  상품군   판매단가  \\\n",
       "0  2019-01-01 06:00:00   20.0   296   891  테이트 남성 셀린니트3종    6  39900   \n",
       "1  2019-01-01 06:00:00   20.0   296   898  테이트 여성 셀린니트3종    6  39900   \n",
       "2  2019-01-01 06:20:00   20.0   296   891  테이트 남성 셀린니트3종    6  39900   \n",
       "3  2019-01-01 06:20:00   20.0   296   898  테이트 여성 셀린니트3종    6  39900   \n",
       "4  2019-01-01 06:40:00   20.0   296   891  테이트 남성 셀린니트3종    6  39900   \n",
       "\n",
       "         취급액                 date  week  ... g_3  s_0  s_1 w_0  w_1  w_2  w_3  \\\n",
       "0  2099000.0  2019-01-01 00:00:00     1  ...   0    0    0   0    0    0    0   \n",
       "1  4371000.0  2019-01-01 00:00:00     1  ...   0    0    0   0    0    0    0   \n",
       "2  3262000.0  2019-01-01 00:00:00     1  ...   0    1    0   0    0    0    0   \n",
       "3  6955000.0  2019-01-01 00:00:00     1  ...   0    1    0   0    0    0    0   \n",
       "4  6672000.0  2019-01-01 00:00:00     1  ...   0    0    1   0    0    0    0   \n",
       "\n",
       "   w_4  w_5     cpi  \n",
       "0    0    0  104.03  \n",
       "1    0    0  104.03  \n",
       "2    0    0  104.03  \n",
       "3    0    0  104.03  \n",
       "4    0    0  104.03  \n",
       "\n",
       "[5 rows x 54 columns]"
      ]
     },
     "execution_count": 4,
     "metadata": {},
     "output_type": "execute_result"
    }
   ],
   "source": [
    "data = drop_unnamed(pd.read_csv(\"prep/data/final_performance_v4.csv\"))\n",
    "data.head()"
   ]
  },
  {
   "cell_type": "code",
   "execution_count": 5,
   "metadata": {},
   "outputs": [
    {
     "data": {
      "text/plain": [
       "Index(['방송일시', '노출(분)', '마더코드', '상품코드', '상품명', '상품군', '판매단가', '취급액', 'date',\n",
       "       'week', 'time', 'hour', 'prime', 'real_date', 'IsHoliday', '지속휴일수',\n",
       "       'TEMP', 'HUM', 'weekofyear', 'stage', 'm_0', 'm_1', 'm_2', 'm_3', 'm_4',\n",
       "       'm_5', 'm_6', 'm_7', 'm_8', 'm_9', 'p_0', 'p_1', 'p_2', 'p_3', 'p_4',\n",
       "       'p_5', 'p_6', 'p_7', 'p_8', 'p_9', 'p_10', 'g_0', 'g_1', 'g_2', 'g_3',\n",
       "       's_0', 's_1', 'w_0', 'w_1', 'w_2', 'w_3', 'w_4', 'w_5', 'cpi'],\n",
       "      dtype='object')"
      ]
     },
     "execution_count": 5,
     "metadata": {},
     "output_type": "execute_result"
    }
   ],
   "source": [
    "data.columns"
   ]
  },
  {
   "cell_type": "markdown",
   "metadata": {},
   "source": [
    "#### Binary encoded columns\n",
    "\n",
    "- m_* : 마더코드\n",
    "- p_* : 상품코드\n",
    "- g_* : 상품군 \n",
    "- s_* : stage\n",
    "- w_* : weekofyear"
   ]
  },
  {
   "cell_type": "code",
   "execution_count": 1,
   "metadata": {},
   "outputs": [
    {
     "ename": "NameError",
     "evalue": "name 'drop_unnamed' is not defined",
     "output_type": "error",
     "traceback": [
      "\u001b[0;31m---------------------------------------------------------------------------\u001b[0m",
      "\u001b[0;31mNameError\u001b[0m                                 Traceback (most recent call last)",
      "\u001b[0;32m<ipython-input-1-29dd10a60bf8>\u001b[0m in \u001b[0;36m<module>\u001b[0;34m\u001b[0m\n\u001b[0;32m----> 1\u001b[0;31m \u001b[0mstat_data\u001b[0m \u001b[0;34m=\u001b[0m \u001b[0mdrop_unnamed\u001b[0m\u001b[0;34m(\u001b[0m\u001b[0mpd\u001b[0m\u001b[0;34m.\u001b[0m\u001b[0mread_csv\u001b[0m\u001b[0;34m(\u001b[0m\u001b[0;34m\"prep/data/final_performance_with_stat.csv\"\u001b[0m\u001b[0;34m)\u001b[0m\u001b[0;34m)\u001b[0m\u001b[0;34m\u001b[0m\u001b[0;34m\u001b[0m\u001b[0m\n\u001b[0m\u001b[1;32m      2\u001b[0m \u001b[0mstat_data\u001b[0m\u001b[0;34m.\u001b[0m\u001b[0mhead\u001b[0m\u001b[0;34m(\u001b[0m\u001b[0;34m)\u001b[0m\u001b[0;34m\u001b[0m\u001b[0;34m\u001b[0m\u001b[0m\n",
      "\u001b[0;31mNameError\u001b[0m: name 'drop_unnamed' is not defined"
     ]
    }
   ],
   "source": [
    "stat_data = drop_unnamed(pd.read_csv(\"prep/data/final_performance_with_stat.csv\"))\n",
    "stat_data.head()"
   ]
  },
  {
   "cell_type": "code",
   "execution_count": null,
   "metadata": {},
   "outputs": [],
   "source": [
    "# import fitted Encoders\n",
    "m_classes = np.load('reference/마더코드_classes.npy')\n",
    "p_classes = np.load('reference/상품코드_classes.npy')\n",
    "s_classes = np.load('reference/stage_classes.npy')\n",
    "g_classes = np.load('reference/상품군_classes.npy')"
   ]
  },
  {
   "cell_type": "code",
   "execution_count": null,
   "metadata": {},
   "outputs": [],
   "source": [
    "g_classes"
   ]
  },
  {
   "cell_type": "code",
   "execution_count": null,
   "metadata": {},
   "outputs": [],
   "source": [
    "np.where(g_classes == '의류')[0][0]"
   ]
  },
  {
   "cell_type": "code",
   "execution_count": null,
   "metadata": {},
   "outputs": [],
   "source": [
    "X = data.drop(['방송일시', '상품명', '취급액', 'date', 'time', 'real_date'], axis = 1)\n",
    "Y = data[['취급액']]"
   ]
  },
  {
   "cell_type": "code",
   "execution_count": null,
   "metadata": {},
   "outputs": [],
   "source": [
    "from sklearn.model_selection import train_test_split\n",
    "\n",
    "# 기존 Decimal values를 포함한 데이터(for filtering작업)\n",
    "x_train, x_valid, y_train, y_valid = train_test_split(X, Y, test_size = 0.1)\n",
    "print(x_train.shape)\n",
    "print(x_valid.shape)\n",
    "print(y_train.shape)\n",
    "print(y_valid.shape)"
   ]
  },
  {
   "cell_type": "code",
   "execution_count": null,
   "metadata": {},
   "outputs": [],
   "source": [
    "x_train.values[0]"
   ]
  },
  {
   "cell_type": "code",
   "execution_count": null,
   "metadata": {},
   "outputs": [],
   "source": [
    "x_train.head()"
   ]
  },
  {
   "cell_type": "code",
   "execution_count": null,
   "metadata": {},
   "outputs": [],
   "source": [
    "np.where(np.array(x_valid.columns) == '상품코드')[0][0]"
   ]
  },
  {
   "cell_type": "code",
   "execution_count": null,
   "metadata": {},
   "outputs": [],
   "source": [
    "train_p = x_train['상품코드'].unique()\n",
    "train_m = x_train['마더코드'].unique()\n",
    "train_g = x_train['상품군'].unique()"
   ]
  },
  {
   "cell_type": "code",
   "execution_count": null,
   "metadata": {},
   "outputs": [],
   "source": [
    "x_valid.head()"
   ]
  },
  {
   "cell_type": "code",
   "execution_count": null,
   "metadata": {},
   "outputs": [],
   "source": [
    "## Data filtering\n",
    "\n",
    "final = []\n",
    "revised = 0\n",
    "\n",
    "values = x_valid.values \n",
    "for i in range(len(values)):\n",
    "    # 상품코드가 x_train의 인코더 속에 존재하는가.(데이터 존재 여부 확인)\n",
    "    if values[i][2] in train_p:\n",
    "        final.append(values[i])\n",
    "    else:\n",
    "        # 마더코드가 x_train안에 있는가\n",
    "        if values[i][1] in train_m:\n",
    "            temp = x_train.loc[x_train['마더코드'].values == np.where(train_m == values[i][1])[0]]\n",
    "            # 판매단가 차가 최소인 row 추가\n",
    "            temp['sub'] = abs(temp['판매단가'] - values[i][4])\n",
    "#             print(temp['sub'].idxmin())\n",
    "            final.append(x_train.loc[temp['sub'].idxmin()].values)\n",
    "            revised+=1\n",
    "            print(\"revision_count : \", revised)\n",
    "        else:\n",
    "            # 상품군 확인\n",
    "            if values[i][3] in train_g:\n",
    "                temp = x_train.loc[x_train['상품군'].values == np.where(train_g == values[i][3])[0]]\n",
    "                # 판매단가 차가 최소인 row 추가\n",
    "                temp['sub'] = abs(temp['판매단가'] - values[i][4])\n",
    "                final.append(x_train.loc[temp['sub'].idxmin()].values)\n",
    "                revised+=1\n",
    "                print(\"revision_count : \", revised)"
   ]
  },
  {
   "cell_type": "code",
   "execution_count": null,
   "metadata": {},
   "outputs": [],
   "source": [
    "np.where(np.array(x_stat_valid.columns) == '판매단가')[0][0]"
   ]
  },
  {
   "cell_type": "code",
   "execution_count": null,
   "metadata": {},
   "outputs": [],
   "source": [
    "## Data filtering\n",
    "def filtering(train, test):\n",
    "    final = []\n",
    "    revised = 0\n",
    "    \n",
    "    # 학습데이터 카테고리 필터링\n",
    "    train_p = train['상품코드'].unique()\n",
    "    train_m = train['마더코드'].unique()\n",
    "    train_g = train['상품군'].unique()\n",
    "    \n",
    "    values = test.values \n",
    "    \n",
    "    # 각 카테고리별 컬럼 위치\n",
    "    p_idx = np.where(np.array(test.columns) == '상품코드')[0][0]\n",
    "    m_idx = np.where(np.array(test.columns) == '마더코드')[0][0]\n",
    "    g_idx = np.where(np.array(test.columns) == '상품군')[0][0]\n",
    "    _idx = np.where(np.array(test.columns) == '판매단가')[0][0]\n",
    "    \n",
    "    \n",
    "    for i in range(len(values)):\n",
    "        # 상품코드가 x_train의 인코더 속에 존재하는가.(데이터 존재 여부 확인)\n",
    "        if values[i][p_idx] in train_p:\n",
    "            final.append(values[i])\n",
    "        else:\n",
    "            # 마더코드가 x_train안에 있는가\n",
    "            if values[i][m_idx] in train_m:\n",
    "                temp = train.loc[train['마더코드'].values == np.where(train_m == values[i][m_idx])[0]]\n",
    "                # 판매단가 차가 최소인 row 추가\n",
    "                temp['sub'] = abs(temp['판매단가'] - values[i][_idx])\n",
    "    \n",
    "                final.append(train.loc[temp['sub'].idxmin()].values)\n",
    "                revised+=1\n",
    "                print(\"revision_count : \", revised)\n",
    "            else:\n",
    "                # 상품군 확인\n",
    "                if values[i][g_idx] in train_g:\n",
    "                    temp = train.loc[train['상품군'].values == np.where(train_g == values[i][g_idx])[0]]\n",
    "                    # 판매단가 차가 최소인 row 추가\n",
    "                    temp['sub'] = abs(temp['판매단가'] - values[i][4])\n",
    "                    final.append(train.loc[temp['sub'].idxmin()].values)\n",
    "                    revised+=1\n",
    "                    print(\"revision_count : \", revised)\n",
    "    return pd.DataFrame(final, columns = test.columns)"
   ]
  },
  {
   "cell_type": "code",
   "execution_count": null,
   "metadata": {
    "scrolled": false
   },
   "outputs": [],
   "source": [
    "filtering(x_train, x_valid)"
   ]
  },
  {
   "cell_type": "code",
   "execution_count": null,
   "metadata": {},
   "outputs": [],
   "source": [
    "x_bin = x_train.drop(['마더코드', '상품코드', '상품군'], axis = 1)\n",
    "x_bin_valid = pd.DataFrame(final, columns = x_valid.columns).drop(['마더코드', '상품코드', '상품군'], axis = 1)\n",
    "\n",
    "print(x_bin.shape)\n",
    "print(x_bin_valid.shape)"
   ]
  },
  {
   "cell_type": "code",
   "execution_count": null,
   "metadata": {},
   "outputs": [],
   "source": [
    "y_train = y_train.values"
   ]
  },
  {
   "cell_type": "code",
   "execution_count": null,
   "metadata": {},
   "outputs": [],
   "source": [
    "y_valid = y_valid.values"
   ]
  },
  {
   "cell_type": "code",
   "execution_count": null,
   "metadata": {},
   "outputs": [],
   "source": [
    "print(y_train.shape)\n",
    "print(y_valid.shape)"
   ]
  },
  {
   "cell_type": "markdown",
   "metadata": {},
   "source": [
    "## RandomForest with binary encoded data(with filtering)"
   ]
  },
  {
   "cell_type": "code",
   "execution_count": null,
   "metadata": {},
   "outputs": [],
   "source": [
    "from sklearn.ensemble import RandomForestRegressor"
   ]
  },
  {
   "cell_type": "code",
   "execution_count": null,
   "metadata": {},
   "outputs": [],
   "source": [
    "rf = RandomForestRegressor(max_depth = 20,\n",
    "                          random_state = 0,\n",
    "                          verbose = 1)\n",
    "rf.fit(x_bin, y_train)"
   ]
  },
  {
   "cell_type": "code",
   "execution_count": null,
   "metadata": {},
   "outputs": [],
   "source": [
    "from sklearn.metrics import accuracy_score\n",
    "from sklearn.utils import check_array\n",
    "def mean_absolute_percentage_error(y_true, y_pred): \n",
    "#     y_true, y_pred = check_array(y_true, y_pred)\n",
    "\n",
    "    ## Note: does not handle mix 1d representation\n",
    "    #if _is_1d(y_true): \n",
    "    #    y_true, y_pred = _check_1d_array(y_true, y_pred)\n",
    "\n",
    "    return ('MAPE', np.mean(np.abs((y_true - y_pred) / y_true))*100)"
   ]
  },
  {
   "cell_type": "code",
   "execution_count": null,
   "metadata": {},
   "outputs": [],
   "source": [
    "rf.score(x_train, y_train)"
   ]
  },
  {
   "cell_type": "code",
   "execution_count": null,
   "metadata": {},
   "outputs": [],
   "source": [
    "y_pred = rf.predict(x_bin_valid)\n",
    "y_pred"
   ]
  },
  {
   "cell_type": "code",
   "execution_count": null,
   "metadata": {},
   "outputs": [],
   "source": [
    "y_pred = y_pred.reshape(-1, 1)\n",
    "mean_absolute_percentage_error(y_valid, y_pred)"
   ]
  },
  {
   "cell_type": "markdown",
   "metadata": {},
   "source": [
    "## RandomForest with category type data"
   ]
  },
  {
   "cell_type": "code",
   "execution_count": null,
   "metadata": {},
   "outputs": [],
   "source": [
    "x_train.columns"
   ]
  },
  {
   "cell_type": "code",
   "execution_count": null,
   "metadata": {},
   "outputs": [],
   "source": [
    "x_cat = x_train[['노출(분)', '마더코드', '상품코드', '상품군', '판매단가', 'week', 'hour',\n",
    "                'prime', 'IsHoliday', '지속휴일수', 'TEMP', 'HUM', 'weekofyear', 'stage', 'cpi']]\n",
    "x_cat_valid = pd.DataFrame(final, columns = x_valid.columns)[['노출(분)', '마더코드', '상품코드', '상품군', '판매단가', \n",
    "                                                            'week', 'hour', 'prime', 'IsHoliday', '지속휴일수', 'TEMP',\n",
    "                                                            'HUM', 'weekofyear', 'stage', 'cpi']]"
   ]
  },
  {
   "cell_type": "code",
   "execution_count": null,
   "metadata": {},
   "outputs": [],
   "source": [
    "to_cat = ['상품코드', '상품군', 'week', 'hour', 'weekofyear', 'stage']\n",
    "\n",
    "for var in to_cat:\n",
    "    x_cat[var] = x_cat[var].astype('category')\n",
    "    x_cat_valid[var] = x_cat_valid[var].astype('category')    "
   ]
  },
  {
   "cell_type": "code",
   "execution_count": null,
   "metadata": {},
   "outputs": [],
   "source": [
    "rf_cat = RandomForestRegressor(max_depth = 20,\n",
    "                               n_jobs = -1,\n",
    "                               n_estimators = 100,\n",
    "                               random_state = 0,\n",
    "                               verbose = 1)\n",
    "rf_cat.fit(x_cat, y_train)"
   ]
  },
  {
   "cell_type": "code",
   "execution_count": null,
   "metadata": {},
   "outputs": [],
   "source": [
    "rf_cat.score(x_cat, y_train)"
   ]
  },
  {
   "cell_type": "code",
   "execution_count": null,
   "metadata": {},
   "outputs": [],
   "source": [
    "y_pred_cat = rf_cat.predict(x_cat_valid).reshape(-1, 1)\n",
    "y_pred_cat"
   ]
  },
  {
   "cell_type": "code",
   "execution_count": null,
   "metadata": {},
   "outputs": [],
   "source": [
    "mean_absolute_percentage_error(y_valid, y_pred_cat)"
   ]
  },
  {
   "cell_type": "markdown",
   "metadata": {},
   "source": [
    "## LightGBM"
   ]
  },
  {
   "cell_type": "code",
   "execution_count": null,
   "metadata": {},
   "outputs": [],
   "source": [
    "import lightgbm as lgb\n",
    "import numpy as np\n",
    "from sklearn.model_selection import train_test_split\n",
    "# train_ds = lgb.Dataset(x_cat, label = y_train)\n",
    "# valid_ds = lgb.Dataset(x_cat_valid, label = y_valid)"
   ]
  },
  {
   "cell_type": "code",
   "execution_count": null,
   "metadata": {},
   "outputs": [],
   "source": [
    "params = {'learning_rate': 0.1, \n",
    "          'max_depth': -1, \n",
    "          'boosting': 'dart', \n",
    "          'objective': 'regression', \n",
    "          'metric': 'mape', \n",
    "          'is_training_metric': True, \n",
    "          'num_leaves': 144, \n",
    "          'feature_fraction': 0.9, \n",
    "          'bagging_fraction': 0.7, \n",
    "          'bagging_freq': 5, \n",
    "          'seed':123457}"
   ]
  },
  {
   "cell_type": "code",
   "execution_count": null,
   "metadata": {
    "scrolled": true
   },
   "outputs": [],
   "source": [
    "# 훈련\n",
    "model = lgb.train(params, train_ds, 4000, valid_ds, verbose_eval=100, early_stopping_rounds=100)"
   ]
  },
  {
   "cell_type": "code",
   "execution_count": null,
   "metadata": {},
   "outputs": [],
   "source": [
    "predict_train = model.predict(x_cat).reshape(-1, 1)\n",
    "predict_test = model.predict(x_cat_valid).reshape(-1, 1)"
   ]
  },
  {
   "cell_type": "code",
   "execution_count": null,
   "metadata": {},
   "outputs": [],
   "source": [
    "def MAPE(y_true, y_pred): \n",
    "    y_true, y_pred = np.array(y_true), np.array(y_pred)\n",
    "    return np.mean(np.abs((y_true - y_pred) / y_true)) * 100"
   ]
  },
  {
   "cell_type": "code",
   "execution_count": null,
   "metadata": {},
   "outputs": [],
   "source": [
    "train_mape = MAPE(y_train, predict_train)\n",
    "test_mape = MAPE(y_valid, predict_test)\n",
    "\n",
    "print('train data MAPE: ', train_mape)\n",
    "print('test data MAPE: ', test_mape)"
   ]
  },
  {
   "cell_type": "markdown",
   "metadata": {},
   "source": [
    "## LightGBM with stat data"
   ]
  },
  {
   "cell_type": "code",
   "execution_count": null,
   "metadata": {},
   "outputs": [],
   "source": [
    "X_stat = stat_data.drop(['취급액', 'profit/m'], axis = 1)\n",
    "Y_stat = np.log(stat_data['취급액'])\n",
    "X_stat['TEMP'] = np.log(X_stat['TEMP'])\n",
    "X_stat['HUM'] = np.log(X_stat['HUM'])\n",
    "\n",
    "x_stat_train, x_stat_valid, y_stat_train, y_stat_valid = train_test_split(X_stat, Y_stat,\n",
    "                                                                         test_size = 0.1,\n",
    "                                                                         random_state = 123457)\n",
    "print(x_stat_train.shape)\n",
    "print(y_stat_train.shape)\n",
    "print(x_stat_valid.shape)\n",
    "print(y_stat_valid.shape)"
   ]
  },
  {
   "cell_type": "code",
   "execution_count": null,
   "metadata": {},
   "outputs": [],
   "source": [
    "# fiter validation\n",
    "filtered_valid = filtering(x_stat_train, x_stat_valid)"
   ]
  },
  {
   "cell_type": "code",
   "execution_count": null,
   "metadata": {},
   "outputs": [],
   "source": [
    "x_stat_train = x_stat_train.drop(['마더코드', '상품코드'], axis = 1)\n",
    "filtered_valid = filtered_valid.drop(['마더코드', '상품코드'], axis = 1)"
   ]
  },
  {
   "cell_type": "code",
   "execution_count": null,
   "metadata": {},
   "outputs": [],
   "source": [
    "filtered_valid.head()"
   ]
  },
  {
   "cell_type": "code",
   "execution_count": null,
   "metadata": {},
   "outputs": [],
   "source": [
    "to_cat = ['상품군', 'week', 'hour', 'weekofyear', 'stage']\n",
    "\n",
    "for var in to_cat:\n",
    "    x_stat_train[var] = x_stat_train[var].astype('category')\n",
    "    filtered_valid[var] = filtered_valid[var].astype('category')   "
   ]
  },
  {
   "cell_type": "code",
   "execution_count": null,
   "metadata": {},
   "outputs": [],
   "source": [
    "stat_train_ds = lgb.Dataset(x_stat_train, label = y_stat_train)\n",
    "stat_valid_ds = lgb.Dataset(filtered_valid, label = y_stat_valid)\n",
    "\n",
    "params = {'learning_rate': 0.02, \n",
    "          'max_depth': -1, \n",
    "          'boosting': 'gbdt', \n",
    "          'objective': 'regression', \n",
    "          'metric': 'mape', \n",
    "          'is_training_metric': True, \n",
    "          'num_leaves': 144, \n",
    "          'feature_fraction': 0.9, \n",
    "          'bagging_fraction': 0.7, \n",
    "          'bagging_freq': 5, \n",
    "          'seed':123457}"
   ]
  },
  {
   "cell_type": "code",
   "execution_count": null,
   "metadata": {},
   "outputs": [],
   "source": [
    "# 훈련\n",
    "model_1 = lgb.train(params, stat_train_ds, 4000, stat_valid_ds,\n",
    "                    verbose_eval=100, early_stopping_rounds = 100)"
   ]
  },
  {
   "cell_type": "code",
   "execution_count": null,
   "metadata": {},
   "outputs": [],
   "source": [
    "predict_train = model_1.predict(x_stat_train).reshape(-1, 1)\n",
    "predict_test = model_1.predict(filtered_valid).reshape(-1, 1)\n",
    "\n",
    "train_mape = MAPE(y_stat_train, predict_train)\n",
    "test_mape = MAPE(y_stat_valid, predict_test)\n",
    "\n",
    "print('train data MAPE: ', train_mape)\n",
    "print('test data MAPE: ', test_mape)"
   ]
  },
  {
   "cell_type": "code",
   "execution_count": null,
   "metadata": {},
   "outputs": [],
   "source": []
  }
 ],
 "metadata": {
  "kernelspec": {
   "display_name": "Python 3",
   "language": "python",
   "name": "python3"
  },
  "language_info": {
   "codemirror_mode": {
    "name": "ipython",
    "version": 3
   },
   "file_extension": ".py",
   "mimetype": "text/x-python",
   "name": "python",
   "nbconvert_exporter": "python",
   "pygments_lexer": "ipython3",
   "version": "3.6.9"
  }
 },
 "nbformat": 4,
 "nbformat_minor": 4
}
