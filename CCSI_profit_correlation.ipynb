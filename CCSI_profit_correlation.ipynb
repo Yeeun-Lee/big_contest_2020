{
 "cells": [
  {
   "cell_type": "markdown",
   "metadata": {},
   "source": [
    "# [ 월별 CCSI와 취급액의 상관관계 분석 ]"
   ]
  },
  {
   "cell_type": "code",
   "execution_count": 2,
   "metadata": {},
   "outputs": [],
   "source": [
    "import pandas as pd\n",
    "import numpy as np"
   ]
  },
  {
   "cell_type": "code",
   "execution_count": 19,
   "metadata": {},
   "outputs": [],
   "source": [
    "pf = pd.read_excel('performance.xlsx', header=1)"
   ]
  },
  {
   "cell_type": "code",
   "execution_count": 8,
   "metadata": {},
   "outputs": [
    {
     "data": {
      "text/html": [
       "<div>\n",
       "<style scoped>\n",
       "    .dataframe tbody tr th:only-of-type {\n",
       "        vertical-align: middle;\n",
       "    }\n",
       "\n",
       "    .dataframe tbody tr th {\n",
       "        vertical-align: top;\n",
       "    }\n",
       "\n",
       "    .dataframe thead th {\n",
       "        text-align: right;\n",
       "    }\n",
       "</style>\n",
       "<table border=\"1\" class=\"dataframe\">\n",
       "  <thead>\n",
       "    <tr style=\"text-align: right;\">\n",
       "      <th></th>\n",
       "      <th>지수코드별</th>\n",
       "      <th>분류코드별</th>\n",
       "      <th>2019. 01</th>\n",
       "      <th>2019. 02</th>\n",
       "      <th>2019. 03</th>\n",
       "      <th>2019. 04</th>\n",
       "      <th>2019. 05</th>\n",
       "      <th>2019. 06</th>\n",
       "      <th>2019. 07</th>\n",
       "      <th>2019. 08</th>\n",
       "      <th>2019. 09</th>\n",
       "      <th>2019. 10</th>\n",
       "      <th>2019. 11</th>\n",
       "      <th>2019. 12</th>\n",
       "    </tr>\n",
       "  </thead>\n",
       "  <tbody>\n",
       "    <tr>\n",
       "      <th>524</th>\n",
       "      <td>NaN</td>\n",
       "      <td>임차 등</td>\n",
       "      <td>120</td>\n",
       "      <td>119</td>\n",
       "      <td>115</td>\n",
       "      <td>115</td>\n",
       "      <td>114</td>\n",
       "      <td>114</td>\n",
       "      <td>115</td>\n",
       "      <td>117</td>\n",
       "      <td>115</td>\n",
       "      <td>114</td>\n",
       "      <td>114</td>\n",
       "      <td>115</td>\n",
       "    </tr>\n",
       "    <tr>\n",
       "      <th>525</th>\n",
       "      <td>NaN</td>\n",
       "      <td>서울</td>\n",
       "      <td>122</td>\n",
       "      <td>121</td>\n",
       "      <td>115</td>\n",
       "      <td>115</td>\n",
       "      <td>116</td>\n",
       "      <td>117</td>\n",
       "      <td>119</td>\n",
       "      <td>117</td>\n",
       "      <td>117</td>\n",
       "      <td>117</td>\n",
       "      <td>117</td>\n",
       "      <td>116</td>\n",
       "    </tr>\n",
       "    <tr>\n",
       "      <th>526</th>\n",
       "      <td>NaN</td>\n",
       "      <td>6대광역시</td>\n",
       "      <td>124</td>\n",
       "      <td>120</td>\n",
       "      <td>117</td>\n",
       "      <td>118</td>\n",
       "      <td>117</td>\n",
       "      <td>118</td>\n",
       "      <td>119</td>\n",
       "      <td>121</td>\n",
       "      <td>119</td>\n",
       "      <td>118</td>\n",
       "      <td>117</td>\n",
       "      <td>117</td>\n",
       "    </tr>\n",
       "    <tr>\n",
       "      <th>527</th>\n",
       "      <td>NaN</td>\n",
       "      <td>기타도시</td>\n",
       "      <td>122</td>\n",
       "      <td>120</td>\n",
       "      <td>117</td>\n",
       "      <td>116</td>\n",
       "      <td>115</td>\n",
       "      <td>116</td>\n",
       "      <td>117</td>\n",
       "      <td>117</td>\n",
       "      <td>116</td>\n",
       "      <td>117</td>\n",
       "      <td>116</td>\n",
       "      <td>117</td>\n",
       "    </tr>\n",
       "    <tr>\n",
       "      <th>528</th>\n",
       "      <td>소비자심리지수</td>\n",
       "      <td>전체</td>\n",
       "      <td>98</td>\n",
       "      <td>100</td>\n",
       "      <td>100</td>\n",
       "      <td>102</td>\n",
       "      <td>98</td>\n",
       "      <td>98</td>\n",
       "      <td>96</td>\n",
       "      <td>92</td>\n",
       "      <td>97</td>\n",
       "      <td>99</td>\n",
       "      <td>101</td>\n",
       "      <td>101</td>\n",
       "    </tr>\n",
       "  </tbody>\n",
       "</table>\n",
       "</div>"
      ],
      "text/plain": [
       "       지수코드별     분류코드별  2019. 01  2019. 02  2019. 03  2019. 04  2019. 05  \\\n",
       "524      NaN   　　　임차 등       120       119       115       115       114   \n",
       "525      NaN     　　　서울       122       121       115       115       116   \n",
       "526      NaN  　　　6대광역시       124       120       117       118       117   \n",
       "527      NaN   　　　기타도시       122       120       117       116       115   \n",
       "528  소비자심리지수        전체        98       100       100       102        98   \n",
       "\n",
       "     2019. 06  2019. 07  2019. 08  2019. 09  2019. 10  2019. 11  2019. 12  \n",
       "524       114       115       117       115       114       114       115  \n",
       "525       117       119       117       117       117       117       116  \n",
       "526       118       119       121       119       118       117       117  \n",
       "527       116       117       117       116       117       116       117  \n",
       "528        98        96        92        97        99       101       101  "
      ]
     },
     "execution_count": 8,
     "metadata": {},
     "output_type": "execute_result"
    }
   ],
   "source": [
    "ccsi = pd.read_excel('CCSI.xlsx', header=0)\n",
    "ccsi.tail()"
   ]
  },
  {
   "cell_type": "markdown",
   "metadata": {},
   "source": [
    "## 1. 데이터 전처리"
   ]
  },
  {
   "cell_type": "code",
   "execution_count": 20,
   "metadata": {},
   "outputs": [],
   "source": [
    "pf.loc[pf['노출(분)'].isnull(), '노출(분)'] = \\\n",
    "              pf.loc[pf['노출(분)'].isnull(), '방송일시'].map(pf.loc[pf['노출(분)'].notnull()]\\\n",
    "                                                      .set_index('방송일시')['노출(분)'])\n",
    "pf = pf[pf['상품군']!='무형']\n",
    "pf = pf[pf.취급액 != 50000]"
   ]
  },
  {
   "cell_type": "code",
   "execution_count": 21,
   "metadata": {},
   "outputs": [
    {
     "data": {
      "text/html": [
       "<div>\n",
       "<style scoped>\n",
       "    .dataframe tbody tr th:only-of-type {\n",
       "        vertical-align: middle;\n",
       "    }\n",
       "\n",
       "    .dataframe tbody tr th {\n",
       "        vertical-align: top;\n",
       "    }\n",
       "\n",
       "    .dataframe thead th {\n",
       "        text-align: right;\n",
       "    }\n",
       "</style>\n",
       "<table border=\"1\" class=\"dataframe\">\n",
       "  <thead>\n",
       "    <tr style=\"text-align: right;\">\n",
       "      <th></th>\n",
       "      <th>year</th>\n",
       "      <th>month</th>\n",
       "      <th>취급액</th>\n",
       "    </tr>\n",
       "  </thead>\n",
       "  <tbody>\n",
       "    <tr>\n",
       "      <th>0</th>\n",
       "      <td>2019</td>\n",
       "      <td>1</td>\n",
       "      <td>2099000.0</td>\n",
       "    </tr>\n",
       "    <tr>\n",
       "      <th>1</th>\n",
       "      <td>2019</td>\n",
       "      <td>1</td>\n",
       "      <td>4371000.0</td>\n",
       "    </tr>\n",
       "    <tr>\n",
       "      <th>2</th>\n",
       "      <td>2019</td>\n",
       "      <td>1</td>\n",
       "      <td>3262000.0</td>\n",
       "    </tr>\n",
       "    <tr>\n",
       "      <th>3</th>\n",
       "      <td>2019</td>\n",
       "      <td>1</td>\n",
       "      <td>6955000.0</td>\n",
       "    </tr>\n",
       "    <tr>\n",
       "      <th>4</th>\n",
       "      <td>2019</td>\n",
       "      <td>1</td>\n",
       "      <td>6672000.0</td>\n",
       "    </tr>\n",
       "  </tbody>\n",
       "</table>\n",
       "</div>"
      ],
      "text/plain": [
       "   year  month        취급액\n",
       "0  2019      1  2099000.0\n",
       "1  2019      1  4371000.0\n",
       "2  2019      1  3262000.0\n",
       "3  2019      1  6955000.0\n",
       "4  2019      1  6672000.0"
      ]
     },
     "execution_count": 21,
     "metadata": {},
     "output_type": "execute_result"
    }
   ],
   "source": [
    "pf['year'] = pf['방송일시'].map(lambda x: x.year)\n",
    "pf['month'] = pf['방송일시'].map(lambda x: x.month)\n",
    "pf = pf[['year', 'month', '취급액']]\n",
    "pf.head()"
   ]
  },
  {
   "cell_type": "code",
   "execution_count": 22,
   "metadata": {},
   "outputs": [],
   "source": [
    "def make_date(year, month):\n",
    "    date = str(int(year))+'. ' \n",
    "    month = str(int(month))\n",
    "    if len(month) == 1:\n",
    "        month = '0' + month\n",
    "    date = date + month\n",
    "    return date    "
   ]
  },
  {
   "cell_type": "code",
   "execution_count": 23,
   "metadata": {},
   "outputs": [
    {
     "data": {
      "text/html": [
       "<div>\n",
       "<style scoped>\n",
       "    .dataframe tbody tr th:only-of-type {\n",
       "        vertical-align: middle;\n",
       "    }\n",
       "\n",
       "    .dataframe tbody tr th {\n",
       "        vertical-align: top;\n",
       "    }\n",
       "\n",
       "    .dataframe thead th {\n",
       "        text-align: right;\n",
       "    }\n",
       "</style>\n",
       "<table border=\"1\" class=\"dataframe\">\n",
       "  <thead>\n",
       "    <tr style=\"text-align: right;\">\n",
       "      <th></th>\n",
       "      <th>year</th>\n",
       "      <th>month</th>\n",
       "      <th>취급액</th>\n",
       "    </tr>\n",
       "    <tr>\n",
       "      <th>date</th>\n",
       "      <th></th>\n",
       "      <th></th>\n",
       "      <th></th>\n",
       "    </tr>\n",
       "  </thead>\n",
       "  <tbody>\n",
       "    <tr>\n",
       "      <th>2019. 09</th>\n",
       "      <td>6020658</td>\n",
       "      <td>26838</td>\n",
       "      <td>6.746911e+10</td>\n",
       "    </tr>\n",
       "    <tr>\n",
       "      <th>2019. 10</th>\n",
       "      <td>6004506</td>\n",
       "      <td>29740</td>\n",
       "      <td>6.884348e+10</td>\n",
       "    </tr>\n",
       "    <tr>\n",
       "      <th>2019. 11</th>\n",
       "      <td>5465433</td>\n",
       "      <td>29777</td>\n",
       "      <td>7.393539e+10</td>\n",
       "    </tr>\n",
       "    <tr>\n",
       "      <th>2019. 12</th>\n",
       "      <td>5851062</td>\n",
       "      <td>34776</td>\n",
       "      <td>7.991718e+10</td>\n",
       "    </tr>\n",
       "    <tr>\n",
       "      <th>2020. 01</th>\n",
       "      <td>8080</td>\n",
       "      <td>4</td>\n",
       "      <td>2.156940e+08</td>\n",
       "    </tr>\n",
       "  </tbody>\n",
       "</table>\n",
       "</div>"
      ],
      "text/plain": [
       "             year  month           취급액\n",
       "date                                  \n",
       "2019. 09  6020658  26838  6.746911e+10\n",
       "2019. 10  6004506  29740  6.884348e+10\n",
       "2019. 11  5465433  29777  7.393539e+10\n",
       "2019. 12  5851062  34776  7.991718e+10\n",
       "2020. 01     8080      4  2.156940e+08"
      ]
     },
     "execution_count": 23,
     "metadata": {},
     "output_type": "execute_result"
    }
   ],
   "source": [
    "pf['date'] = pf.apply(lambda x: make_date(x['year'], x['month']), axis=1)\n",
    "pf = pf.groupby('date').sum()\n",
    "pf.tail()"
   ]
  },
  {
   "cell_type": "code",
   "execution_count": 31,
   "metadata": {},
   "outputs": [
    {
     "data": {
      "text/html": [
       "<div>\n",
       "<style scoped>\n",
       "    .dataframe tbody tr th:only-of-type {\n",
       "        vertical-align: middle;\n",
       "    }\n",
       "\n",
       "    .dataframe tbody tr th {\n",
       "        vertical-align: top;\n",
       "    }\n",
       "\n",
       "    .dataframe thead th {\n",
       "        text-align: right;\n",
       "    }\n",
       "</style>\n",
       "<table border=\"1\" class=\"dataframe\">\n",
       "  <thead>\n",
       "    <tr style=\"text-align: right;\">\n",
       "      <th></th>\n",
       "      <th>year</th>\n",
       "      <th>month</th>\n",
       "      <th>취급액</th>\n",
       "    </tr>\n",
       "    <tr>\n",
       "      <th>date</th>\n",
       "      <th></th>\n",
       "      <th></th>\n",
       "      <th></th>\n",
       "    </tr>\n",
       "  </thead>\n",
       "  <tbody>\n",
       "    <tr>\n",
       "      <th>2019. 08</th>\n",
       "      <td>5859138</td>\n",
       "      <td>23216</td>\n",
       "      <td>6.901195e+10</td>\n",
       "    </tr>\n",
       "    <tr>\n",
       "      <th>2019. 09</th>\n",
       "      <td>6020658</td>\n",
       "      <td>26838</td>\n",
       "      <td>6.746911e+10</td>\n",
       "    </tr>\n",
       "    <tr>\n",
       "      <th>2019. 10</th>\n",
       "      <td>6004506</td>\n",
       "      <td>29740</td>\n",
       "      <td>6.884348e+10</td>\n",
       "    </tr>\n",
       "    <tr>\n",
       "      <th>2019. 11</th>\n",
       "      <td>5465433</td>\n",
       "      <td>29777</td>\n",
       "      <td>7.393539e+10</td>\n",
       "    </tr>\n",
       "    <tr>\n",
       "      <th>2019. 12</th>\n",
       "      <td>5851062</td>\n",
       "      <td>34776</td>\n",
       "      <td>7.991718e+10</td>\n",
       "    </tr>\n",
       "  </tbody>\n",
       "</table>\n",
       "</div>"
      ],
      "text/plain": [
       "             year  month           취급액\n",
       "date                                  \n",
       "2019. 08  5859138  23216  6.901195e+10\n",
       "2019. 09  6020658  26838  6.746911e+10\n",
       "2019. 10  6004506  29740  6.884348e+10\n",
       "2019. 11  5465433  29777  7.393539e+10\n",
       "2019. 12  5851062  34776  7.991718e+10"
      ]
     },
     "execution_count": 31,
     "metadata": {},
     "output_type": "execute_result"
    }
   ],
   "source": [
    "cp = pf.iloc[:-1]\n",
    "cp.tail()"
   ]
  },
  {
   "cell_type": "code",
   "execution_count": 28,
   "metadata": {},
   "outputs": [
    {
     "data": {
      "text/plain": [
       "{'2019. 01': 98,\n",
       " '2019. 02': 100,\n",
       " '2019. 03': 100,\n",
       " '2019. 04': 102,\n",
       " '2019. 05': 98,\n",
       " '2019. 06': 98,\n",
       " '2019. 07': 96,\n",
       " '2019. 08': 92,\n",
       " '2019. 09': 97,\n",
       " '2019. 10': 99,\n",
       " '2019. 11': 101,\n",
       " '2019. 12': 101}"
      ]
     },
     "execution_count": 28,
     "metadata": {},
     "output_type": "execute_result"
    }
   ],
   "source": [
    "ccsi_dict = ccsi.iloc[-1].to_dict()\n",
    "del ccsi_dict['지수코드별']\n",
    "del ccsi_dict['분류코드별']\n",
    "ccsi_dict"
   ]
  },
  {
   "cell_type": "code",
   "execution_count": 30,
   "metadata": {},
   "outputs": [
    {
     "data": {
      "text/plain": [
       "dict_values([98, 100, 100, 102, 98, 98, 96, 92, 97, 99, 101, 101])"
      ]
     },
     "execution_count": 30,
     "metadata": {},
     "output_type": "execute_result"
    }
   ],
   "source": [
    "ccsi_list = ccsi_dict.values()\n",
    "ccsi_list"
   ]
  },
  {
   "cell_type": "code",
   "execution_count": 33,
   "metadata": {},
   "outputs": [
    {
     "name": "stderr",
     "output_type": "stream",
     "text": [
      "C:\\ProgramData\\Anaconda3\\envs\\tensor\\lib\\site-packages\\ipykernel_launcher.py:1: SettingWithCopyWarning: \n",
      "A value is trying to be set on a copy of a slice from a DataFrame.\n",
      "Try using .loc[row_indexer,col_indexer] = value instead\n",
      "\n",
      "See the caveats in the documentation: https://pandas.pydata.org/pandas-docs/stable/user_guide/indexing.html#returning-a-view-versus-a-copy\n",
      "  \"\"\"Entry point for launching an IPython kernel.\n"
     ]
    },
    {
     "data": {
      "text/html": [
       "<div>\n",
       "<style scoped>\n",
       "    .dataframe tbody tr th:only-of-type {\n",
       "        vertical-align: middle;\n",
       "    }\n",
       "\n",
       "    .dataframe tbody tr th {\n",
       "        vertical-align: top;\n",
       "    }\n",
       "\n",
       "    .dataframe thead th {\n",
       "        text-align: right;\n",
       "    }\n",
       "</style>\n",
       "<table border=\"1\" class=\"dataframe\">\n",
       "  <thead>\n",
       "    <tr style=\"text-align: right;\">\n",
       "      <th></th>\n",
       "      <th>year</th>\n",
       "      <th>month</th>\n",
       "      <th>취급액</th>\n",
       "      <th>ccsi</th>\n",
       "    </tr>\n",
       "    <tr>\n",
       "      <th>date</th>\n",
       "      <th></th>\n",
       "      <th></th>\n",
       "      <th></th>\n",
       "      <th></th>\n",
       "    </tr>\n",
       "  </thead>\n",
       "  <tbody>\n",
       "    <tr>\n",
       "      <th>2019. 01</th>\n",
       "      <td>5574459</td>\n",
       "      <td>2761</td>\n",
       "      <td>6.870581e+10</td>\n",
       "      <td>98</td>\n",
       "    </tr>\n",
       "    <tr>\n",
       "      <th>2019. 02</th>\n",
       "      <td>5398806</td>\n",
       "      <td>5348</td>\n",
       "      <td>5.958138e+10</td>\n",
       "      <td>100</td>\n",
       "    </tr>\n",
       "    <tr>\n",
       "      <th>2019. 03</th>\n",
       "      <td>6204387</td>\n",
       "      <td>9219</td>\n",
       "      <td>6.462860e+10</td>\n",
       "      <td>100</td>\n",
       "    </tr>\n",
       "    <tr>\n",
       "      <th>2019. 04</th>\n",
       "      <td>6323508</td>\n",
       "      <td>12528</td>\n",
       "      <td>6.077887e+10</td>\n",
       "      <td>102</td>\n",
       "    </tr>\n",
       "    <tr>\n",
       "      <th>2019. 05</th>\n",
       "      <td>6622320</td>\n",
       "      <td>16400</td>\n",
       "      <td>6.890008e+10</td>\n",
       "      <td>98</td>\n",
       "    </tr>\n",
       "    <tr>\n",
       "      <th>2019. 06</th>\n",
       "      <td>5774340</td>\n",
       "      <td>17160</td>\n",
       "      <td>6.633750e+10</td>\n",
       "      <td>98</td>\n",
       "    </tr>\n",
       "    <tr>\n",
       "      <th>2019. 07</th>\n",
       "      <td>6323508</td>\n",
       "      <td>21924</td>\n",
       "      <td>6.901510e+10</td>\n",
       "      <td>96</td>\n",
       "    </tr>\n",
       "    <tr>\n",
       "      <th>2019. 08</th>\n",
       "      <td>5859138</td>\n",
       "      <td>23216</td>\n",
       "      <td>6.901195e+10</td>\n",
       "      <td>92</td>\n",
       "    </tr>\n",
       "    <tr>\n",
       "      <th>2019. 09</th>\n",
       "      <td>6020658</td>\n",
       "      <td>26838</td>\n",
       "      <td>6.746911e+10</td>\n",
       "      <td>97</td>\n",
       "    </tr>\n",
       "    <tr>\n",
       "      <th>2019. 10</th>\n",
       "      <td>6004506</td>\n",
       "      <td>29740</td>\n",
       "      <td>6.884348e+10</td>\n",
       "      <td>99</td>\n",
       "    </tr>\n",
       "    <tr>\n",
       "      <th>2019. 11</th>\n",
       "      <td>5465433</td>\n",
       "      <td>29777</td>\n",
       "      <td>7.393539e+10</td>\n",
       "      <td>101</td>\n",
       "    </tr>\n",
       "    <tr>\n",
       "      <th>2019. 12</th>\n",
       "      <td>5851062</td>\n",
       "      <td>34776</td>\n",
       "      <td>7.991718e+10</td>\n",
       "      <td>101</td>\n",
       "    </tr>\n",
       "  </tbody>\n",
       "</table>\n",
       "</div>"
      ],
      "text/plain": [
       "             year  month           취급액  ccsi\n",
       "date                                        \n",
       "2019. 01  5574459   2761  6.870581e+10    98\n",
       "2019. 02  5398806   5348  5.958138e+10   100\n",
       "2019. 03  6204387   9219  6.462860e+10   100\n",
       "2019. 04  6323508  12528  6.077887e+10   102\n",
       "2019. 05  6622320  16400  6.890008e+10    98\n",
       "2019. 06  5774340  17160  6.633750e+10    98\n",
       "2019. 07  6323508  21924  6.901510e+10    96\n",
       "2019. 08  5859138  23216  6.901195e+10    92\n",
       "2019. 09  6020658  26838  6.746911e+10    97\n",
       "2019. 10  6004506  29740  6.884348e+10    99\n",
       "2019. 11  5465433  29777  7.393539e+10   101\n",
       "2019. 12  5851062  34776  7.991718e+10   101"
      ]
     },
     "execution_count": 33,
     "metadata": {},
     "output_type": "execute_result"
    }
   ],
   "source": [
    "cp['ccsi'] = ccsi_list\n",
    "cp"
   ]
  },
  {
   "cell_type": "markdown",
   "metadata": {},
   "source": [
    "## 2.상관관계 분석\n",
    "### (1) 산점도"
   ]
  },
  {
   "cell_type": "code",
   "execution_count": 35,
   "metadata": {},
   "outputs": [
    {
     "data": {
      "image/png": "[encoded data removed]",
      "text/plain": [
       "<Figure size 360x360 with 1 Axes>"
      ]
     },
     "metadata": {
      "needs_background": "light"
     },
     "output_type": "display_data"
    }
   ],
   "source": [
    "import matplotlib.pyplot as plt\n",
    "%matplotlib inline\n",
    "\n",
    "# 산점도 작성\n",
    "plt.figure(figsize=(5, 5))         # 플롯 사이즈 지정\n",
    "plt.scatter(cp.ccsi, cp.취급액)       # 산점도\n",
    "plt.xlabel(\"CCSI\")                    # x축 레이블 지정\n",
    "plt.ylabel(\"Profit\")                 # y축 레이블 지정\n",
    "plt.grid()                           # 플롯에 격자 보이기\n",
    "plt.show()                           # 플롯 보이기"
   ]
  },
  {
   "cell_type": "code",
   "execution_count": 36,
   "metadata": {},
   "outputs": [
    {
     "data": {
      "text/plain": [
       "<seaborn.axisgrid.PairGrid at 0x225ecf97b00>"
      ]
     },
     "execution_count": 36,
     "metadata": {},
     "output_type": "execute_result"
    },
    {
     "data": {
      "image/png": "[encoded data removed]",
      "text/plain": [
       "<Figure size 576x576 with 6 Axes>"
      ]
     },
     "metadata": {
      "needs_background": "light"
     },
     "output_type": "display_data"
    }
   ],
   "source": [
    "import seaborn as sns\n",
    "\n",
    "pair = cp[['ccsi', '취급액']]\n",
    "sns.pairplot(pair, kind='reg', height=4)    # 페어플롯 작성"
   ]
  },
  {
   "cell_type": "markdown",
   "metadata": {},
   "source": [
    "### (3) 피어슨 상관계수"
   ]
  },
  {
   "cell_type": "code",
   "execution_count": 37,
   "metadata": {},
   "outputs": [
    {
     "data": {
      "text/plain": [
       "(-0.03857062647426618, 0.9052681292524696)"
      ]
     },
     "execution_count": 37,
     "metadata": {},
     "output_type": "execute_result"
    }
   ],
   "source": [
    "import scipy.stats as stats\n",
    "\n",
    "# 피어슨 상관계수 검정\n",
    "corr = stats.pearsonr(cp.ccsi, cp.취급액)\n",
    "corr"
   ]
  },
  {
   "cell_type": "code",
   "execution_count": null,
   "metadata": {},
   "outputs": [],
   "source": []
  }
 ],
 "metadata": {
  "kernelspec": {
   "display_name": "Python 3",
   "language": "python",
   "name": "python3"
  },
  "language_info": {
   "codemirror_mode": {
    "name": "ipython",
    "version": 3
   },
   "file_extension": ".py",
   "mimetype": "text/x-python",
   "name": "python",
   "nbconvert_exporter": "python",
   "pygments_lexer": "ipython3",
   "version": "3.6.8"
  }
 },
 "nbformat": 4,
 "nbformat_minor": 2
}
