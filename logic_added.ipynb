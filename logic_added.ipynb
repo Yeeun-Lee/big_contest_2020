{
 "cells": [
  {
   "cell_type": "markdown",
   "metadata": {},
   "source": [
    "## 필터링 로직 추가\n",
    "\n",
    "- 새로운 데이터의 상품코드가 기 학습된 인코더 안에 있는지 확인\n",
    "    - 없을 경우 마더코드 검색\n",
    "    - 동일 마더코드 안에서 동일 상품군 검색\n",
    "    - 동일 상품군 안에서 단가 비교를 통한 대체 데이터 반환\n",
    "- 일자와 날씨 등의 다른 데이터는 그대로 넣어준다"
   ]
  },
  {
   "cell_type": "code",
   "execution_count": 1,
   "metadata": {},
   "outputs": [],
   "source": [
    "import numpy as np\n",
    "import pandas as pd\n",
    "import os"
   ]
  },
  {
   "cell_type": "code",
   "execution_count": 2,
   "metadata": {},
   "outputs": [],
   "source": [
    "def drop_unnamed(data):\n",
    "    names = data.columns\n",
    "    for name in names:\n",
    "        if \"Unnamed\" in name:\n",
    "            data.pop(name)\n",
    "    return data"
   ]
  },
  {
   "cell_type": "markdown",
   "metadata": {},
   "source": [
    "#### Binary encoded columns\n",
    "\n",
    "- m_* : 마더코드\n",
    "- p_* : 상품코드\n",
    "- g_* : 상품군 \n",
    "- s_* : stage\n",
    "- w_* : weekofyear"
   ]
  },
  {
   "cell_type": "code",
   "execution_count": 3,
   "metadata": {},
   "outputs": [
    {
     "data": {
      "text/html": [
       "<div>\n",
       "<style scoped>\n",
       "    .dataframe tbody tr th:only-of-type {\n",
       "        vertical-align: middle;\n",
       "    }\n",
       "\n",
       "    .dataframe tbody tr th {\n",
       "        vertical-align: top;\n",
       "    }\n",
       "\n",
       "    .dataframe thead th {\n",
       "        text-align: right;\n",
       "    }\n",
       "</style>\n",
       "<table border=\"1\" class=\"dataframe\">\n",
       "  <thead>\n",
       "    <tr style=\"text-align: right;\">\n",
       "      <th></th>\n",
       "      <th>마더코드</th>\n",
       "      <th>상품코드</th>\n",
       "      <th>상품군</th>\n",
       "      <th>week</th>\n",
       "      <th>hour</th>\n",
       "      <th>weekofyear</th>\n",
       "      <th>stage</th>\n",
       "      <th>prime</th>\n",
       "      <th>IsHoliday</th>\n",
       "      <th>노출(분)</th>\n",
       "      <th>판매단가</th>\n",
       "      <th>취급액</th>\n",
       "      <th>지속휴일수</th>\n",
       "      <th>TEMP</th>\n",
       "      <th>HUM</th>\n",
       "      <th>cpi</th>\n",
       "      <th>profit/m</th>\n",
       "      <th>avgp</th>\n",
       "      <th>minp</th>\n",
       "      <th>maxp</th>\n",
       "    </tr>\n",
       "  </thead>\n",
       "  <tbody>\n",
       "    <tr>\n",
       "      <th>0</th>\n",
       "      <td>296</td>\n",
       "      <td>891</td>\n",
       "      <td>6</td>\n",
       "      <td>1</td>\n",
       "      <td>6</td>\n",
       "      <td>0</td>\n",
       "      <td>0</td>\n",
       "      <td>0</td>\n",
       "      <td>1.0</td>\n",
       "      <td>20.0</td>\n",
       "      <td>39900</td>\n",
       "      <td>2099000.0</td>\n",
       "      <td>1.0</td>\n",
       "      <td>-6.576974</td>\n",
       "      <td>63.524958</td>\n",
       "      <td>104.03</td>\n",
       "      <td>104950.0</td>\n",
       "      <td>298430.0</td>\n",
       "      <td>104950.0</td>\n",
       "      <td>524050.0</td>\n",
       "    </tr>\n",
       "    <tr>\n",
       "      <th>1</th>\n",
       "      <td>296</td>\n",
       "      <td>891</td>\n",
       "      <td>6</td>\n",
       "      <td>1</td>\n",
       "      <td>6</td>\n",
       "      <td>0</td>\n",
       "      <td>2</td>\n",
       "      <td>0</td>\n",
       "      <td>1.0</td>\n",
       "      <td>20.0</td>\n",
       "      <td>39900</td>\n",
       "      <td>3262000.0</td>\n",
       "      <td>1.0</td>\n",
       "      <td>-6.576974</td>\n",
       "      <td>63.524958</td>\n",
       "      <td>104.03</td>\n",
       "      <td>163100.0</td>\n",
       "      <td>298430.0</td>\n",
       "      <td>104950.0</td>\n",
       "      <td>524050.0</td>\n",
       "    </tr>\n",
       "    <tr>\n",
       "      <th>2</th>\n",
       "      <td>296</td>\n",
       "      <td>891</td>\n",
       "      <td>6</td>\n",
       "      <td>1</td>\n",
       "      <td>6</td>\n",
       "      <td>0</td>\n",
       "      <td>1</td>\n",
       "      <td>0</td>\n",
       "      <td>1.0</td>\n",
       "      <td>20.0</td>\n",
       "      <td>39900</td>\n",
       "      <td>6672000.0</td>\n",
       "      <td>1.0</td>\n",
       "      <td>-6.576974</td>\n",
       "      <td>63.524958</td>\n",
       "      <td>104.03</td>\n",
       "      <td>333600.0</td>\n",
       "      <td>298430.0</td>\n",
       "      <td>104950.0</td>\n",
       "      <td>524050.0</td>\n",
       "    </tr>\n",
       "    <tr>\n",
       "      <th>3</th>\n",
       "      <td>296</td>\n",
       "      <td>891</td>\n",
       "      <td>6</td>\n",
       "      <td>2</td>\n",
       "      <td>0</td>\n",
       "      <td>0</td>\n",
       "      <td>0</td>\n",
       "      <td>0</td>\n",
       "      <td>0.0</td>\n",
       "      <td>20.0</td>\n",
       "      <td>39900</td>\n",
       "      <td>7329000.0</td>\n",
       "      <td>0.0</td>\n",
       "      <td>-5.089473</td>\n",
       "      <td>54.841105</td>\n",
       "      <td>104.03</td>\n",
       "      <td>366450.0</td>\n",
       "      <td>298430.0</td>\n",
       "      <td>104950.0</td>\n",
       "      <td>524050.0</td>\n",
       "    </tr>\n",
       "    <tr>\n",
       "      <th>4</th>\n",
       "      <td>296</td>\n",
       "      <td>891</td>\n",
       "      <td>6</td>\n",
       "      <td>2</td>\n",
       "      <td>0</td>\n",
       "      <td>0</td>\n",
       "      <td>1</td>\n",
       "      <td>0</td>\n",
       "      <td>0.0</td>\n",
       "      <td>20.0</td>\n",
       "      <td>39900</td>\n",
       "      <td>10481000.0</td>\n",
       "      <td>0.0</td>\n",
       "      <td>-5.089473</td>\n",
       "      <td>54.841105</td>\n",
       "      <td>104.03</td>\n",
       "      <td>524050.0</td>\n",
       "      <td>298430.0</td>\n",
       "      <td>104950.0</td>\n",
       "      <td>524050.0</td>\n",
       "    </tr>\n",
       "  </tbody>\n",
       "</table>\n",
       "</div>"
      ],
      "text/plain": [
       "   마더코드  상품코드  상품군  week  hour  weekofyear  stage  prime  IsHoliday  노출(분)  \\\n",
       "0   296   891    6     1     6           0      0      0        1.0   20.0   \n",
       "1   296   891    6     1     6           0      2      0        1.0   20.0   \n",
       "2   296   891    6     1     6           0      1      0        1.0   20.0   \n",
       "3   296   891    6     2     0           0      0      0        0.0   20.0   \n",
       "4   296   891    6     2     0           0      1      0        0.0   20.0   \n",
       "\n",
       "    판매단가         취급액  지속휴일수      TEMP        HUM     cpi  profit/m      avgp  \\\n",
       "0  39900   2099000.0    1.0 -6.576974  63.524958  104.03  104950.0  298430.0   \n",
       "1  39900   3262000.0    1.0 -6.576974  63.524958  104.03  163100.0  298430.0   \n",
       "2  39900   6672000.0    1.0 -6.576974  63.524958  104.03  333600.0  298430.0   \n",
       "3  39900   7329000.0    0.0 -5.089473  54.841105  104.03  366450.0  298430.0   \n",
       "4  39900  10481000.0    0.0 -5.089473  54.841105  104.03  524050.0  298430.0   \n",
       "\n",
       "       minp      maxp  \n",
       "0  104950.0  524050.0  \n",
       "1  104950.0  524050.0  \n",
       "2  104950.0  524050.0  \n",
       "3  104950.0  524050.0  \n",
       "4  104950.0  524050.0  "
      ]
     },
     "execution_count": 3,
     "metadata": {},
     "output_type": "execute_result"
    }
   ],
   "source": [
    "stat_data = drop_unnamed(pd.read_csv(\"prep/data/final_performance_with_stat.csv\"))\n",
    "stat_data.head()"
   ]
  },
  {
   "cell_type": "code",
   "execution_count": 4,
   "metadata": {},
   "outputs": [
    {
     "data": {
      "text/plain": [
       "마더코드          0\n",
       "상품코드          0\n",
       "상품군           0\n",
       "week          0\n",
       "hour          0\n",
       "weekofyear    0\n",
       "stage         0\n",
       "prime         0\n",
       "IsHoliday     0\n",
       "노출(분)         0\n",
       "판매단가          0\n",
       "취급액           0\n",
       "지속휴일수         0\n",
       "TEMP          0\n",
       "HUM           0\n",
       "cpi           0\n",
       "profit/m      0\n",
       "avgp          0\n",
       "minp          0\n",
       "maxp          0\n",
       "dtype: int64"
      ]
     },
     "execution_count": 4,
     "metadata": {},
     "output_type": "execute_result"
    }
   ],
   "source": [
    "stat_data.isna().sum()"
   ]
  },
  {
   "cell_type": "code",
   "execution_count": 5,
   "metadata": {},
   "outputs": [],
   "source": [
    "# import fitted Encoders\n",
    "m_classes = np.load('reference/마더코드_classes.npy')\n",
    "p_classes = np.load('reference/상품코드_classes.npy')\n",
    "s_classes = np.load('reference/stage_classes.npy')\n",
    "g_classes = np.load('reference/상품군_classes.npy')"
   ]
  },
  {
   "cell_type": "code",
   "execution_count": 6,
   "metadata": {},
   "outputs": [
    {
     "data": {
      "text/plain": [
       "array(['가구', '가전', '건강기능', '농수축', '생활용품', '속옷', '의류', '이미용', '잡화', '주방',\n",
       "       '침구'], dtype=object)"
      ]
     },
     "execution_count": 6,
     "metadata": {},
     "output_type": "execute_result"
    }
   ],
   "source": [
    "g_classes"
   ]
  },
  {
   "cell_type": "code",
   "execution_count": 7,
   "metadata": {},
   "outputs": [],
   "source": [
    "# categorical variables to binary encoding\n",
    "# bin(max(_data['상품명'])).replace(\"0b\", '')\n",
    "\n",
    "def binary_encoding(name, x):\n",
    "    # x : column\n",
    "    if name == '마더코드':\n",
    "        value = bin(x).replace(\"0b\", \"\")\n",
    "        return list(map(int, '0'*(10-len(value))+value))\n",
    "    if name == '상품코드':\n",
    "        value = bin(x).replace(\"0b\", \"\")\n",
    "        return list(map(int, '0'*(11-len(value))+value))\n",
    "    if name == 'week':\n",
    "        value = bin(x).replace(\"0b\", \"\")\n",
    "        return list(map(int, '0'*(3-len(value))+value))\n",
    "    if name == 'hour':\n",
    "        value = bin(x).replace(\"0b\", \"\")\n",
    "        return list(map(int, '0'*(5-len(value))+value))\n",
    "    if name == 'weekofyear':\n",
    "        value = bin(x).replace(\"0b\", \"\")\n",
    "        return list(map(int, '0'*(6-len(value))+value))\n",
    "    else: # 상품군\n",
    "        value = bin(x).replace(\"0b\", \"\")\n",
    "        return list(map(int, '0'*(4-len(value))+value))\n",
    "    "
   ]
  },
  {
   "cell_type": "code",
   "execution_count": 8,
   "metadata": {},
   "outputs": [
    {
     "name": "stdout",
     "output_type": "stream",
     "text": [
      "Index(['마더코드', '상품코드', '상품군', 'week', 'hour', 'weekofyear', 'stage', 'prime',\n",
      "       'IsHoliday', '노출(분)', '판매단가', '취급액', '지속휴일수', 'TEMP', 'HUM', 'cpi',\n",
      "       'profit/m', 'avgp', 'minp', 'maxp', 'm_0', 'm_1', 'm_2', 'm_3', 'm_4',\n",
      "       'm_5', 'm_6', 'm_7', 'm_8', 'm_9', 'p_0', 'p_1', 'p_2', 'p_3', 'p_4',\n",
      "       'p_5', 'p_6', 'p_7', 'p_8', 'p_9', 'p_10', 'g_0', 'g_1', 'g_2', 'g_3',\n",
      "       'wd_0', 'wd_1', 'wd_2', 'wy_0', 'wy_1', 'wy_2', 'wy_3', 'wy_4', 'wy_5',\n",
      "       'h_0', 'h_1', 'h_2', 'h_3', 'h_4'],\n",
      "      dtype='object')\n"
     ]
    },
    {
     "data": {
      "text/html": [
       "<div>\n",
       "<style scoped>\n",
       "    .dataframe tbody tr th:only-of-type {\n",
       "        vertical-align: middle;\n",
       "    }\n",
       "\n",
       "    .dataframe tbody tr th {\n",
       "        vertical-align: top;\n",
       "    }\n",
       "\n",
       "    .dataframe thead th {\n",
       "        text-align: right;\n",
       "    }\n",
       "</style>\n",
       "<table border=\"1\" class=\"dataframe\">\n",
       "  <thead>\n",
       "    <tr style=\"text-align: right;\">\n",
       "      <th></th>\n",
       "      <th>마더코드</th>\n",
       "      <th>상품코드</th>\n",
       "      <th>상품군</th>\n",
       "      <th>week</th>\n",
       "      <th>hour</th>\n",
       "      <th>weekofyear</th>\n",
       "      <th>stage</th>\n",
       "      <th>prime</th>\n",
       "      <th>IsHoliday</th>\n",
       "      <th>노출(분)</th>\n",
       "      <th>...</th>\n",
       "      <th>wy_1</th>\n",
       "      <th>wy_2</th>\n",
       "      <th>wy_3</th>\n",
       "      <th>wy_4</th>\n",
       "      <th>wy_5</th>\n",
       "      <th>h_0</th>\n",
       "      <th>h_1</th>\n",
       "      <th>h_2</th>\n",
       "      <th>h_3</th>\n",
       "      <th>h_4</th>\n",
       "    </tr>\n",
       "  </thead>\n",
       "  <tbody>\n",
       "    <tr>\n",
       "      <th>0</th>\n",
       "      <td>296</td>\n",
       "      <td>891</td>\n",
       "      <td>6</td>\n",
       "      <td>1</td>\n",
       "      <td>6</td>\n",
       "      <td>0</td>\n",
       "      <td>0</td>\n",
       "      <td>0</td>\n",
       "      <td>1.0</td>\n",
       "      <td>20.0</td>\n",
       "      <td>...</td>\n",
       "      <td>0</td>\n",
       "      <td>0</td>\n",
       "      <td>0</td>\n",
       "      <td>0</td>\n",
       "      <td>0</td>\n",
       "      <td>0</td>\n",
       "      <td>0</td>\n",
       "      <td>1</td>\n",
       "      <td>1</td>\n",
       "      <td>0</td>\n",
       "    </tr>\n",
       "    <tr>\n",
       "      <th>1</th>\n",
       "      <td>296</td>\n",
       "      <td>891</td>\n",
       "      <td>6</td>\n",
       "      <td>1</td>\n",
       "      <td>6</td>\n",
       "      <td>0</td>\n",
       "      <td>2</td>\n",
       "      <td>0</td>\n",
       "      <td>1.0</td>\n",
       "      <td>20.0</td>\n",
       "      <td>...</td>\n",
       "      <td>0</td>\n",
       "      <td>0</td>\n",
       "      <td>0</td>\n",
       "      <td>0</td>\n",
       "      <td>0</td>\n",
       "      <td>0</td>\n",
       "      <td>0</td>\n",
       "      <td>1</td>\n",
       "      <td>1</td>\n",
       "      <td>0</td>\n",
       "    </tr>\n",
       "  </tbody>\n",
       "</table>\n",
       "<p>2 rows × 59 columns</p>\n",
       "</div>"
      ],
      "text/plain": [
       "   마더코드  상품코드  상품군  week  hour  weekofyear  stage  prime  IsHoliday  노출(분)  \\\n",
       "0   296   891    6     1     6           0      0      0        1.0   20.0   \n",
       "1   296   891    6     1     6           0      2      0        1.0   20.0   \n",
       "\n",
       "   ...  wy_1  wy_2  wy_3  wy_4  wy_5  h_0  h_1  h_2  h_3  h_4  \n",
       "0  ...     0     0     0     0     0    0    0    1    1    0  \n",
       "1  ...     0     0     0     0     0    0    0    1    1    0  \n",
       "\n",
       "[2 rows x 59 columns]"
      ]
     },
     "execution_count": 8,
     "metadata": {},
     "output_type": "execute_result"
    }
   ],
   "source": [
    "# 마더코드\n",
    "final = stat_data.copy()\n",
    "final[['m_'+str(i) for i in range(10)]] = final['마더코드'].apply(lambda x: binary_encoding('마더코드', x)).to_list()\n",
    "\n",
    "# 상품코드\n",
    "final[['p_'+str(i) for i in range(11)]] = final['상품코드'].apply(lambda x: binary_encoding('상품코드', x)).to_list()\n",
    "\n",
    "# 상품군\n",
    "final[['g_'+str(i) for i in range(4)]] = final['상품군'].apply(lambda x: binary_encoding('상품군', x)).to_list()\n",
    "\n",
    "# week\n",
    "final[['wd_'+str(i) for i in range(3)]] = final['week'].apply(lambda x: binary_encoding('week', x)).to_list()\n",
    "\n",
    "# weekofyear\n",
    "final[['wy_'+str(i) for i in range(6)]] = final['weekofyear'].apply(lambda x: binary_encoding('weekofyear', x)).to_list()\n",
    "\n",
    "# hour\n",
    "final[['h_'+str(i) for i in range(5)]] = final['hour'].apply(lambda x: binary_encoding('hour', x)).to_list()\n",
    "\n",
    "print(final.columns)\n",
    "final.head(2)"
   ]
  },
  {
   "cell_type": "code",
   "execution_count": 9,
   "metadata": {},
   "outputs": [],
   "source": [
    "from sklearn.model_selection import train_test_split"
   ]
  },
  {
   "cell_type": "code",
   "execution_count": 95,
   "metadata": {},
   "outputs": [
    {
     "name": "stdout",
     "output_type": "stream",
     "text": [
      "(31841, 57)\n",
      "(31841,)\n",
      "(3538, 57)\n",
      "(3538,)\n"
     ]
    }
   ],
   "source": [
    "X_stat = final.drop(['취급액', 'profit/m'], axis = 1)\n",
    "Y_stat = final['취급액']\n",
    "\n",
    "x_stat_train, x_stat_valid, y_stat_train, y_stat_valid = train_test_split(X_stat, Y_stat,\n",
    "                                                                         test_size = 0.1,\n",
    "                                                                         random_state = 123457)\n",
    "print(x_stat_train.shape)\n",
    "print(y_stat_train.shape)\n",
    "print(x_stat_valid.shape)\n",
    "print(y_stat_valid.shape)"
   ]
  },
  {
   "cell_type": "code",
   "execution_count": 96,
   "metadata": {},
   "outputs": [],
   "source": [
    "## Data filtering\n",
    "def filtering(train, test):\n",
    "    final = []\n",
    "    revised = 0\n",
    "    \n",
    "    # 바꾸지 않을 컬럼 명\n",
    "    rem_cols = ['week', 'hour', 'weekofyear', 'TEMP', 'HUM', 'cpi']\n",
    "    idxs = []\n",
    "    test = test.reset_index(drop=True)\n",
    "    \n",
    "    # 학습데이터 카테고리 필터링\n",
    "    train_p = train['상품코드'].unique()\n",
    "    train_m = train['마더코드'].unique()\n",
    "    train_g = train['상품군'].unique()\n",
    "    \n",
    "    for i in tqdm(range(len(test))):\n",
    "        # 상품코드가 x_train의 인코더 속에 존재하는가.(데이터 존재 여부 확인)\n",
    "        if test['상품코드'].iloc[i] in train_p:\n",
    "            final.append(test.iloc[i].values)\n",
    "        else:\n",
    "            # 마더코드가 x_train안에 있는가\n",
    "            if test['마더코드'].iloc[i] in train_m:\n",
    "                temp = train.loc[train['마더코드'].values == np.where(train_m == test['마더코드'].iloc[i])[0]]\n",
    "                # 판매단가 차가 최소인 row 추가\n",
    "                temp['sub'] = abs(temp['판매단가'] - test['판매단가'].iloc[i])\n",
    "                final.append(train.loc[temp['sub'].idxmin()].values)\n",
    "                idxs.append(i)\n",
    "                revised+=1\n",
    "                print(\"revision_count : \", revised)\n",
    "            else:\n",
    "                # 상품군 확인\n",
    "                if test['상품군'].iloc[i] in train_g:\n",
    "                    temp = train.loc[train['상품군'].values == np.where(train_g == test['상품군'].iloc[i])[0]]\n",
    "                    # 판매단가 차가 최소인 row 추가\n",
    "                    temp['sub'] = abs(temp['판매단가'] - test['판매단가'].iloc[i])\n",
    "                    final.append(train.loc[temp['sub'].idxmin()].values)\n",
    "                    idxs.append(i)\n",
    "                    revised+=1\n",
    "                    print(\"revision_count : \", revised)\n",
    "    out = pd.DataFrame(final, columns = test.columns, index = test.index)\n",
    "    print(out.index)\n",
    "    print(idxs)\n",
    "    out[rem_cols].loc[idxs] = out[rem_cols].update(test[rem_cols].loc[idxs])\n",
    "    return out"
   ]
  },
  {
   "cell_type": "code",
   "execution_count": 97,
   "metadata": {
    "scrolled": false
   },
   "outputs": [
    {
     "data": {
      "application/vnd.jupyter.widget-view+json": {
       "model_id": "6801307279e44f5196a0e59f419442a1",
       "version_major": 2,
       "version_minor": 0
      },
      "text/plain": [
       "HBox(children=(FloatProgress(value=0.0, max=3538.0), HTML(value='')))"
      ]
     },
     "metadata": {},
     "output_type": "display_data"
    },
    {
     "name": "stderr",
     "output_type": "stream",
     "text": [
      "/usr/local/lib/python3.6/dist-packages/ipykernel_launcher.py:25: SettingWithCopyWarning: \n",
      "A value is trying to be set on a copy of a slice from a DataFrame.\n",
      "Try using .loc[row_indexer,col_indexer] = value instead\n",
      "\n",
      "See the caveats in the documentation: https://pandas.pydata.org/pandas-docs/stable/user_guide/indexing.html#returning-a-view-versus-a-copy\n"
     ]
    },
    {
     "name": "stdout",
     "output_type": "stream",
     "text": [
      "revision_count :  1\n",
      "revision_count :  2\n",
      "revision_count :  3\n",
      "revision_count :  4\n",
      "revision_count :  5\n",
      "revision_count :  6\n",
      "\n",
      "RangeIndex(start=0, stop=3538, step=1)\n",
      "[1121, 1125, 2248, 2419, 2747, 3180]\n"
     ]
    },
    {
     "name": "stderr",
     "output_type": "stream",
     "text": [
      "/home/yeeunlee/.local/lib/python3.6/site-packages/pandas/core/frame.py:6390: SettingWithCopyWarning: \n",
      "A value is trying to be set on a copy of a slice from a DataFrame.\n",
      "Try using .loc[row_indexer,col_indexer] = value instead\n",
      "\n",
      "See the caveats in the documentation: https://pandas.pydata.org/pandas-docs/stable/user_guide/indexing.html#returning-a-view-versus-a-copy\n",
      "  self[col] = expressions.where(mask, this, that)\n",
      "/home/yeeunlee/.local/lib/python3.6/site-packages/pandas/core/indexing.py:1765: SettingWithCopyWarning: \n",
      "A value is trying to be set on a copy of a slice from a DataFrame.\n",
      "Try using .loc[row_indexer,col_indexer] = value instead\n",
      "\n",
      "See the caveats in the documentation: https://pandas.pydata.org/pandas-docs/stable/user_guide/indexing.html#returning-a-view-versus-a-copy\n",
      "  isetter(loc, value)\n"
     ]
    }
   ],
   "source": [
    "filtered = filtering(x_stat_train, x_stat_valid)"
   ]
  },
  {
   "cell_type": "code",
   "execution_count": 85,
   "metadata": {},
   "outputs": [
    {
     "data": {
      "text/html": [
       "<div>\n",
       "<style scoped>\n",
       "    .dataframe tbody tr th:only-of-type {\n",
       "        vertical-align: middle;\n",
       "    }\n",
       "\n",
       "    .dataframe tbody tr th {\n",
       "        vertical-align: top;\n",
       "    }\n",
       "\n",
       "    .dataframe thead th {\n",
       "        text-align: right;\n",
       "    }\n",
       "</style>\n",
       "<table border=\"1\" class=\"dataframe\">\n",
       "  <thead>\n",
       "    <tr style=\"text-align: right;\">\n",
       "      <th></th>\n",
       "      <th>마더코드</th>\n",
       "      <th>상품코드</th>\n",
       "      <th>상품군</th>\n",
       "      <th>week</th>\n",
       "      <th>hour</th>\n",
       "      <th>weekofyear</th>\n",
       "      <th>stage</th>\n",
       "      <th>prime</th>\n",
       "      <th>IsHoliday</th>\n",
       "      <th>노출(분)</th>\n",
       "      <th>...</th>\n",
       "      <th>wy_1</th>\n",
       "      <th>wy_2</th>\n",
       "      <th>wy_3</th>\n",
       "      <th>wy_4</th>\n",
       "      <th>wy_5</th>\n",
       "      <th>h_0</th>\n",
       "      <th>h_1</th>\n",
       "      <th>h_2</th>\n",
       "      <th>h_3</th>\n",
       "      <th>h_4</th>\n",
       "    </tr>\n",
       "  </thead>\n",
       "  <tbody>\n",
       "    <tr>\n",
       "      <th>0</th>\n",
       "      <td>250.0</td>\n",
       "      <td>786.0</td>\n",
       "      <td>8.0</td>\n",
       "      <td>5.0</td>\n",
       "      <td>23.0</td>\n",
       "      <td>22.0</td>\n",
       "      <td>1.0</td>\n",
       "      <td>0.0</td>\n",
       "      <td>1.0</td>\n",
       "      <td>20.0</td>\n",
       "      <td>...</td>\n",
       "      <td>1.0</td>\n",
       "      <td>0.0</td>\n",
       "      <td>1.0</td>\n",
       "      <td>1.0</td>\n",
       "      <td>0.0</td>\n",
       "      <td>1.0</td>\n",
       "      <td>0.0</td>\n",
       "      <td>1.0</td>\n",
       "      <td>1.0</td>\n",
       "      <td>1.0</td>\n",
       "    </tr>\n",
       "    <tr>\n",
       "      <th>1</th>\n",
       "      <td>137.0</td>\n",
       "      <td>464.0</td>\n",
       "      <td>3.0</td>\n",
       "      <td>3.0</td>\n",
       "      <td>17.0</td>\n",
       "      <td>28.0</td>\n",
       "      <td>1.0</td>\n",
       "      <td>0.0</td>\n",
       "      <td>0.0</td>\n",
       "      <td>20.0</td>\n",
       "      <td>...</td>\n",
       "      <td>1.0</td>\n",
       "      <td>1.0</td>\n",
       "      <td>1.0</td>\n",
       "      <td>0.0</td>\n",
       "      <td>0.0</td>\n",
       "      <td>1.0</td>\n",
       "      <td>0.0</td>\n",
       "      <td>0.0</td>\n",
       "      <td>0.0</td>\n",
       "      <td>1.0</td>\n",
       "    </tr>\n",
       "    <tr>\n",
       "      <th>2</th>\n",
       "      <td>293.0</td>\n",
       "      <td>882.0</td>\n",
       "      <td>6.0</td>\n",
       "      <td>3.0</td>\n",
       "      <td>1.0</td>\n",
       "      <td>18.0</td>\n",
       "      <td>1.0</td>\n",
       "      <td>0.0</td>\n",
       "      <td>0.0</td>\n",
       "      <td>13.0</td>\n",
       "      <td>...</td>\n",
       "      <td>1.0</td>\n",
       "      <td>0.0</td>\n",
       "      <td>0.0</td>\n",
       "      <td>1.0</td>\n",
       "      <td>0.0</td>\n",
       "      <td>0.0</td>\n",
       "      <td>0.0</td>\n",
       "      <td>0.0</td>\n",
       "      <td>0.0</td>\n",
       "      <td>1.0</td>\n",
       "    </tr>\n",
       "    <tr>\n",
       "      <th>3</th>\n",
       "      <td>233.0</td>\n",
       "      <td>744.0</td>\n",
       "      <td>5.0</td>\n",
       "      <td>1.0</td>\n",
       "      <td>6.0</td>\n",
       "      <td>24.0</td>\n",
       "      <td>0.0</td>\n",
       "      <td>0.0</td>\n",
       "      <td>0.0</td>\n",
       "      <td>20.0</td>\n",
       "      <td>...</td>\n",
       "      <td>1.0</td>\n",
       "      <td>1.0</td>\n",
       "      <td>0.0</td>\n",
       "      <td>0.0</td>\n",
       "      <td>0.0</td>\n",
       "      <td>0.0</td>\n",
       "      <td>0.0</td>\n",
       "      <td>1.0</td>\n",
       "      <td>1.0</td>\n",
       "      <td>0.0</td>\n",
       "    </tr>\n",
       "    <tr>\n",
       "      <th>4</th>\n",
       "      <td>30.0</td>\n",
       "      <td>73.0</td>\n",
       "      <td>8.0</td>\n",
       "      <td>5.0</td>\n",
       "      <td>8.0</td>\n",
       "      <td>9.0</td>\n",
       "      <td>2.0</td>\n",
       "      <td>1.0</td>\n",
       "      <td>1.0</td>\n",
       "      <td>20.0</td>\n",
       "      <td>...</td>\n",
       "      <td>0.0</td>\n",
       "      <td>1.0</td>\n",
       "      <td>0.0</td>\n",
       "      <td>0.0</td>\n",
       "      <td>1.0</td>\n",
       "      <td>0.0</td>\n",
       "      <td>1.0</td>\n",
       "      <td>0.0</td>\n",
       "      <td>0.0</td>\n",
       "      <td>0.0</td>\n",
       "    </tr>\n",
       "  </tbody>\n",
       "</table>\n",
       "<p>5 rows × 57 columns</p>\n",
       "</div>"
      ],
      "text/plain": [
       "    마더코드   상품코드  상품군  week  hour  weekofyear  stage  prime  IsHoliday  노출(분)  \\\n",
       "0  250.0  786.0  8.0   5.0  23.0        22.0    1.0    0.0        1.0   20.0   \n",
       "1  137.0  464.0  3.0   3.0  17.0        28.0    1.0    0.0        0.0   20.0   \n",
       "2  293.0  882.0  6.0   3.0   1.0        18.0    1.0    0.0        0.0   13.0   \n",
       "3  233.0  744.0  5.0   1.0   6.0        24.0    0.0    0.0        0.0   20.0   \n",
       "4   30.0   73.0  8.0   5.0   8.0         9.0    2.0    1.0        1.0   20.0   \n",
       "\n",
       "   ...  wy_1  wy_2  wy_3  wy_4  wy_5  h_0  h_1  h_2  h_3  h_4  \n",
       "0  ...   1.0   0.0   1.0   1.0   0.0  1.0  0.0  1.0  1.0  1.0  \n",
       "1  ...   1.0   1.0   1.0   0.0   0.0  1.0  0.0  0.0  0.0  1.0  \n",
       "2  ...   1.0   0.0   0.0   1.0   0.0  0.0  0.0  0.0  0.0  1.0  \n",
       "3  ...   1.0   1.0   0.0   0.0   0.0  0.0  0.0  1.0  1.0  0.0  \n",
       "4  ...   0.0   1.0   0.0   0.0   1.0  0.0  1.0  0.0  0.0  0.0  \n",
       "\n",
       "[5 rows x 57 columns]"
      ]
     },
     "execution_count": 85,
     "metadata": {},
     "output_type": "execute_result"
    }
   ],
   "source": [
    "filtered.head()"
   ]
  },
  {
   "cell_type": "code",
   "execution_count": 98,
   "metadata": {},
   "outputs": [],
   "source": [
    "x_stat_train = x_stat_train.drop(['마더코드', '상품코드', '상품군', 'week', 'hour',\n",
    "                                  'stage', 'prime', 'IsHoliday'], axis = 1)\n",
    "filtered = filtered.drop(['마더코드', '상품코드', '상품군', 'week', 'hour',\n",
    "                          'stage', 'prime', 'IsHoliday'], axis = 1)"
   ]
  },
  {
   "cell_type": "code",
   "execution_count": 87,
   "metadata": {},
   "outputs": [],
   "source": [
    "x_stat_train = x_stat_train.values.reshape(-1, x_stat_train.shape[1], 1)\n",
    "filtered = filtered.values.reshape(-1, filtered.shape[1], 1)"
   ]
  },
  {
   "cell_type": "code",
   "execution_count": 88,
   "metadata": {},
   "outputs": [
    {
     "name": "stdout",
     "output_type": "stream",
     "text": [
      "(31841,)\n",
      "(3538,)\n"
     ]
    }
   ],
   "source": [
    "print(y_stat_train.shape)\n",
    "print(y_stat_valid.shape)"
   ]
  },
  {
   "cell_type": "markdown",
   "metadata": {},
   "source": [
    "## Deep Regression"
   ]
  },
  {
   "cell_type": "code",
   "execution_count": 89,
   "metadata": {},
   "outputs": [
    {
     "data": {
      "text/plain": [
       "'2.0.0-alpha0'"
      ]
     },
     "execution_count": 89,
     "metadata": {},
     "output_type": "execute_result"
    }
   ],
   "source": [
    "from tensorflow.keras.layers import Dense, Dropout\n",
    "from tensorflow.keras.layers import Conv1D, MaxPool1D, Flatten\n",
    "from tensorflow.keras.models import Sequential, Model\n",
    "from tensorflow.keras.optimizers import RMSprop\n",
    "from tensorflow.keras.regularizers import l2\n",
    "from tensorflow.keras.callbacks import ReduceLROnPlateau\n",
    "import tensorflow as tf\n",
    "tf.__version__"
   ]
  },
  {
   "cell_type": "code",
   "execution_count": 90,
   "metadata": {},
   "outputs": [],
   "source": [
    "learning_rate_reduction = ReduceLROnPlateau(monitor='val_loss', \n",
    "                                            patience=3, \n",
    "                                            verbose=1,\n",
    "                                            factor=0.1, \n",
    "                                            min_lr=0.000001)"
   ]
  },
  {
   "cell_type": "code",
   "execution_count": 91,
   "metadata": {},
   "outputs": [
    {
     "name": "stdout",
     "output_type": "stream",
     "text": [
      "Model: \"sequential\"\n",
      "_________________________________________________________________\n",
      "Layer (type)                 Output Shape              Param #   \n",
      "=================================================================\n",
      "dense (Dense)                (None, 200)               10000     \n",
      "_________________________________________________________________\n",
      "dense_1 (Dense)              (None, 49)                9849      \n",
      "_________________________________________________________________\n",
      "dense_2 (Dense)              (None, 20)                1000      \n",
      "_________________________________________________________________\n",
      "dense_3 (Dense)              (None, 1)                 21        \n",
      "=================================================================\n",
      "Total params: 20,870\n",
      "Trainable params: 20,870\n",
      "Non-trainable params: 0\n",
      "_________________________________________________________________\n"
     ]
    }
   ],
   "source": [
    "tf.keras.backend.clear_session()\n",
    "dnn = Sequential()\n",
    "dnn.add(Dense(200, input_shape = (x_stat_train.shape[1], ), kernel_initializer = 'normal',\n",
    "              kernel_regularizer = l2(0.001), activation = 'relu'))\n",
    "dnn.add(Dense(49, kernel_initializer = 'normal', \n",
    "              kernel_regularizer = l2(0.001), activation = 'relu'))\n",
    "dnn.add(Dense(20, kernel_initializer = 'normal', \n",
    "              kernel_regularizer = l2(0.001), activation = 'relu'))\n",
    "dnn.add(Dense(1, activation = 'linear'))\n",
    "\n",
    "dnn.compile(optimizer = RMSprop(lr=0.1),\n",
    "           loss = 'mean_absolute_percentage_error')\n",
    "dnn.summary()"
   ]
  },
  {
   "cell_type": "code",
   "execution_count": 92,
   "metadata": {},
   "outputs": [
    {
     "data": {
      "text/plain": [
       "(3538, 49, 1)"
      ]
     },
     "execution_count": 92,
     "metadata": {},
     "output_type": "execute_result"
    }
   ],
   "source": [
    "filtered.shape"
   ]
  },
  {
   "cell_type": "code",
   "execution_count": null,
   "metadata": {},
   "outputs": [],
   "source": [
    "tf.keras.backend.clear_session()\n",
    "cnn = Sequential()\n",
    "cnn.add(Conv1D(filters = 128, input_shape = (x_stat_train.shape[1], 1),\n",
    "               kernel_size = 2, activation = 'relu',\n",
    "               kernel_initializer = 'normal', kernel_regularizer = l2(0.001)))\n",
    "cnn.add(MaxPool1D(pool_size = 1))\n",
    "cnn.add(Dense(49, activation = 'relu'))\n",
    "cnn.add(Flatten())\n",
    "cnn.add(Dense(1))\n",
    "\n",
    "cnn.compile(optimizer = 'adam',\n",
    "           loss = 'mean_absolute_percentage_error')\n",
    "cnn.summary()"
   ]
  },
  {
   "cell_type": "code",
   "execution_count": 99,
   "metadata": {},
   "outputs": [
    {
     "name": "stdout",
     "output_type": "stream",
     "text": [
      "Train on 31841 samples, validate on 3538 samples\n",
      "Epoch 1/200\n",
      "31841/31841 [==============================] - 1s 43us/sample - loss: 75.2835 - val_loss: 125.1227\n",
      "Epoch 2/200\n",
      "31841/31841 [==============================] - 1s 39us/sample - loss: 60.1347 - val_loss: 97.8242\n",
      "Epoch 3/200\n",
      "31841/31841 [==============================] - 1s 35us/sample - loss: 55.0974 - val_loss: 133.3218\n",
      "Epoch 4/200\n",
      "31841/31841 [==============================] - 1s 37us/sample - loss: 56.0314 - val_loss: 47.8776\n",
      "Epoch 5/200\n",
      "31841/31841 [==============================] - 1s 38us/sample - loss: 54.5911 - val_loss: 58.3761\n",
      "Epoch 6/200\n",
      "31841/31841 [==============================] - 1s 40us/sample - loss: 54.2992 - val_loss: 89.4885\n",
      "Epoch 7/200\n",
      "31776/31841 [============================>.] - ETA: 0s - loss: 56.0621\n",
      "Epoch 00007: ReduceLROnPlateau reducing learning rate to 0.010000000149011612.\n",
      "31841/31841 [==============================] - 1s 36us/sample - loss: 56.0978 - val_loss: 79.2125\n",
      "Epoch 8/200\n",
      "31841/31841 [==============================] - 1s 39us/sample - loss: 46.6873 - val_loss: 49.5431\n",
      "Epoch 9/200\n",
      "31841/31841 [==============================] - 1s 41us/sample - loss: 46.2355 - val_loss: 46.7452\n",
      "Epoch 10/200\n",
      "31841/31841 [==============================] - 1s 38us/sample - loss: 46.1569 - val_loss: 47.7114\n",
      "Epoch 11/200\n",
      "31841/31841 [==============================] - 1s 37us/sample - loss: 46.1308 - val_loss: 46.6373\n",
      "Epoch 12/200\n",
      "31841/31841 [==============================] - 1s 43us/sample - loss: 46.0975 - val_loss: 48.4437\n",
      "Epoch 13/200\n",
      "31841/31841 [==============================] - 1s 44us/sample - loss: 46.1068 - val_loss: 48.4284\n",
      "Epoch 14/200\n",
      "30528/31841 [===========================>..] - ETA: 0s - loss: 46.0692\n",
      "Epoch 00014: ReduceLROnPlateau reducing learning rate to 0.0009999999776482583.\n",
      "31841/31841 [==============================] - 1s 38us/sample - loss: 46.1082 - val_loss: 47.8267\n",
      "Epoch 15/200\n",
      "31841/31841 [==============================] - 1s 40us/sample - loss: 45.8265 - val_loss: 46.2803\n",
      "Epoch 16/200\n",
      "31841/31841 [==============================] - 1s 38us/sample - loss: 45.7685 - val_loss: 46.2811\n",
      "Epoch 17/200\n",
      "31841/31841 [==============================] - 1s 45us/sample - loss: 45.7631 - val_loss: 46.3874\n",
      "Epoch 18/200\n",
      "31841/31841 [==============================] - 1s 47us/sample - loss: 45.7528 - val_loss: 46.2068\n",
      "Epoch 19/200\n",
      "31841/31841 [==============================] - 2s 48us/sample - loss: 45.7685 - val_loss: 46.1978\n",
      "Epoch 20/200\n",
      "31841/31841 [==============================] - 1s 39us/sample - loss: 45.7666 - val_loss: 46.2108\n",
      "Epoch 21/200\n",
      "31841/31841 [==============================] - 1s 38us/sample - loss: 45.7528 - val_loss: 46.2029\n",
      "Epoch 22/200\n",
      "30912/31841 [============================>.] - ETA: 0s - loss: 45.8267\n",
      "Epoch 00022: ReduceLROnPlateau reducing learning rate to 9.999999310821295e-05.\n",
      "31841/31841 [==============================] - 1s 44us/sample - loss: 45.7619 - val_loss: 46.2700\n",
      "Epoch 23/200\n",
      "31841/31841 [==============================] - 2s 51us/sample - loss: 45.7363 - val_loss: 46.2207\n",
      "Epoch 24/200\n",
      "29760/31841 [===========================>..] - ETA: 0s - loss: 45.6614"
     ]
    },
    {
     "ename": "KeyboardInterrupt",
     "evalue": "",
     "output_type": "error",
     "traceback": [
      "\u001b[0;31m---------------------------------------------------------------------------\u001b[0m",
      "\u001b[0;31mKeyboardInterrupt\u001b[0m                         Traceback (most recent call last)",
      "\u001b[0;32m<ipython-input-99-164ac157dbad>\u001b[0m in \u001b[0;36m<module>\u001b[0;34m\u001b[0m\n\u001b[1;32m      2\u001b[0m                \u001b[0mvalidation_data\u001b[0m \u001b[0;34m=\u001b[0m \u001b[0;34m(\u001b[0m\u001b[0mfiltered\u001b[0m\u001b[0;34m,\u001b[0m \u001b[0my_stat_valid\u001b[0m\u001b[0;34m)\u001b[0m\u001b[0;34m,\u001b[0m\u001b[0;34m\u001b[0m\u001b[0;34m\u001b[0m\u001b[0m\n\u001b[1;32m      3\u001b[0m               \u001b[0mepochs\u001b[0m \u001b[0;34m=\u001b[0m \u001b[0;36m200\u001b[0m\u001b[0;34m,\u001b[0m \u001b[0mverbose\u001b[0m \u001b[0;34m=\u001b[0m \u001b[0;36m1\u001b[0m\u001b[0;34m,\u001b[0m\u001b[0;34m\u001b[0m\u001b[0;34m\u001b[0m\u001b[0m\n\u001b[0;32m----> 4\u001b[0;31m               callbacks = [learning_rate_reduction])\n\u001b[0m",
      "\u001b[0;32m/usr/local/lib/python3.6/dist-packages/tensorflow/python/keras/engine/training.py\u001b[0m in \u001b[0;36mfit\u001b[0;34m(self, x, y, batch_size, epochs, verbose, callbacks, validation_split, validation_data, shuffle, class_weight, sample_weight, initial_epoch, steps_per_epoch, validation_steps, validation_freq, max_queue_size, workers, use_multiprocessing, **kwargs)\u001b[0m\n\u001b[1;32m    871\u001b[0m           \u001b[0mvalidation_steps\u001b[0m\u001b[0;34m=\u001b[0m\u001b[0mvalidation_steps\u001b[0m\u001b[0;34m,\u001b[0m\u001b[0;34m\u001b[0m\u001b[0;34m\u001b[0m\u001b[0m\n\u001b[1;32m    872\u001b[0m           \u001b[0mvalidation_freq\u001b[0m\u001b[0;34m=\u001b[0m\u001b[0mvalidation_freq\u001b[0m\u001b[0;34m,\u001b[0m\u001b[0;34m\u001b[0m\u001b[0;34m\u001b[0m\u001b[0m\n\u001b[0;32m--> 873\u001b[0;31m           steps_name='steps_per_epoch')\n\u001b[0m\u001b[1;32m    874\u001b[0m \u001b[0;34m\u001b[0m\u001b[0m\n\u001b[1;32m    875\u001b[0m   def evaluate(self,\n",
      "\u001b[0;32m/usr/local/lib/python3.6/dist-packages/tensorflow/python/keras/engine/training_arrays.py\u001b[0m in \u001b[0;36mmodel_iteration\u001b[0;34m(model, inputs, targets, sample_weights, batch_size, epochs, verbose, callbacks, val_inputs, val_targets, val_sample_weights, shuffle, initial_epoch, steps_per_epoch, validation_steps, validation_freq, mode, validation_in_fit, prepared_feed_values_from_dataset, steps_name, **kwargs)\u001b[0m\n\u001b[1;32m    360\u001b[0m \u001b[0;34m\u001b[0m\u001b[0m\n\u001b[1;32m    361\u001b[0m         \u001b[0;31m# Callbacks batch end.\u001b[0m\u001b[0;34m\u001b[0m\u001b[0;34m\u001b[0m\u001b[0;34m\u001b[0m\u001b[0m\n\u001b[0;32m--> 362\u001b[0;31m         \u001b[0mbatch_logs\u001b[0m \u001b[0;34m=\u001b[0m \u001b[0mcbks\u001b[0m\u001b[0;34m.\u001b[0m\u001b[0mmake_logs\u001b[0m\u001b[0;34m(\u001b[0m\u001b[0mmodel\u001b[0m\u001b[0;34m,\u001b[0m \u001b[0mbatch_logs\u001b[0m\u001b[0;34m,\u001b[0m \u001b[0mbatch_outs\u001b[0m\u001b[0;34m,\u001b[0m \u001b[0mmode\u001b[0m\u001b[0;34m)\u001b[0m\u001b[0;34m\u001b[0m\u001b[0;34m\u001b[0m\u001b[0m\n\u001b[0m\u001b[1;32m    363\u001b[0m         \u001b[0mcallbacks\u001b[0m\u001b[0;34m.\u001b[0m\u001b[0m_call_batch_hook\u001b[0m\u001b[0;34m(\u001b[0m\u001b[0mmode\u001b[0m\u001b[0;34m,\u001b[0m \u001b[0;34m'end'\u001b[0m\u001b[0;34m,\u001b[0m \u001b[0mbatch_index\u001b[0m\u001b[0;34m,\u001b[0m \u001b[0mbatch_logs\u001b[0m\u001b[0;34m)\u001b[0m\u001b[0;34m\u001b[0m\u001b[0;34m\u001b[0m\u001b[0m\n\u001b[1;32m    364\u001b[0m         \u001b[0mprogbar\u001b[0m\u001b[0;34m.\u001b[0m\u001b[0mon_batch_end\u001b[0m\u001b[0;34m(\u001b[0m\u001b[0mbatch_index\u001b[0m\u001b[0;34m,\u001b[0m \u001b[0mbatch_logs\u001b[0m\u001b[0;34m)\u001b[0m\u001b[0;34m\u001b[0m\u001b[0;34m\u001b[0m\u001b[0m\n",
      "\u001b[0;32m/usr/local/lib/python3.6/dist-packages/tensorflow/python/keras/callbacks.py\u001b[0m in \u001b[0;36mmake_logs\u001b[0;34m(model, logs, outputs, mode, prefix)\u001b[0m\n\u001b[1;32m    168\u001b[0m   \u001b[0;32mif\u001b[0m \u001b[0mmode\u001b[0m \u001b[0;32min\u001b[0m \u001b[0;34m{\u001b[0m\u001b[0mModeKeys\u001b[0m\u001b[0;34m.\u001b[0m\u001b[0mTRAIN\u001b[0m\u001b[0;34m,\u001b[0m \u001b[0mModeKeys\u001b[0m\u001b[0;34m.\u001b[0m\u001b[0mTEST\u001b[0m\u001b[0;34m}\u001b[0m\u001b[0;34m:\u001b[0m\u001b[0;34m\u001b[0m\u001b[0;34m\u001b[0m\u001b[0m\n\u001b[1;32m    169\u001b[0m     \u001b[0;32mif\u001b[0m \u001b[0mhasattr\u001b[0m\u001b[0;34m(\u001b[0m\u001b[0mmodel\u001b[0m\u001b[0;34m,\u001b[0m \u001b[0;34m'metrics_names'\u001b[0m\u001b[0;34m)\u001b[0m\u001b[0;34m:\u001b[0m\u001b[0;34m\u001b[0m\u001b[0;34m\u001b[0m\u001b[0m\n\u001b[0;32m--> 170\u001b[0;31m       \u001b[0;32mfor\u001b[0m \u001b[0mlabel\u001b[0m\u001b[0;34m,\u001b[0m \u001b[0moutput\u001b[0m \u001b[0;32min\u001b[0m \u001b[0mzip\u001b[0m\u001b[0;34m(\u001b[0m\u001b[0mmodel\u001b[0m\u001b[0;34m.\u001b[0m\u001b[0mmetrics_names\u001b[0m\u001b[0;34m,\u001b[0m \u001b[0moutputs\u001b[0m\u001b[0;34m)\u001b[0m\u001b[0;34m:\u001b[0m\u001b[0;34m\u001b[0m\u001b[0;34m\u001b[0m\u001b[0m\n\u001b[0m\u001b[1;32m    171\u001b[0m         \u001b[0mlogs\u001b[0m\u001b[0;34m[\u001b[0m\u001b[0mprefix\u001b[0m \u001b[0;34m+\u001b[0m \u001b[0mlabel\u001b[0m\u001b[0;34m]\u001b[0m \u001b[0;34m=\u001b[0m \u001b[0moutput\u001b[0m\u001b[0;34m\u001b[0m\u001b[0;34m\u001b[0m\u001b[0m\n\u001b[1;32m    172\u001b[0m   \u001b[0;32melse\u001b[0m\u001b[0;34m:\u001b[0m\u001b[0;34m\u001b[0m\u001b[0;34m\u001b[0m\u001b[0m\n",
      "\u001b[0;32m/usr/local/lib/python3.6/dist-packages/tensorflow/python/keras/engine/training.py\u001b[0m in \u001b[0;36mmetrics_names\u001b[0;34m(self)\u001b[0m\n\u001b[1;32m    477\u001b[0m \u001b[0;34m\u001b[0m\u001b[0m\n\u001b[1;32m    478\u001b[0m     \u001b[0;31m# Add metric names from layers.\u001b[0m\u001b[0;34m\u001b[0m\u001b[0;34m\u001b[0m\u001b[0;34m\u001b[0m\u001b[0m\n\u001b[0;32m--> 479\u001b[0;31m     \u001b[0;32mfor\u001b[0m \u001b[0mlayer\u001b[0m \u001b[0;32min\u001b[0m \u001b[0mself\u001b[0m\u001b[0;34m.\u001b[0m\u001b[0mlayers\u001b[0m\u001b[0;34m:\u001b[0m\u001b[0;34m\u001b[0m\u001b[0;34m\u001b[0m\u001b[0m\n\u001b[0m\u001b[1;32m    480\u001b[0m       \u001b[0mmetrics_names\u001b[0m \u001b[0;34m+=\u001b[0m \u001b[0;34m[\u001b[0m\u001b[0mm\u001b[0m\u001b[0;34m.\u001b[0m\u001b[0mname\u001b[0m \u001b[0;32mfor\u001b[0m \u001b[0mm\u001b[0m \u001b[0;32min\u001b[0m \u001b[0mlayer\u001b[0m\u001b[0;34m.\u001b[0m\u001b[0m_metrics\u001b[0m\u001b[0;34m]\u001b[0m  \u001b[0;31m# pylint: disable=protected-access\u001b[0m\u001b[0;34m\u001b[0m\u001b[0;34m\u001b[0m\u001b[0m\n\u001b[1;32m    481\u001b[0m     \u001b[0mmetrics_names\u001b[0m \u001b[0;34m+=\u001b[0m \u001b[0;34m[\u001b[0m\u001b[0mm\u001b[0m\u001b[0;34m.\u001b[0m\u001b[0mname\u001b[0m \u001b[0;32mfor\u001b[0m \u001b[0mm\u001b[0m \u001b[0;32min\u001b[0m \u001b[0mself\u001b[0m\u001b[0;34m.\u001b[0m\u001b[0m_metrics\u001b[0m\u001b[0;34m]\u001b[0m\u001b[0;34m\u001b[0m\u001b[0;34m\u001b[0m\u001b[0m\n",
      "\u001b[0;32m/usr/local/lib/python3.6/dist-packages/tensorflow/python/keras/engine/sequential.py\u001b[0m in \u001b[0;36mlayers\u001b[0;34m(self)\u001b[0m\n\u001b[1;32m    115\u001b[0m     \u001b[0;31m# `Trackable` manages the `_layers` attributes and does filtering\u001b[0m\u001b[0;34m\u001b[0m\u001b[0;34m\u001b[0m\u001b[0;34m\u001b[0m\u001b[0m\n\u001b[1;32m    116\u001b[0m     \u001b[0;31m# over it.\u001b[0m\u001b[0;34m\u001b[0m\u001b[0;34m\u001b[0m\u001b[0;34m\u001b[0m\u001b[0m\n\u001b[0;32m--> 117\u001b[0;31m     \u001b[0mlayers\u001b[0m \u001b[0;34m=\u001b[0m \u001b[0msuper\u001b[0m\u001b[0;34m(\u001b[0m\u001b[0mSequential\u001b[0m\u001b[0;34m,\u001b[0m \u001b[0mself\u001b[0m\u001b[0;34m)\u001b[0m\u001b[0;34m.\u001b[0m\u001b[0mlayers\u001b[0m\u001b[0;34m\u001b[0m\u001b[0;34m\u001b[0m\u001b[0m\n\u001b[0m\u001b[1;32m    118\u001b[0m     \u001b[0;32mif\u001b[0m \u001b[0mlayers\u001b[0m \u001b[0;32mand\u001b[0m \u001b[0misinstance\u001b[0m\u001b[0;34m(\u001b[0m\u001b[0mlayers\u001b[0m\u001b[0;34m[\u001b[0m\u001b[0;36m0\u001b[0m\u001b[0;34m]\u001b[0m\u001b[0;34m,\u001b[0m \u001b[0minput_layer\u001b[0m\u001b[0;34m.\u001b[0m\u001b[0mInputLayer\u001b[0m\u001b[0;34m)\u001b[0m\u001b[0;34m:\u001b[0m\u001b[0;34m\u001b[0m\u001b[0;34m\u001b[0m\u001b[0m\n\u001b[1;32m    119\u001b[0m       \u001b[0;32mreturn\u001b[0m \u001b[0mlayers\u001b[0m\u001b[0;34m[\u001b[0m\u001b[0;36m1\u001b[0m\u001b[0;34m:\u001b[0m\u001b[0;34m]\u001b[0m\u001b[0;34m\u001b[0m\u001b[0;34m\u001b[0m\u001b[0m\n",
      "\u001b[0;32m/usr/local/lib/python3.6/dist-packages/tensorflow/python/keras/engine/network.py\u001b[0m in \u001b[0;36mlayers\u001b[0;34m(self)\u001b[0m\n\u001b[1;32m    487\u001b[0m   \u001b[0;32mdef\u001b[0m \u001b[0mlayers\u001b[0m\u001b[0;34m(\u001b[0m\u001b[0mself\u001b[0m\u001b[0;34m)\u001b[0m\u001b[0;34m:\u001b[0m\u001b[0;34m\u001b[0m\u001b[0;34m\u001b[0m\u001b[0m\n\u001b[1;32m    488\u001b[0m     return trackable_layer_utils.filter_empty_layer_containers(\n\u001b[0;32m--> 489\u001b[0;31m         self._layers)\n\u001b[0m\u001b[1;32m    490\u001b[0m \u001b[0;34m\u001b[0m\u001b[0m\n\u001b[1;32m    491\u001b[0m   \u001b[0;32mdef\u001b[0m \u001b[0mget_layer\u001b[0m\u001b[0;34m(\u001b[0m\u001b[0mself\u001b[0m\u001b[0;34m,\u001b[0m \u001b[0mname\u001b[0m\u001b[0;34m=\u001b[0m\u001b[0;32mNone\u001b[0m\u001b[0;34m,\u001b[0m \u001b[0mindex\u001b[0m\u001b[0;34m=\u001b[0m\u001b[0;32mNone\u001b[0m\u001b[0;34m)\u001b[0m\u001b[0;34m:\u001b[0m\u001b[0;34m\u001b[0m\u001b[0;34m\u001b[0m\u001b[0m\n",
      "\u001b[0;32m/usr/local/lib/python3.6/dist-packages/tensorflow/python/training/tracking/layer_utils.py\u001b[0m in \u001b[0;36mfilter_empty_layer_containers\u001b[0;34m(layer_list)\u001b[0m\n\u001b[1;32m     48\u001b[0m       \u001b[0;32mcontinue\u001b[0m\u001b[0;34m\u001b[0m\u001b[0;34m\u001b[0m\u001b[0m\n\u001b[1;32m     49\u001b[0m     \u001b[0mexisting\u001b[0m\u001b[0;34m.\u001b[0m\u001b[0madd\u001b[0m\u001b[0;34m(\u001b[0m\u001b[0mobj\u001b[0m\u001b[0;34m)\u001b[0m\u001b[0;34m\u001b[0m\u001b[0;34m\u001b[0m\u001b[0m\n\u001b[0;32m---> 50\u001b[0;31m     \u001b[0;32mif\u001b[0m \u001b[0mis_layer\u001b[0m\u001b[0;34m(\u001b[0m\u001b[0mobj\u001b[0m\u001b[0;34m)\u001b[0m\u001b[0;34m:\u001b[0m\u001b[0;34m\u001b[0m\u001b[0;34m\u001b[0m\u001b[0m\n\u001b[0m\u001b[1;32m     51\u001b[0m       \u001b[0mfiltered\u001b[0m\u001b[0;34m.\u001b[0m\u001b[0mappend\u001b[0m\u001b[0;34m(\u001b[0m\u001b[0mobj\u001b[0m\u001b[0;34m)\u001b[0m\u001b[0;34m\u001b[0m\u001b[0;34m\u001b[0m\u001b[0m\n\u001b[1;32m     52\u001b[0m     \u001b[0;32melif\u001b[0m \u001b[0mhasattr\u001b[0m\u001b[0;34m(\u001b[0m\u001b[0mobj\u001b[0m\u001b[0;34m,\u001b[0m \u001b[0;34m\"layers\"\u001b[0m\u001b[0;34m)\u001b[0m\u001b[0;34m:\u001b[0m\u001b[0;34m\u001b[0m\u001b[0;34m\u001b[0m\u001b[0m\n",
      "\u001b[0;32m/usr/local/lib/python3.6/dist-packages/tensorflow/python/training/tracking/layer_utils.py\u001b[0m in \u001b[0;36mis_layer\u001b[0;34m(obj)\u001b[0m\n\u001b[1;32m     28\u001b[0m   \u001b[0;34m\"\"\"Implicit check for Layer-like objects.\"\"\"\u001b[0m\u001b[0;34m\u001b[0m\u001b[0;34m\u001b[0m\u001b[0m\n\u001b[1;32m     29\u001b[0m   \u001b[0;31m# TODO(b/110718070): Replace with isinstance(obj, base_layer.Layer).\u001b[0m\u001b[0;34m\u001b[0m\u001b[0;34m\u001b[0m\u001b[0;34m\u001b[0m\u001b[0m\n\u001b[0;32m---> 30\u001b[0;31m   \u001b[0;32mreturn\u001b[0m \u001b[0mhasattr\u001b[0m\u001b[0;34m(\u001b[0m\u001b[0mobj\u001b[0m\u001b[0;34m,\u001b[0m \u001b[0;34m\"_is_layer\"\u001b[0m\u001b[0;34m)\u001b[0m\u001b[0;34m\u001b[0m\u001b[0;34m\u001b[0m\u001b[0m\n\u001b[0m\u001b[1;32m     31\u001b[0m \u001b[0;34m\u001b[0m\u001b[0m\n\u001b[1;32m     32\u001b[0m \u001b[0;34m\u001b[0m\u001b[0m\n",
      "\u001b[0;31mKeyboardInterrupt\u001b[0m: "
     ]
    }
   ],
   "source": [
    "hist = dnn.fit(x_stat_train, y_stat_train,\n",
    "               validation_data = (filtered, y_stat_valid),\n",
    "              epochs = 200, verbose = 1,\n",
    "              callbacks = [learning_rate_reduction])"
   ]
  },
  {
   "cell_type": "markdown",
   "metadata": {},
   "source": [
    "## LightGBM"
   ]
  },
  {
   "cell_type": "code",
   "execution_count": 100,
   "metadata": {},
   "outputs": [],
   "source": [
    "import lightgbm as lgb"
   ]
  },
  {
   "cell_type": "code",
   "execution_count": 101,
   "metadata": {},
   "outputs": [],
   "source": [
    "def MAPE(y_true, y_pred): \n",
    "    y_true, y_pred = np.array(y_true), np.array(y_pred)\n",
    "    return np.mean(np.abs((y_true - y_pred) / y_true)) * 100"
   ]
  },
  {
   "cell_type": "markdown",
   "metadata": {},
   "source": [
    "## stat data(categorical values)"
   ]
  },
  {
   "cell_type": "code",
   "execution_count": 102,
   "metadata": {},
   "outputs": [
    {
     "name": "stdout",
     "output_type": "stream",
     "text": [
      "(31841, 18)\n",
      "(31841,)\n",
      "(3538, 18)\n",
      "(3538,)\n"
     ]
    }
   ],
   "source": [
    "X_stat = stat_data.drop(['취급액', 'profit/m'], axis = 1)\n",
    "Y_stat = stat_data['취급액']\n",
    "\n",
    "x_stat_train, x_stat_valid, y_stat_train, y_stat_valid = train_test_split(X_stat, Y_stat,\n",
    "                                                                         test_size = 0.1,\n",
    "                                                                         random_state = 123457)\n",
    "print(x_stat_train.shape)\n",
    "print(y_stat_train.shape)\n",
    "print(x_stat_valid.shape)\n",
    "print(y_stat_valid.shape)"
   ]
  },
  {
   "cell_type": "code",
   "execution_count": 103,
   "metadata": {},
   "outputs": [
    {
     "data": {
      "application/vnd.jupyter.widget-view+json": {
       "model_id": "cc0a872bc43845529b8003e8857544f4",
       "version_major": 2,
       "version_minor": 0
      },
      "text/plain": [
       "HBox(children=(FloatProgress(value=0.0, max=3538.0), HTML(value='')))"
      ]
     },
     "metadata": {},
     "output_type": "display_data"
    },
    {
     "name": "stderr",
     "output_type": "stream",
     "text": [
      "/usr/local/lib/python3.6/dist-packages/ipykernel_launcher.py:25: SettingWithCopyWarning: \n",
      "A value is trying to be set on a copy of a slice from a DataFrame.\n",
      "Try using .loc[row_indexer,col_indexer] = value instead\n",
      "\n",
      "See the caveats in the documentation: https://pandas.pydata.org/pandas-docs/stable/user_guide/indexing.html#returning-a-view-versus-a-copy\n"
     ]
    },
    {
     "name": "stdout",
     "output_type": "stream",
     "text": [
      "revision_count :  1\n",
      "revision_count :  2\n",
      "revision_count :  3\n",
      "revision_count :  4\n",
      "revision_count :  5\n",
      "revision_count :  6\n",
      "\n",
      "RangeIndex(start=0, stop=3538, step=1)\n",
      "[1121, 1125, 2248, 2419, 2747, 3180]\n"
     ]
    },
    {
     "name": "stderr",
     "output_type": "stream",
     "text": [
      "/home/yeeunlee/.local/lib/python3.6/site-packages/pandas/core/frame.py:6390: SettingWithCopyWarning: \n",
      "A value is trying to be set on a copy of a slice from a DataFrame.\n",
      "Try using .loc[row_indexer,col_indexer] = value instead\n",
      "\n",
      "See the caveats in the documentation: https://pandas.pydata.org/pandas-docs/stable/user_guide/indexing.html#returning-a-view-versus-a-copy\n",
      "  self[col] = expressions.where(mask, this, that)\n",
      "/home/yeeunlee/.local/lib/python3.6/site-packages/pandas/core/indexing.py:1765: SettingWithCopyWarning: \n",
      "A value is trying to be set on a copy of a slice from a DataFrame.\n",
      "Try using .loc[row_indexer,col_indexer] = value instead\n",
      "\n",
      "See the caveats in the documentation: https://pandas.pydata.org/pandas-docs/stable/user_guide/indexing.html#returning-a-view-versus-a-copy\n",
      "  isetter(loc, value)\n"
     ]
    }
   ],
   "source": [
    "# fiter validation\n",
    "filtered_valid = filtering(x_stat_train, x_stat_valid)"
   ]
  },
  {
   "cell_type": "code",
   "execution_count": 104,
   "metadata": {},
   "outputs": [],
   "source": [
    "x_stat_train = x_stat_train.drop(['마더코드', '상품코드'], axis = 1)\n",
    "filtered_valid = filtered_valid.drop(['마더코드', '상품코드'], axis = 1)"
   ]
  },
  {
   "cell_type": "code",
   "execution_count": 105,
   "metadata": {},
   "outputs": [
    {
     "data": {
      "text/html": [
       "<div>\n",
       "<style scoped>\n",
       "    .dataframe tbody tr th:only-of-type {\n",
       "        vertical-align: middle;\n",
       "    }\n",
       "\n",
       "    .dataframe tbody tr th {\n",
       "        vertical-align: top;\n",
       "    }\n",
       "\n",
       "    .dataframe thead th {\n",
       "        text-align: right;\n",
       "    }\n",
       "</style>\n",
       "<table border=\"1\" class=\"dataframe\">\n",
       "  <thead>\n",
       "    <tr style=\"text-align: right;\">\n",
       "      <th></th>\n",
       "      <th>상품군</th>\n",
       "      <th>week</th>\n",
       "      <th>hour</th>\n",
       "      <th>weekofyear</th>\n",
       "      <th>stage</th>\n",
       "      <th>prime</th>\n",
       "      <th>IsHoliday</th>\n",
       "      <th>노출(분)</th>\n",
       "      <th>판매단가</th>\n",
       "      <th>지속휴일수</th>\n",
       "      <th>TEMP</th>\n",
       "      <th>HUM</th>\n",
       "      <th>cpi</th>\n",
       "      <th>avgp</th>\n",
       "      <th>minp</th>\n",
       "      <th>maxp</th>\n",
       "    </tr>\n",
       "  </thead>\n",
       "  <tbody>\n",
       "    <tr>\n",
       "      <th>0</th>\n",
       "      <td>8.0</td>\n",
       "      <td>5.0</td>\n",
       "      <td>23.0</td>\n",
       "      <td>22.0</td>\n",
       "      <td>1.0</td>\n",
       "      <td>0.0</td>\n",
       "      <td>1.0</td>\n",
       "      <td>20.0</td>\n",
       "      <td>139000.0</td>\n",
       "      <td>2.0</td>\n",
       "      <td>3.204077</td>\n",
       "      <td>70.246698</td>\n",
       "      <td>104.03</td>\n",
       "      <td>4.636362e+05</td>\n",
       "      <td>64800.0</td>\n",
       "      <td>1.413800e+06</td>\n",
       "    </tr>\n",
       "    <tr>\n",
       "      <th>1</th>\n",
       "      <td>3.0</td>\n",
       "      <td>3.0</td>\n",
       "      <td>17.0</td>\n",
       "      <td>28.0</td>\n",
       "      <td>1.0</td>\n",
       "      <td>0.0</td>\n",
       "      <td>0.0</td>\n",
       "      <td>20.0</td>\n",
       "      <td>60900.0</td>\n",
       "      <td>0.0</td>\n",
       "      <td>24.053788</td>\n",
       "      <td>75.523431</td>\n",
       "      <td>104.73</td>\n",
       "      <td>2.676412e+06</td>\n",
       "      <td>832800.0</td>\n",
       "      <td>5.878000e+06</td>\n",
       "    </tr>\n",
       "    <tr>\n",
       "      <th>2</th>\n",
       "      <td>6.0</td>\n",
       "      <td>3.0</td>\n",
       "      <td>1.0</td>\n",
       "      <td>18.0</td>\n",
       "      <td>1.0</td>\n",
       "      <td>0.0</td>\n",
       "      <td>0.0</td>\n",
       "      <td>13.0</td>\n",
       "      <td>39900.0</td>\n",
       "      <td>0.0</td>\n",
       "      <td>22.176936</td>\n",
       "      <td>84.396548</td>\n",
       "      <td>105.19</td>\n",
       "      <td>8.795603e+05</td>\n",
       "      <td>704000.0</td>\n",
       "      <td>1.214231e+06</td>\n",
       "    </tr>\n",
       "    <tr>\n",
       "      <th>3</th>\n",
       "      <td>5.0</td>\n",
       "      <td>1.0</td>\n",
       "      <td>6.0</td>\n",
       "      <td>24.0</td>\n",
       "      <td>0.0</td>\n",
       "      <td>0.0</td>\n",
       "      <td>0.0</td>\n",
       "      <td>20.0</td>\n",
       "      <td>49900.0</td>\n",
       "      <td>0.0</td>\n",
       "      <td>25.293952</td>\n",
       "      <td>86.402449</td>\n",
       "      <td>104.40</td>\n",
       "      <td>2.031819e+06</td>\n",
       "      <td>521700.0</td>\n",
       "      <td>4.287600e+06</td>\n",
       "    </tr>\n",
       "    <tr>\n",
       "      <th>4</th>\n",
       "      <td>8.0</td>\n",
       "      <td>5.0</td>\n",
       "      <td>8.0</td>\n",
       "      <td>9.0</td>\n",
       "      <td>2.0</td>\n",
       "      <td>1.0</td>\n",
       "      <td>1.0</td>\n",
       "      <td>20.0</td>\n",
       "      <td>790000.0</td>\n",
       "      <td>3.0</td>\n",
       "      <td>14.156622</td>\n",
       "      <td>62.723329</td>\n",
       "      <td>105.29</td>\n",
       "      <td>8.178542e+05</td>\n",
       "      <td>86350.0</td>\n",
       "      <td>2.007400e+06</td>\n",
       "    </tr>\n",
       "  </tbody>\n",
       "</table>\n",
       "</div>"
      ],
      "text/plain": [
       "   상품군  week  hour  weekofyear  stage  prime  IsHoliday  노출(분)      판매단가  \\\n",
       "0  8.0   5.0  23.0        22.0    1.0    0.0        1.0   20.0  139000.0   \n",
       "1  3.0   3.0  17.0        28.0    1.0    0.0        0.0   20.0   60900.0   \n",
       "2  6.0   3.0   1.0        18.0    1.0    0.0        0.0   13.0   39900.0   \n",
       "3  5.0   1.0   6.0        24.0    0.0    0.0        0.0   20.0   49900.0   \n",
       "4  8.0   5.0   8.0         9.0    2.0    1.0        1.0   20.0  790000.0   \n",
       "\n",
       "   지속휴일수       TEMP        HUM     cpi          avgp      minp          maxp  \n",
       "0    2.0   3.204077  70.246698  104.03  4.636362e+05   64800.0  1.413800e+06  \n",
       "1    0.0  24.053788  75.523431  104.73  2.676412e+06  832800.0  5.878000e+06  \n",
       "2    0.0  22.176936  84.396548  105.19  8.795603e+05  704000.0  1.214231e+06  \n",
       "3    0.0  25.293952  86.402449  104.40  2.031819e+06  521700.0  4.287600e+06  \n",
       "4    3.0  14.156622  62.723329  105.29  8.178542e+05   86350.0  2.007400e+06  "
      ]
     },
     "execution_count": 105,
     "metadata": {},
     "output_type": "execute_result"
    }
   ],
   "source": [
    "filtered_valid.head()"
   ]
  },
  {
   "cell_type": "code",
   "execution_count": 106,
   "metadata": {},
   "outputs": [],
   "source": [
    "to_cat = ['상품군', 'week', 'hour', 'weekofyear', 'stage', 'prime', 'IsHoliday']\n",
    "\n",
    "for var in to_cat:\n",
    "    x_stat_train[var] = x_stat_train[var].astype('category')\n",
    "    filtered_valid[var] = filtered_valid[var].astype('category')   "
   ]
  },
  {
   "cell_type": "code",
   "execution_count": 109,
   "metadata": {},
   "outputs": [],
   "source": [
    "stat_train_ds = lgb.Dataset(x_stat_train, label = y_stat_train)\n",
    "stat_valid_ds = lgb.Dataset(filtered_valid, label = y_stat_valid)\n",
    "\n",
    "params = {'learning_rate': 0.05, \n",
    "          'max_depth': -1, \n",
    "          'boosting': 'gbdt', \n",
    "          'objective': 'regression', \n",
    "          'metric': 'mape', \n",
    "          'is_training_metric': True, \n",
    "          'num_leaves': 144, \n",
    "          'feature_fraction': 0.9, \n",
    "          'bagging_fraction': 0.7, \n",
    "          'bagging_freq': 5, \n",
    "          'seed':123457}"
   ]
  },
  {
   "cell_type": "code",
   "execution_count": 110,
   "metadata": {},
   "outputs": [
    {
     "name": "stdout",
     "output_type": "stream",
     "text": [
      "[LightGBM] [Warning] Auto-choosing row-wise multi-threading, the overhead of testing was 0.000769 seconds.\n",
      "You can set `force_row_wise=true` to remove the overhead.\n",
      "And if memory is not enough, you can set `force_col_wise=true`.\n",
      "[LightGBM] [Info] Total Bins 1668\n",
      "[LightGBM] [Info] Number of data points in the train set: 31841, number of used features: 16\n",
      "[LightGBM] [Info] Start training from score 23054854.151314\n",
      "Training until validation scores don't improve for 200 rounds\n",
      "[100]\tvalid_0's mape: 0.36804\n",
      "[200]\tvalid_0's mape: 0.336559\n",
      "[300]\tvalid_0's mape: 0.330492\n",
      "[400]\tvalid_0's mape: 0.328147\n",
      "[500]\tvalid_0's mape: 0.326835\n",
      "[600]\tvalid_0's mape: 0.326875\n",
      "[700]\tvalid_0's mape: 0.327863\n",
      "Early stopping, best iteration is:\n",
      "[582]\tvalid_0's mape: 0.326157\n"
     ]
    }
   ],
   "source": [
    "# 훈련\n",
    "model_1 = lgb.train(params, stat_train_ds, 4000, stat_valid_ds,\n",
    "                    verbose_eval=100, early_stopping_rounds = 200)"
   ]
  },
  {
   "cell_type": "code",
   "execution_count": null,
   "metadata": {},
   "outputs": [],
   "source": [
    "predict_train = model_1.predict(x_stat_train).reshape(-1, 1)\n",
    "predict_test = model_1.predict(filtered_valid).reshape(-1, 1)\n",
    "\n",
    "train_mape = MAPE(y_stat_train, predict_train)\n",
    "test_mape = MAPE(y_stat_valid, predict_test)\n",
    "\n",
    "print('train data MAPE: ', train_mape)\n",
    "print('test data MAPE: ', test_mape)"
   ]
  },
  {
   "cell_type": "code",
   "execution_count": null,
   "metadata": {},
   "outputs": [],
   "source": []
  },
  {
   "cell_type": "code",
   "execution_count": null,
   "metadata": {},
   "outputs": [],
   "source": []
  }
 ],
 "metadata": {
  "kernelspec": {
   "display_name": "Python 3",
   "language": "python",
   "name": "python3"
  },
  "language_info": {
   "codemirror_mode": {
    "name": "ipython",
    "version": 3
   },
   "file_extension": ".py",
   "mimetype": "text/x-python",
   "name": "python",
   "nbconvert_exporter": "python",
   "pygments_lexer": "ipython3",
   "version": "3.6.9"
  }
 },
 "nbformat": 4,
 "nbformat_minor": 4
}
