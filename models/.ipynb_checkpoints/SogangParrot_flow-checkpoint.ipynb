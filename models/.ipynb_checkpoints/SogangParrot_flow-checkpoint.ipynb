{
 "cells": [
  {
   "cell_type": "markdown",
   "metadata": {},
   "source": [
    "# 서강패럿(챔피언스리그, NS Shop+)\n",
    "\n",
    "### 머신러닝 기법을 활용한 편성 실적 예측\n",
    "- 시간 변수 전처리\n",
    "- 데이터 인코딩 및 스케일링\n",
    "- 메타 데이터 추가(날씨, CPI)\n",
    "- 상품 필터링 로직"
   ]
  },
  {
   "cell_type": "code",
   "execution_count": 1,
   "metadata": {},
   "outputs": [
    {
     "name": "stdout",
     "output_type": "stream",
     "text": [
      "numpy version :  1.16.0 , pandas version :  1.1.1\n"
     ]
    }
   ],
   "source": [
    "import numpy as np\n",
    "import pandas as pd\n",
    "import os\n",
    "print(\"numpy version : \", np.__version__, \", pandas version : \", pd.__version__)"
   ]
  },
  {
   "cell_type": "markdown",
   "metadata": {},
   "source": [
    "## 전처리된 데이터 로드\n",
    "\n",
    "1. 실적데이터(제공데이터)\n",
    "    - 요일(week), 주차(weekofyear), 시간(hour)\n",
    "    - 프라임타임(실적 기반, prime)\n",
    "    - 공휴일 여부(IsHoliday), 지속휴일수\n",
    "2. 날씨 데이터(날씨 API)\n",
    "    - 기온(TEMP), 습도(HUM)  \n",
    "3. 경제지표\n",
    "    - CPI(소비자 물가지수)\n",
    "4. 십진수로 Ordinal Encoded\n",
    "    - obj = ['마더코드', '상품코드', '상품군', 'week', 'hour', 'weekofyear']\n",
    "5. Binary encoded"
   ]
  },
  {
   "cell_type": "code",
   "execution_count": 2,
   "metadata": {},
   "outputs": [],
   "source": [
    "# 데이터 저장과정에서 생길 수 있는 unnamed column 제거\n",
    "def drop_unnamed(data):\n",
    "    names = data.columns\n",
    "    for name in names:\n",
    "        if \"Unnamed\" in name:\n",
    "            data.pop(name)\n",
    "    return data"
   ]
  },
  {
   "cell_type": "code",
   "execution_count": 3,
   "metadata": {},
   "outputs": [
    {
     "data": {
      "text/html": [
       "<div>\n",
       "<style scoped>\n",
       "    .dataframe tbody tr th:only-of-type {\n",
       "        vertical-align: middle;\n",
       "    }\n",
       "\n",
       "    .dataframe tbody tr th {\n",
       "        vertical-align: top;\n",
       "    }\n",
       "\n",
       "    .dataframe thead th {\n",
       "        text-align: right;\n",
       "    }\n",
       "</style>\n",
       "<table border=\"1\" class=\"dataframe\">\n",
       "  <thead>\n",
       "    <tr style=\"text-align: right;\">\n",
       "      <th></th>\n",
       "      <th>방송일시</th>\n",
       "      <th>노출(분)</th>\n",
       "      <th>마더코드</th>\n",
       "      <th>상품코드</th>\n",
       "      <th>상품명</th>\n",
       "      <th>상품군</th>\n",
       "      <th>판매단가</th>\n",
       "      <th>취급액</th>\n",
       "      <th>date</th>\n",
       "      <th>week</th>\n",
       "      <th>...</th>\n",
       "      <th>g_3</th>\n",
       "      <th>s_0</th>\n",
       "      <th>s_1</th>\n",
       "      <th>w_0</th>\n",
       "      <th>w_1</th>\n",
       "      <th>w_2</th>\n",
       "      <th>w_3</th>\n",
       "      <th>w_4</th>\n",
       "      <th>w_5</th>\n",
       "      <th>cpi</th>\n",
       "    </tr>\n",
       "  </thead>\n",
       "  <tbody>\n",
       "    <tr>\n",
       "      <th>0</th>\n",
       "      <td>2019-01-01 06:00:00</td>\n",
       "      <td>20.0</td>\n",
       "      <td>296</td>\n",
       "      <td>891</td>\n",
       "      <td>테이트 남성 셀린니트3종</td>\n",
       "      <td>6</td>\n",
       "      <td>39900</td>\n",
       "      <td>2099000.0</td>\n",
       "      <td>2019-01-01 00:00:00</td>\n",
       "      <td>1</td>\n",
       "      <td>...</td>\n",
       "      <td>0</td>\n",
       "      <td>0</td>\n",
       "      <td>0</td>\n",
       "      <td>0</td>\n",
       "      <td>0</td>\n",
       "      <td>0</td>\n",
       "      <td>0</td>\n",
       "      <td>0</td>\n",
       "      <td>0</td>\n",
       "      <td>104.03</td>\n",
       "    </tr>\n",
       "    <tr>\n",
       "      <th>1</th>\n",
       "      <td>2019-01-01 06:00:00</td>\n",
       "      <td>20.0</td>\n",
       "      <td>296</td>\n",
       "      <td>898</td>\n",
       "      <td>테이트 여성 셀린니트3종</td>\n",
       "      <td>6</td>\n",
       "      <td>39900</td>\n",
       "      <td>4371000.0</td>\n",
       "      <td>2019-01-01 00:00:00</td>\n",
       "      <td>1</td>\n",
       "      <td>...</td>\n",
       "      <td>0</td>\n",
       "      <td>0</td>\n",
       "      <td>0</td>\n",
       "      <td>0</td>\n",
       "      <td>0</td>\n",
       "      <td>0</td>\n",
       "      <td>0</td>\n",
       "      <td>0</td>\n",
       "      <td>0</td>\n",
       "      <td>104.03</td>\n",
       "    </tr>\n",
       "  </tbody>\n",
       "</table>\n",
       "<p>2 rows × 54 columns</p>\n",
       "</div>"
      ],
      "text/plain": [
       "                  방송일시  노출(분)  마더코드  상품코드            상품명  상품군   판매단가  \\\n",
       "0  2019-01-01 06:00:00   20.0   296   891  테이트 남성 셀린니트3종    6  39900   \n",
       "1  2019-01-01 06:00:00   20.0   296   898  테이트 여성 셀린니트3종    6  39900   \n",
       "\n",
       "         취급액                 date  week  ... g_3  s_0  s_1 w_0  w_1  w_2  w_3  \\\n",
       "0  2099000.0  2019-01-01 00:00:00     1  ...   0    0    0   0    0    0    0   \n",
       "1  4371000.0  2019-01-01 00:00:00     1  ...   0    0    0   0    0    0    0   \n",
       "\n",
       "   w_4  w_5     cpi  \n",
       "0    0    0  104.03  \n",
       "1    0    0  104.03  \n",
       "\n",
       "[2 rows x 54 columns]"
      ]
     },
     "execution_count": 3,
     "metadata": {},
     "output_type": "execute_result"
    }
   ],
   "source": [
    "pf = drop_unnamed(pd.read_csv(\"~/bigcon2020_parrot/prep/data/final_performance_v4.csv\"))\n",
    "pf.head(2)"
   ]
  },
  {
   "cell_type": "code",
   "execution_count": 4,
   "metadata": {},
   "outputs": [
    {
     "data": {
      "text/plain": [
       "35379"
      ]
     },
     "execution_count": 4,
     "metadata": {},
     "output_type": "execute_result"
    }
   ],
   "source": [
    "len(pf)"
   ]
  },
  {
   "cell_type": "markdown",
   "metadata": {},
   "source": [
    "## 방송 초/중/후반 정보 삽입"
   ]
  },
  {
   "cell_type": "code",
   "execution_count": 5,
   "metadata": {},
   "outputs": [],
   "source": [
    "pf['cumcount'] = pf.groupby(['date', '상품코드'])['노출(분)'].cumcount()+1\n",
    "pf = pf.merge(pf.groupby(['date', '상품코드'])['노출(분)'].count().reset_index().rename({'노출(분)' : 'count'}, axis = 1),\n",
    "              on = ['date', '상품코드'])\n",
    "pf['p'] = pf['cumcount']/pf['count']"
   ]
  },
  {
   "cell_type": "code",
   "execution_count": 6,
   "metadata": {},
   "outputs": [],
   "source": [
    "def stage(x):\n",
    "    if x < 0.34:\n",
    "        return 0 # early\n",
    "    elif 0.34 <= x < 0.67:\n",
    "        return 1 # mid\n",
    "    return 2 # late\n",
    "\n",
    "def stage_advanced(x):\n",
    "    if x['count'] == 1:\n",
    "        return -1 # short\n",
    "    if x['count'] == 2:\n",
    "        if x['p'] <= 0.5:\n",
    "            return 0 # early\n",
    "        else:\n",
    "            return 2 # late\n",
    "    else:\n",
    "        return stage(x['p'])"
   ]
  },
  {
   "cell_type": "code",
   "execution_count": 7,
   "metadata": {},
   "outputs": [
    {
     "data": {
      "text/html": [
       "<div>\n",
       "<style scoped>\n",
       "    .dataframe tbody tr th:only-of-type {\n",
       "        vertical-align: middle;\n",
       "    }\n",
       "\n",
       "    .dataframe tbody tr th {\n",
       "        vertical-align: top;\n",
       "    }\n",
       "\n",
       "    .dataframe thead th {\n",
       "        text-align: right;\n",
       "    }\n",
       "</style>\n",
       "<table border=\"1\" class=\"dataframe\">\n",
       "  <thead>\n",
       "    <tr style=\"text-align: right;\">\n",
       "      <th></th>\n",
       "      <th>방송일시</th>\n",
       "      <th>노출(분)</th>\n",
       "      <th>마더코드</th>\n",
       "      <th>상품코드</th>\n",
       "      <th>상품명</th>\n",
       "      <th>상품군</th>\n",
       "      <th>판매단가</th>\n",
       "      <th>취급액</th>\n",
       "      <th>date</th>\n",
       "      <th>week</th>\n",
       "      <th>...</th>\n",
       "      <th>w_0</th>\n",
       "      <th>w_1</th>\n",
       "      <th>w_2</th>\n",
       "      <th>w_3</th>\n",
       "      <th>w_4</th>\n",
       "      <th>w_5</th>\n",
       "      <th>cpi</th>\n",
       "      <th>cumcount</th>\n",
       "      <th>count</th>\n",
       "      <th>p</th>\n",
       "    </tr>\n",
       "  </thead>\n",
       "  <tbody>\n",
       "    <tr>\n",
       "      <th>0</th>\n",
       "      <td>2019-01-01 06:00:00</td>\n",
       "      <td>20.0</td>\n",
       "      <td>296</td>\n",
       "      <td>891</td>\n",
       "      <td>테이트 남성 셀린니트3종</td>\n",
       "      <td>6</td>\n",
       "      <td>39900</td>\n",
       "      <td>2099000.0</td>\n",
       "      <td>2019-01-01 00:00:00</td>\n",
       "      <td>1</td>\n",
       "      <td>...</td>\n",
       "      <td>0</td>\n",
       "      <td>0</td>\n",
       "      <td>0</td>\n",
       "      <td>0</td>\n",
       "      <td>0</td>\n",
       "      <td>0</td>\n",
       "      <td>104.03</td>\n",
       "      <td>1</td>\n",
       "      <td>3</td>\n",
       "      <td>0.333333</td>\n",
       "    </tr>\n",
       "  </tbody>\n",
       "</table>\n",
       "<p>1 rows × 57 columns</p>\n",
       "</div>"
      ],
      "text/plain": [
       "                  방송일시  노출(분)  마더코드  상품코드            상품명  상품군   판매단가  \\\n",
       "0  2019-01-01 06:00:00   20.0   296   891  테이트 남성 셀린니트3종    6  39900   \n",
       "\n",
       "         취급액                 date  week  ... w_0  w_1  w_2 w_3  w_4  w_5  \\\n",
       "0  2099000.0  2019-01-01 00:00:00     1  ...   0    0    0   0    0    0   \n",
       "\n",
       "      cpi  cumcount  count         p  \n",
       "0  104.03         1      3  0.333333  \n",
       "\n",
       "[1 rows x 57 columns]"
      ]
     },
     "execution_count": 7,
     "metadata": {},
     "output_type": "execute_result"
    }
   ],
   "source": [
    "pf['stage'] = pf.apply(stage_advanced, axis=1)\n",
    "pf.head(1)"
   ]
  },
  {
   "cell_type": "code",
   "execution_count": 8,
   "metadata": {},
   "outputs": [],
   "source": [
    "del pf['cumcount']\n",
    "del pf['count']\n",
    "del pf['p']"
   ]
  },
  {
   "cell_type": "markdown",
   "metadata": {},
   "source": [
    "## 데이터 인코딩(scikit learn)\n",
    "1. Ordinal Encoing(sklearn.preprocessing.LabelEncoder)\n",
    "2. Binary Encoding(User defined)"
   ]
  },
  {
   "cell_type": "code",
   "execution_count": 9,
   "metadata": {},
   "outputs": [],
   "source": [
    "import sklearn\n",
    "from sklearn.preprocessing import LabelEncoder, MinMaxScaler\n",
    "from tqdm.auto import tqdm"
   ]
  },
  {
   "cell_type": "code",
   "execution_count": 10,
   "metadata": {},
   "outputs": [],
   "source": [
    "\"\"\"\n",
    "object를 인코딩해주는데, timestamp와 같이 변환하면 안되는 컬럼들이 있으므로,\n",
    "변환할 컬럼들을 지정해준다.\n",
    "stage는 ordinal하게 만들게 되면, 알파벳 순으로 late가 mid보다 앞에 위치하므로\n",
    "인코딩을 따로 진행해 준다.\n",
    "\"\"\"\n",
    "# data type set\n",
    "obj = ['마더코드', '상품코드', '상품군', 'week', 'hour', 'weekofyear']"
   ]
  },
  {
   "cell_type": "code",
   "execution_count": 11,
   "metadata": {},
   "outputs": [],
   "source": [
    "# # Encoding into DECIMAL values\n",
    "# dtypes = pf.dtypes\n",
    "# encoders = {}\n",
    "\n",
    "# # 미리 지정한 obj 컬럼들에 대해서만 인코딩 진행\n",
    "# for column in obj:\n",
    "#     if str(dtypes[column]) == 'object':\n",
    "#         encoder = LabelEncoder()\n",
    "#         encoder.fit(pf[column])\n",
    "#         encoders[column] = encoder\n",
    "\n",
    "# _data = pf.copy()\n",
    "# for column in encoders.keys():\n",
    "#     encoder = encoders[column]\n",
    "#     # 인코딩 정보 저장\n",
    "#     np.save(column+'_classes.npy', encoder.classes_)\n",
    "#     _data[column] = encoder.transform(pf[column])"
   ]
  },
  {
   "cell_type": "code",
   "execution_count": 12,
   "metadata": {},
   "outputs": [
    {
     "name": "stdout",
     "output_type": "stream",
     "text": [
      "### 바이너리 인코딩 시 최대 길이 ###\n"
     ]
    },
    {
     "data": {
      "text/plain": [
       "마더코드          10\n",
       "상품코드          11\n",
       "상품군            4\n",
       "week           3\n",
       "hour           5\n",
       "weekofyear     6\n",
       "Name: max, dtype: int64"
      ]
     },
     "execution_count": 12,
     "metadata": {},
     "output_type": "execute_result"
    }
   ],
   "source": [
    "print('### 바이너리 인코딩 시 최대 길이 ###')\n",
    "pf.describe()[obj].loc['max'].apply(lambda x: len(bin(int(x)).replace(\"0b\", \"\")))"
   ]
  },
  {
   "cell_type": "code",
   "execution_count": 13,
   "metadata": {},
   "outputs": [],
   "source": [
    "# categorical variables to binary encoding\n",
    "# bin(max(_data['상품명'])).replace(\"0b\", '')\n",
    "\n",
    "def binary_encoding(name, x):\n",
    "    # x : column\n",
    "    if name == '마더코드':\n",
    "        value = bin(x).replace(\"0b\", \"\")\n",
    "        return list(map(int, '0'*(10-len(value))+value))\n",
    "    if name == '상품코드':\n",
    "        value = bin(x).replace(\"0b\", \"\")\n",
    "        return list(map(int, '0'*(11-len(value))+value))\n",
    "    if name == 'week':\n",
    "        value = bin(x).replace(\"0b\", \"\")\n",
    "        return list(map(int, '0'*(3-len(value))+value))\n",
    "    if name == 'hour':\n",
    "        value = bin(x).replace(\"0b\", \"\")\n",
    "        return list(map(int, '0'*(5-len(value))+value))\n",
    "    if name == 'weekofyear':\n",
    "        value = bin(x).replace(\"0b\", \"\")\n",
    "        return list(map(int, '0'*(6-len(value))+value))\n",
    "    else: # 상품군\n",
    "        value = bin(x).replace(\"0b\", \"\")\n",
    "        return list(map(int, '0'*(4-len(value))+value))"
   ]
  },
  {
   "cell_type": "code",
   "execution_count": 14,
   "metadata": {},
   "outputs": [],
   "source": [
    "# apply on dataframe\n",
    "\n",
    "def binary_execute(df):\n",
    "    # 마더코드\n",
    "    df[['m_'+str(i) for i in range(10)]] = df['마더코드'].apply(lambda x: binary_encoding('마더코드', x)).to_list()\n",
    "    \n",
    "    # 상품코드\n",
    "    df[['p_'+str(i) for i in range(11)]] = df['상품코드'].apply(lambda x: binary_encoding('상품코드', x)).to_list()\n",
    "    \n",
    "    # 상품군\n",
    "    df[['g_'+str(i) for i in range(4)]] = df['상품군'].apply(lambda x: binary_encoding('상품군', x)).to_list()\n",
    "    \n",
    "    # week\n",
    "    df[['wd_'+str(i) for i in range(3)]] = df['week'].apply(lambda x: binary_encoding('week', x)).to_list()\n",
    "    \n",
    "    # weekofyear\n",
    "    df[['wy_'+str(i) for i in range(6)]] = df['weekofyear'].apply(lambda x: binary_encoding('weekofyear', x)).to_list()\n",
    "    \n",
    "    # hour\n",
    "    df[['h_'+str(i) for i in range(5)]] = df['hour'].apply(lambda x: binary_encoding('hour', x)).to_list()\n",
    "    \n",
    "    # 사용하지 않는 컬럼 삭제\n",
    "    df = df.drop(['마더코드', '상품코드', '상품명', '상품군',\n",
    "                  '방송일시', 'date', 'time', 'real_date'], axis = 1)\n",
    "    return df\n",
    "\n",
    "# final = binary_execute(_data)\n",
    "# display(final.head(1))\n",
    "# print(\"(bin)features : \", final.columns)\n",
    "# print(\"(bin)num of features : \", len(final.columns))"
   ]
  },
  {
   "cell_type": "code",
   "execution_count": 15,
   "metadata": {},
   "outputs": [
    {
     "data": {
      "text/html": [
       "<div>\n",
       "<style scoped>\n",
       "    .dataframe tbody tr th:only-of-type {\n",
       "        vertical-align: middle;\n",
       "    }\n",
       "\n",
       "    .dataframe tbody tr th {\n",
       "        vertical-align: top;\n",
       "    }\n",
       "\n",
       "    .dataframe thead th {\n",
       "        text-align: right;\n",
       "    }\n",
       "</style>\n",
       "<table border=\"1\" class=\"dataframe\">\n",
       "  <thead>\n",
       "    <tr style=\"text-align: right;\">\n",
       "      <th></th>\n",
       "      <th>노출(분)</th>\n",
       "      <th>판매단가</th>\n",
       "      <th>취급액</th>\n",
       "      <th>week</th>\n",
       "      <th>hour</th>\n",
       "      <th>prime</th>\n",
       "      <th>IsHoliday</th>\n",
       "      <th>지속휴일수</th>\n",
       "      <th>TEMP</th>\n",
       "      <th>HUM</th>\n",
       "      <th>...</th>\n",
       "      <th>g_3</th>\n",
       "      <th>s_0</th>\n",
       "      <th>s_1</th>\n",
       "      <th>w_0</th>\n",
       "      <th>w_1</th>\n",
       "      <th>w_2</th>\n",
       "      <th>w_3</th>\n",
       "      <th>w_4</th>\n",
       "      <th>w_5</th>\n",
       "      <th>cpi</th>\n",
       "    </tr>\n",
       "  </thead>\n",
       "  <tbody>\n",
       "    <tr>\n",
       "      <th>0</th>\n",
       "      <td>20.0</td>\n",
       "      <td>39900</td>\n",
       "      <td>2099000.0</td>\n",
       "      <td>1</td>\n",
       "      <td>6</td>\n",
       "      <td>0</td>\n",
       "      <td>1.0</td>\n",
       "      <td>1.0</td>\n",
       "      <td>-6.576974</td>\n",
       "      <td>63.524958</td>\n",
       "      <td>...</td>\n",
       "      <td>0</td>\n",
       "      <td>0</td>\n",
       "      <td>0</td>\n",
       "      <td>0</td>\n",
       "      <td>0</td>\n",
       "      <td>0</td>\n",
       "      <td>0</td>\n",
       "      <td>0</td>\n",
       "      <td>0</td>\n",
       "      <td>104.03</td>\n",
       "    </tr>\n",
       "    <tr>\n",
       "      <th>1</th>\n",
       "      <td>20.0</td>\n",
       "      <td>39900</td>\n",
       "      <td>3262000.0</td>\n",
       "      <td>1</td>\n",
       "      <td>6</td>\n",
       "      <td>0</td>\n",
       "      <td>1.0</td>\n",
       "      <td>1.0</td>\n",
       "      <td>-6.576974</td>\n",
       "      <td>63.524958</td>\n",
       "      <td>...</td>\n",
       "      <td>0</td>\n",
       "      <td>1</td>\n",
       "      <td>0</td>\n",
       "      <td>0</td>\n",
       "      <td>0</td>\n",
       "      <td>0</td>\n",
       "      <td>0</td>\n",
       "      <td>0</td>\n",
       "      <td>0</td>\n",
       "      <td>104.03</td>\n",
       "    </tr>\n",
       "  </tbody>\n",
       "</table>\n",
       "<p>2 rows × 46 columns</p>\n",
       "</div>"
      ],
      "text/plain": [
       "   노출(분)   판매단가        취급액  week  hour  prime  IsHoliday  지속휴일수      TEMP  \\\n",
       "0   20.0  39900  2099000.0     1     6      0        1.0    1.0 -6.576974   \n",
       "1   20.0  39900  3262000.0     1     6      0        1.0    1.0 -6.576974   \n",
       "\n",
       "         HUM  ...  g_3  s_0  s_1  w_0  w_1  w_2  w_3  w_4  w_5     cpi  \n",
       "0  63.524958  ...    0    0    0    0    0    0    0    0    0  104.03  \n",
       "1  63.524958  ...    0    1    0    0    0    0    0    0    0  104.03  \n",
       "\n",
       "[2 rows x 46 columns]"
      ]
     },
     "execution_count": 15,
     "metadata": {},
     "output_type": "execute_result"
    }
   ],
   "source": [
    "from sklearn.model_selection import train_test_split\n",
    "# 사용하지 않는 컬럼 삭제\n",
    "pf = pf.drop(['마더코드', '상품코드', '상품명', '상품군',\n",
    "              '방송일시', 'date', 'time', 'real_date'], axis = 1)\n",
    "pf.head(2)"
   ]
  },
  {
   "cell_type": "code",
   "execution_count": 16,
   "metadata": {},
   "outputs": [],
   "source": [
    "X = pf.drop(['취급액'], axis = 1)\n",
    "Y = pf[['취급액']]"
   ]
  },
  {
   "cell_type": "code",
   "execution_count": 18,
   "metadata": {},
   "outputs": [
    {
     "name": "stdout",
     "output_type": "stream",
     "text": [
      "x_train :  (28303, 45)\n",
      "y_train :  (28303, 1)\n",
      "x_valid :  (7076, 45)\n",
      "y_valid :  (7076, 1)\n"
     ]
    }
   ],
   "source": [
    "# without any scaling method\n",
    "x_train, x_valid, y_train, y_valid = train_test_split(X, Y, test_size=0.2, random_state=321)\n",
    "\n",
    "\n",
    "print(\"x_train : \", x_train.shape)\n",
    "print(\"y_train : \", y_train.shape)\n",
    "print(\"x_valid : \", x_valid.shape)\n",
    "print(\"y_valid : \", y_valid.shape)"
   ]
  },
  {
   "cell_type": "markdown",
   "metadata": {},
   "source": [
    "## Data Scaling(not yet)\n",
    "\n",
    "- Log transformation(np.log)\n",
    "- Min-Max scaling\\\n",
    "..."
   ]
  },
  {
   "cell_type": "code",
   "execution_count": 19,
   "metadata": {},
   "outputs": [],
   "source": [
    "import seaborn as sns\n",
    "import matplotlib.pyplot as plt\n",
    "%matplotlib inline"
   ]
  },
  {
   "cell_type": "code",
   "execution_count": 21,
   "metadata": {},
   "outputs": [],
   "source": [
    "# temp = _data[['weekofyear', 'TEMP', 'HUM']].groupby('weekofyear').sum().reset_index()\n",
    "# plt.bar(temp['weekofyear'], temp['TEMP'])"
   ]
  },
  {
   "cell_type": "code",
   "execution_count": 22,
   "metadata": {},
   "outputs": [],
   "source": [
    "# temp = _data[['weekofyear', 'TEMP', 'HUM']].groupby('weekofyear').sum().reset_index()\n",
    "# plt.bar(temp['weekofyear'], np.log(temp['TEMP']))"
   ]
  },
  {
   "cell_type": "code",
   "execution_count": 24,
   "metadata": {},
   "outputs": [],
   "source": [
    "# plt.bar(temp['weekofyear'], temp['HUM'], color = 'red')"
   ]
  },
  {
   "cell_type": "code",
   "execution_count": 25,
   "metadata": {},
   "outputs": [],
   "source": [
    "# plt.bar(temp['weekofyear'], np.log(temp['HUM']), color = 'red')"
   ]
  },
  {
   "cell_type": "code",
   "execution_count": 26,
   "metadata": {},
   "outputs": [],
   "source": [
    "# temp_2 = _data[['weekofyear', 'cpi']].groupby('weekofyear').sum().reset_index()\n",
    "# plt.bar(temp_2['weekofyear'], temp_2['cpi'], color = 'green')"
   ]
  },
  {
   "cell_type": "code",
   "execution_count": null,
   "metadata": {},
   "outputs": [],
   "source": []
  }
 ],
 "metadata": {
  "kernelspec": {
   "display_name": "Python 3",
   "language": "python",
   "name": "python3"
  },
  "language_info": {
   "codemirror_mode": {
    "name": "ipython",
    "version": 3
   },
   "file_extension": ".py",
   "mimetype": "text/x-python",
   "name": "python",
   "nbconvert_exporter": "python",
   "pygments_lexer": "ipython3",
   "version": "3.6.9"
  }
 },
 "nbformat": 4,
 "nbformat_minor": 4
}
